{
 "cells": [
  {
   "cell_type": "markdown",
   "metadata": {},
   "source": [
    "# SpaCy"
   ]
  },
  {
   "cell_type": "markdown",
   "metadata": {},
   "source": [
    "### Création d'un objet nlp en langue française"
   ]
  },
  {
   "cell_type": "code",
   "execution_count": 1,
   "metadata": {},
   "outputs": [],
   "source": [
    "#Importer la classe de langue \"French\"\n",
    "from spacy.lang.fr import French\n",
    "import spacy\n",
    "# Création de l'objet nlp avec cet objet, nous pouvons faire que\n",
    "# la Tokenisation pas le reste des fonctionnalités de pipeline de nlp \n",
    "nlp = French()\n"
   ]
  },
  {
   "cell_type": "markdown",
   "metadata": {},
   "source": [
    "### Télécharger le modèle pré-entraîné de la langue française."
   ]
  },
  {
   "cell_type": "code",
   "execution_count": 2,
   "metadata": {},
   "outputs": [
    {
     "data": {
      "text/plain": [
       "['tok2vec', 'morphologizer', 'parser', 'ner', 'attribute_ruler', 'lemmatizer']"
      ]
     },
     "execution_count": 2,
     "metadata": {},
     "output_type": "execute_result"
    }
   ],
   "source": [
    "# Charger le paquet de modèle de la langue française \n",
    "# pour avoir accès à toutes les fonctionnalités de pipeline.\n",
    "nlp = spacy.load(\"fr_core_news_sm\")\n",
    " #liste de noms des composants du pipeline\n",
    "nlp.pipe_names\n"
   ]
  },
  {
   "cell_type": "code",
   "execution_count": 17,
   "metadata": {},
   "outputs": [
    {
     "data": {
      "text/plain": [
       "False"
      ]
     },
     "execution_count": 17,
     "metadata": {},
     "output_type": "execute_result"
    }
   ],
   "source": [
    "# Vérifions si un composant particulier (par exemple test)est présent dans le pipline\n",
    "nlp.has_pipe('test')"
   ]
  },
  {
   "cell_type": "markdown",
   "metadata": {},
   "source": [
    "### Créons et ajoutons un composant au pipeline."
   ]
  },
  {
   "cell_type": "code",
   "execution_count": 8,
   "metadata": {},
   "outputs": [
    {
     "data": {
      "text/plain": [
       "['composant', 'tagger', 'parser', 'ner']"
      ]
     },
     "execution_count": 8,
     "metadata": {},
     "output_type": "execute_result"
    }
   ],
   "source": [
    "# Declarons une fonction qui ajoute un indice a chaque token\n",
    "def composant(doc):\n",
    "    # Effectue une action sur le doc\n",
    "    return doc\n",
    "# Ajoute le composant en premier dans le pipeline\n",
    "nlp.add_pipe(composant,  first=True)\n",
    "nlp.pipe_names"
   ]
  },
  {
   "cell_type": "code",
   "execution_count": 9,
   "metadata": {},
   "outputs": [
    {
     "data": {
      "text/plain": [
       "['tagger', 'parser', 'ner']"
      ]
     },
     "execution_count": 9,
     "metadata": {},
     "output_type": "execute_result"
    }
   ],
   "source": [
    "nlp.remove_pipe(\"composant\") #supprimer le composant du pipeline\n",
    "nlp.pipe_names"
   ]
  },
  {
   "cell_type": "markdown",
   "metadata": {},
   "source": [
    "### Créons et ajoutons un composant au pipeline avec la version 3."
   ]
  },
  {
   "cell_type": "code",
   "execution_count": 7,
   "metadata": {},
   "outputs": [
    {
     "data": {
      "text/plain": [
       "['tok2vec',\n",
       " 'morphologizer',\n",
       " 'parser',\n",
       " 'ner',\n",
       " 'attribute_ruler',\n",
       " 'lemmatizer',\n",
       " 'composant']"
      ]
     },
     "execution_count": 7,
     "metadata": {},
     "output_type": "execute_result"
    }
   ],
   "source": [
    "from spacy.language import Language\n",
    "# Utilisation comme décorateur\n",
    "@Language.component(\"composant\")\n",
    "def composant(doc):\n",
    "    # le corps de la fonction \n",
    "    return doc\n",
    "# Utilisation de la fonction\n",
    "Language.component(\"composant\", func=composant)\n",
    "nlp.add_pipe(\"composant\")\n",
    "nlp.pipe_names"
   ]
  },
  {
   "cell_type": "code",
   "execution_count": 8,
   "metadata": {},
   "outputs": [
    {
     "data": {
      "text/plain": [
       "['tok2vec', 'morphologizer', 'parser', 'ner', 'attribute_ruler', 'lemmatizer']"
      ]
     },
     "execution_count": 8,
     "metadata": {},
     "output_type": "execute_result"
    }
   ],
   "source": [
    "nlp.remove_pipe(\"composant\") #supprimer le composant du pipeline\n",
    "nlp.pipe_names"
   ]
  },
  {
   "cell_type": "markdown",
   "metadata": {},
   "source": [
    "### Création de l'objet “Doc” avec la Tokenisation"
   ]
  },
  {
   "cell_type": "code",
   "execution_count": 8,
   "metadata": {},
   "outputs": [
    {
     "name": "stdout",
     "output_type": "stream",
     "text": [
      "Solidaire\n",
      "Etudiant\n",
      "-\n",
      "e\n",
      "-\n",
      "s\n",
      "ne\n",
      "peut\n",
      "faire\n",
      "interdire\n",
      "une\n",
      "conférence\n",
      "ou\n",
      "autre\n",
      "\n",
      "\n",
      "manifestation\n",
      "organisée\n",
      "par\n",
      "un\n",
      "enseignant\n",
      "(\n",
      "et\n",
      "pas\n",
      "l’\n",
      "Université\n",
      "elle-même\n",
      ")\n",
      ",\n",
      "si\n",
      "elle\n",
      "est\n",
      "\n",
      "\n",
      "conforme\n",
      "à\n",
      "la\n",
      "loi\n",
      ".\n",
      "C’\n",
      "est\n",
      "contraire\n",
      "au\n",
      "principe\n",
      "constitutionnel\n",
      "d’\n",
      "indépendance\n",
      "des\n",
      "\n",
      "\n",
      "professeurs\n",
      "d’\n",
      "université\n",
      ".\n",
      "Il\n",
      "peut\n",
      "toutefois\n",
      "participer\n",
      "au\n",
      "débat\n",
      "et\n",
      "veiller\n",
      "à\n",
      "ce\n",
      "qu’\n",
      "aucun\n",
      "\n",
      "\n",
      "message\n",
      "illégal\n",
      "et\n",
      "partial\n",
      "ne\n",
      "soit\n",
      "délivré\n",
      ".\n"
     ]
    }
   ],
   "source": [
    "#Notre text\n",
    "text = \"\"\"Solidaire Etudiant-e-s ne peut faire interdire une conférence ou autre \n",
    "manifestation organisée par un enseignant (et pas l’Université elle-même), si elle est \n",
    "conforme à la loi. C’est contraire au principe constitutionnel d’indépendance des \n",
    "professeurs d’université. Il peut toutefois participer au débat et veiller à ce qu’aucun \n",
    "message illégal et partial ne soit délivré.\"\"\"\n",
    "# Création d'un objet doc en traitant une chaine de caractères avec l'objet nlp\n",
    "doc = nlp(text)\n",
    "# Parcourir sur les tokens dans un Doc\n",
    "for token in doc:\n",
    "        print(token.text)  "
   ]
  },
  {
   "cell_type": "markdown",
   "metadata": {},
   "source": [
    "### Creation des phrases à partir des tokens"
   ]
  },
  {
   "cell_type": "code",
   "execution_count": 19,
   "metadata": {},
   "outputs": [
    {
     "name": "stdout",
     "output_type": "stream",
     "text": [
      "['Solidaire Etudiant-e-s ne peut faire interdire une conférence ou autre \\nmanifestation organisée par un enseignant (et pas l’Université elle-même), si elle est \\nconforme à la loi.', 'C’est contraire au principe constitutionnel d’indépendance des \\nprofesseurs d’université.', 'Il peut toutefois participer au débat et veiller à ce qu’aucun \\nmessage illégal et partial ne soit délivré.']\n"
     ]
    }
   ],
   "source": [
    "# Creation d'une liste de phrase à partir des tokens inverser la Tokenisation\n",
    "sents_list = []\n",
    "for sent in doc.sents:\n",
    "    sents_list.append(sent.text)\n",
    "print(sents_list)"
   ]
  },
  {
   "cell_type": "markdown",
   "metadata": {},
   "source": [
    "### Token"
   ]
  },
  {
   "cell_type": "code",
   "execution_count": 20,
   "metadata": {},
   "outputs": [
    {
     "name": "stdout",
     "output_type": "stream",
     "text": [
      "Etudiant\n"
     ]
    }
   ],
   "source": [
    "# Obtenir le Token d'indice 1 au sein du Doc.\n",
    "token = doc[1]\n",
    "# Obtiens le texte du token avec l'attribut .text\n",
    "print(token.text)"
   ]
  },
  {
   "cell_type": "markdown",
   "metadata": {},
   "source": [
    "### Span"
   ]
  },
  {
   "cell_type": "code",
   "execution_count": 21,
   "metadata": {},
   "outputs": [
    {
     "name": "stdout",
     "output_type": "stream",
     "text": [
      "Etudiant-e-s\n"
     ]
    }
   ],
   "source": [
    "# Une portion du Doc est un objet Span\n",
    "span = doc[1:6]\n",
    "\n",
    "# Obtiens le texte du span avec l'attribut .text\n",
    "print(span.text)"
   ]
  },
  {
   "cell_type": "markdown",
   "metadata": {},
   "source": [
    "#### Diviser un document en phrases"
   ]
  },
  {
   "cell_type": "code",
   "execution_count": 22,
   "metadata": {},
   "outputs": [
    {
     "name": "stdout",
     "output_type": "stream",
     "text": [
      "phrase numéro 1: Solidaire Etudiant-e-s ne peut faire interdire une conférence ou autre \n",
      "manifestation organisée par un enseignant (et pas l’Université elle-même), si elle est \n",
      "conforme à la loi.\n",
      "phrase numéro 2: C’est contraire au principe constitutionnel d’indépendance des \n",
      "professeurs d’université.\n",
      "phrase numéro 3: Il peut toutefois participer au débat et veiller à ce qu’aucun \n",
      "message illégal et partial ne soit délivré.\n"
     ]
    }
   ],
   "source": [
    "for ix, sent in enumerate(doc.sents, 1): \n",
    "    # afficher le texte de chaque phrase\n",
    "    print(\"phrase numéro {}: {}\".format(ix, sent))"
   ]
  },
  {
   "cell_type": "markdown",
   "metadata": {},
   "source": [
    "### Liste des stop words de la langue française"
   ]
  },
  {
   "cell_type": "code",
   "execution_count": 23,
   "metadata": {},
   "outputs": [
    {
     "name": "stdout",
     "output_type": "stream",
     "text": [
      "{'seize', 'onze', 'touchant', 'étais', 'feront', 'â', 'nôtre', 'leurs', 'était', 'quelle', 'ès', 'certaines', 'exactement', 'derriere', 'donc', 'oust', 'alors', 'dix-neuf', 'avons', 'pourrait', 'seul', 'dix-huit', 'cinq', 'tienne', 'désormais', 'là', 'suffisante', 'té', 'vé', 'de', 'parlent', 'directement', 'importe', 'où', 'hormis', 'effet', 'eux-mêmes', 'deux', 'eh', 'etc', 'partant', 'suivre', 'vas', 'etais', 'plus', 'comment', 'j’', 'doivent', \"s'\", 'huit', 'nombreuses', 'ouias', 'anterieure', 'as', 'ouverts', 'merci', 'tien', 'c’', 'me', 'revoilà', 'retour', 'soixante', 't’', 'ouverte', 'surtout', 'seule', 'moins', 'elle', 'lesquelles', 'assez', 'avec', 'cinquantaine', \"t'\", 'etant', 'même', 'compris', 'parce', 'durant', 'souvent', 'pres', 'auxquelles', 'nouvea', 'aupres', 'encore', 'jusque', 'te', 'tente', 'seraient', 'ci', 'longtemps', 'moi-même', 'semblent', 'onzième', 'different', 'miennes', 'proche', 'hem', 'n’', 'egale', 'pourrais', 'sa', 'pu', 'pendant', 'restent', 'vous-mêmes', 'notamment', 'pense', 'certaine', 'telles', 'juste', 'été', 'entre', 'différente', 'auxquels', 'specifique', 'lesquels', 'près', 'septième', 'abord', 's’', 'suffit', 'suivants', 'dits', 'maintenant', 'vos', 'la', 'différentes', 'chaque', 'tous', 'differents', 'hi', 'procedant', 'relativement', 'par', 'sept', 'tant', 'avant', 'lui-meme', 'elle-même', 'suivantes', 'celui-ci', 'egalement', 'parseme', 'nos', 'derrière', 'outre', \"qu'\", 'allaient', 'laquelle', 'que', 'divers', 'o', 'dit', 'attendu', \"j'\", 'dessous', 'sienne', 'du', 'faisaient', 'quiconque', 'voilà', 'ceux', 'ho', 'quatrièmement', 'puisque', 'aujourd', 'dix-sept', 'sent', 'autrui', 'celui', 'quelques', 'tels', 'desormais', 'tu', 'vont', 'une', 'plutôt', 'première', 'ceci', 'sinon', 'douzième', 'malgre', 'au', 'cela', 'mienne', 'chez', 'à', 'il', 'puis', 'différent', 'ça', 'pour', 'gens', 'vôtres', 'vais', 'mêmes', 'uns', \"m'\", 'revoici', 'toutes', 'allons', 'lequel', 'quinze', 'sauf', 'dite', 'elles-mêmes', 'desquelles', 'certains', 'mon', 'quanta', 'directe', 'excepté', 'le', 'hui', 'elles', 'nous', \"d'\", 'diverses', 'quels', 'desquels', 'avait', 'neanmoins', 'tenir', 'troisièmement', 'tend', 'quelque', 'certain', 'quant-à-soi', 'anterieur', 'sixième', 'chacune', 'sans', 'restant', 'ha', 'sera', 'quoique', 'néanmoins', 'apres', \"aujourd'hui\", 'cinquante', 'ai', 'tiens', 'precisement', 'voici', 'quand', 'suffisant', 'treize', 'nul', 'premièrement', 'huitième', 'jusqu', 'tenant', 'dedans', 'prealable', 'mes', 'duquel', 'pouvait', 'moi-meme', 'possibles', 'quatorze', 'afin', 'celle-ci', 'anterieures', 'toi', 'egales', 'avaient', 'aucun', 'd’', 'ou', 'leur', 'houp', 'ô', 'auraient', 'deuxièmement', 'etait', 'on', 'debout', 'ta', 'deja', 'i', 'via', 'hue', 'lès', 'et', 'rend', 'ces', 'neuvième', 'hors', 'nous-mêmes', 'lorsque', 'envers', 'quatrième', 'ouvert', \"quelqu'un\", 'semblaient', 'miens', 'cinquième', 'peuvent', 'mien', 'parler', 'quel', 'vers', 'bas', 'mais', 'qu’', 'hé', 'étant', 'dire', 'quarante', 'l’', 'combien', 'lui', 'avais', 'tellement', 'moindres', 'dont', 'rendre', 'va', \"c'\", 'quelles', 'fais', 'font', 'dans', 'basee', 'peu', 'celles-là', 'aucune', 'parmi', 'quant', 'premier', 'enfin', 'ne', 'chacun', 'maint', 'ils', 'aura', 'nôtres', 'celui-là', 'trois', 'delà', 'ton', \"l'\", 'être', 'vous', 'façon', 'concernant', 'semblable', 'ceux-là', 'six', 'les', 'reste', 'toujours', 'telle', 'diverse', 'tres', 'permet', 'étaient', 'cet', 'siens', 'toute', 'son', 'trente', 'notre', 'après', 'quatre', 'ont', 'troisième', 'pas', 'sont', 'si', 'devers', 'suit', 'unes', 'se', 'est', 'dixième', 'ni', 'ceux-ci', 'autre', 'meme', \"n'\", 'seront', 'specifiques', 'sur', 'tiennes', 'da', 'suivant', 'autrement', 'etre', 'soi', 'quoi', 'devra', 'a', 'ainsi', 'qui', 'tout', 'vôtre', 'certes', 'soi-même', 'en', 'celles-ci', 'celle', 'ore', 'cinquantième', 'na', 'selon', 'dix', 'seulement', 'toi-même', 'cependant', 'un', 'vingt', 'douze', 'stop', 'peut', 'relative', 'des', 'plusieurs', 'ayant', 'dès', 'lui-même', 'suivante', 'possible', 'environ', 'es', 'nombreux', 'quelconque', 'soit', 'votre', 'cette', 'devant', 'parle', 'ah', 'peux', 'je', 'eux', 'sien', 'laisser', 'pourquoi', 'depuis', 'moi', 'cent', 'dehors', 'faisant', 'ait', 'ma', 'parfois', 'lors', 'différents', 'aussi', 'sait', 'aux', 'aie', 'autres', 'celles', 'avoir', 'suis', 'hou', 'celle-là', 'sous', 'car', 'fait', 'ses', 'ce', 'dessus', 'quatre-vingt', 'tes', 'deuxième', 'comme', 'siennes', 'auront', 'vu', 'aurait', 'semble', 'bat', 'memes', 'mille', 'doit', 'eu', 'm’', 'tel', 'differentes', 'etaient', 'auquel', 'personne', 'serait', 'hep'}\n"
     ]
    }
   ],
   "source": [
    "# afficher cette liste \n",
    "print(nlp.Defaults.stop_words)"
   ]
  },
  {
   "cell_type": "markdown",
   "metadata": {},
   "source": [
    "#### Pour supprimer plusieurs stop words à la fois de la liste "
   ]
  },
  {
   "cell_type": "code",
   "execution_count": 30,
   "metadata": {},
   "outputs": [
    {
     "name": "stdout",
     "output_type": "stream",
     "text": [
      "{'nouveau', 'aucune', 'autre', 'ainsi', 'pfft', 'subtiles', 'euh', 'beaucoup', 'il', 'directement', 'crac', 'anterieures', 'avant', 'particulière', 'deja', 'tout', 'ma', 'pourrait', 'chez', 'parfois', 'chaque', 'couic', 'plutôt', 'comparable', 'minimale', 'moindres', 'passé', 'toi-même', 'dit', 'probante', 'retour', 'certaines', 'fi', 'tres', 'bigre', 'peut', 'probable', 'toi', 'cinquantième', 'neanmoins', 'laquelle', 't’', 'nul', 'parmi', 'toutefois', 'deuxièmement', 'quatre-vingt', \"l'\", \"c'\", 'ton', 'beau', 'n’', 'tac', 'quelques', 'très', 'telle', 'hein', 'contre', 'i', 'allô', 'speculatif', 'mêmes', 'clac', 'desquels', 'depuis', 'boum', 'lui', 'moi-meme', 'quanta', 'bat', 'cet', 'parler', 'j’', 'elle', 'delà', 'son', 'excepté', 'cent', 'avons', 'reste', 'est', 'été', 'vlan', 'rare', 'ô', 'autrui', 'ont', 'aucun', 'hormis', 'dessous', 'nous', 'maintenant', 'different', 'doit', 'sa', 'hélas', 'tardive', 'attendu', 'avaient', 'ouverts', 'lesquelles', 'quoique', 'tiens', 'ouste', 'puis', 'sent', 'par', 'cinquante', 'sien', 'quatrième', 'anterieure', 'nous-mêmes', 'ça', 'chacun', 'possibles', \"quelqu'un\", 'tels', 'da', 'compris', 'tel', 'hop', 'seize', 'tic', 'deux', 'basee', 'onzième', 'treize', 'desormais', 'parce', 'dixième', 'vôtres', 'un', 'me', 'vous-mêmes', 'dix-sept', 'hum', 'extenso', 'devant', 'avais', 'abord', 'néanmoins', 'flac', 'semblable', 'moi', 'dedans', 'differents', 'peuvent', 'quarante', 'tenir', 'lesquels', 'suivante', 'uniques', 'dès', 'suit', 'avoir', 'ho', 'deuxième', 'surtout', 'autres', 'suivants', 'tiennes', 'là', 'vives', 'pres', 'relative', 'certains', 'pense', 'douze', 'où', 'combien', 'soi-même', 'specifique', 'puisque', 'sera', 'quant-à-soi', 'ils', 'semblaient', 'semblent', 'merci', 'que', 'parle', 'étaient', 'cinquantaine', 'precisement', 'sauf', 'effet', 'celle-là', 'seule', 'tenant', 'las', 'ait', 'leurs', 'sinon', 'suffisant', \"m'\", 'six', \"s'\", 'durant', 'touchant', 'des', 'quels', 'nos', 'chers', 'ci', 'dans', 'suffit', 'huit', 'pendant', 'naturelle', 'maximale', 'suivantes', 's’', 'siennes', 'aura', 'revoici', 'debout', 'va', 'allo', 'pire', 'a', 'desquelles', 'serait', 'vu', 'alors', 'mince', 'faisaient', 'memes', 'soi', 'dernier', \"d'\", 'celles', 'etant', 'lors', 'semble', 'pourrais', 'sont', 'sait', \"t'\", 'lorsque', 'procedant', 'hou', 'quelque', 'rien', 'pouvait', 'moyennant', 'quoi', 'trente', 'une', 'celle-ci', 'en', 'ou', 'celles-là', 'non', 'vôtre', 'cela', 'possible', \"n'\", 'aie', 'pff', 'c’', 'hi', 'notre', 'vers', 'nombreux', 'm’', 'olé', 'allaient', 'les', 'bien', 'mienne', 'juste', 'moi-même', 'paf', 'naturelles', 'parlent', 'seulement', 'dessus', 'sapristi', 'tellement', 'ha', 'auquel', 'celui', 'prealable', 'certes', 'as', 'rend', 'vive', 'toutes', 'au', 'ni', 'du', 'à', 'absolument', 'autrement', 'soit', 'sacrebleu', 'unes', 'premièrement', 'jusque', 'soixante', 'peu', 'comment', 'houp', 'holà', 'o', 'ès', 'qu’', 'quatrièmement', 'elle-même', 'ta', 'restrictif', 'hé', 'aupres', 'jusqu', 'eh', 'ceux-là', 'tsoin', 'tant', 'aujourd', 'outre', 'mien', 'votre', 'derriere', 'ceux-ci', 'revoilà', 'dix-huit', 'restant', 'na', 'différents', 'premier', 'pur', 'car', 'te', 'qui', 'tente', 'encore', 'chères', 'pfut', 'était', 'hep', 'particulier', 'ayant', 'pan', 'apres', 'ces', 'quatre', 'même', 'chut', 'plusieurs', 'bah', 'cinquième', 'pourquoi', 'voici', 'chiche', 'sixième', 'suivre', 'ce', 'gens', 'près', 'vif', 'elles', 'dite', 'miens', 'désormais', 'uniformement', 'seul', 'pas', 'es', 'de', 'ah', 'quant', 'fais', 'certain', 'lequel', 'siens', 'anterieur', 'quand', 'brrr', 'psitt', 'autrefois', 'voilà', 'celui-là', 'dire', 'exterieur', 'leur', 'clic', 'enfin', 'maint', 'personne', 'nôtre', 'nombreuses', 'étais', 'lui-meme', 'malgre', 'quelconque', 'mais', 'necessaire', 'sept', 'rendre', 'miennes', 'ouias', \"qu'\", 'vifs', 'hem', 'quel', 'septième', 'environ', 'parseme', 'trois', 'sous', 'hue', 'dehors', 'quelle', 'dix', 'fait', 'etaient', 'uns', 'avec', 'seront', 'celle', 'etait', 'quelles', 'diverse', 'première', 'hors', 'etre', 'la', 'via', 'ouf', 'ouverte', 'troisièmement', 'differentes', 'auxquelles', 'plein', 'nôtres', 'pouah', 'aurait', 'rares', 'té', 'bas', 'dont', 'devra', 'pour', 'on', 'quatorze', 'malgré', 'hurrah', 'etc', 'd’', 'hui', 'allons', 'oh', 'proche', 'suis', 'tes', 'troisième', 'si', 'vont', 'ne', 'envers', 'remarquable', 'vos', \"aujourd'hui\", 'telles', 'dits', 'auraient', 'etais', 'vous', 'tu', 'vingt', 'eux', 'tend', 'possessifs', 'façon', 'moins', 'possessif', 'dix-neuf', 'relativement', 'derniere', 'vais', 'sein', 'souvent', 'tsouin', 'restent', 'auront', 'huitième', 'plouf', 'cinq', 'rarement', 'lès', 'mes', 'devers', 'étant', 'suivant', 'eu', 'egales', 'seraient', 'stop', 'laisser', 'avait', 'vivat', 'tienne', 'entre', 'peux', 'superpose', 'notamment', 'se', 'duquel', 'naturel', 'exactement', 'ore', 'chacune', 'lui-même', 'diverses', 'importe', 'strictement', 'être', 'après', 'celles-ci', 'zut', 'ollé', 'pif', 'vé', 'afin', 'cette', 'font', 'â', 'différent', 'specifiques', 'chère', 'onze', 'necessairement', 'selon', 'egalement', 'sienne', 'toute', 'derrière', 'toc', 'neuvième', 'auxquels', 'donc', 'ses', 'partant', 'comparables', 'sans', 'eux-mêmes', 'quinze', 'cependant', 'meme', 'quiconque', 'pu', 'assez', 'floc', 'différente', 'l’', 'oust', 'suffisante', 'celui-ci', 'faisant', 'mon', 'concernant', 'elles-mêmes', 'le', 'toujours', 'longtemps', 'aussi', 'plus', 'ceux', 'douzième', 'unique', 'ailleurs', 'comme', 'egale', 'ceci', 'et', 'ohé', 'certaine', 'vas', 'je', 'trop', 'ai', 'feront', 'neuf', 'particulièrement', 'cher', 'mille', 'pure', 'aux', 'ouvert', 'divers', 'sur', 'tien', 'directe', 'dring', 'bravo', 'différentes'}\n"
     ]
    }
   ],
   "source": [
    "#Pour supprimer un mot unique:\n",
    "#nlp.Defaults.stop_words.remove(\"moi\")\n",
    "#Pour supprimer un mot DE la liste\n",
    "nlp.Defaults.stop_words -= {\"permet\", \"doivent\", \"tous\"}\n",
    "print(nlp.Defaults.stop_words)"
   ]
  },
  {
   "cell_type": "markdown",
   "metadata": {},
   "source": [
    "#### Pour ajouter plusieurs stop words à la fois "
   ]
  },
  {
   "cell_type": "code",
   "execution_count": 24,
   "metadata": {},
   "outputs": [
    {
     "name": "stdout",
     "output_type": "stream",
     "text": [
      "{'seize', 'onze', 'touchant', 'étais', 'feront', 'â', 'nôtre', 'leurs', 'était', 'quelle', 'ès', 'certaines', 'exactement', 'derriere', 'donc', 'oust', 'alors', 'dix-neuf', 'avons', 'pourrait', 'seul', 'dix-huit', 'cinq', 'tienne', 'désormais', 'là', 'suffisante', 'té', 'vé', 'de', 'parlent', 'directement', 'importe', 'où', 'hormis', 'effet', 'eux-mêmes', 'deux', 'eh', 'etc', 'partant', 'suivre', 'vas', 'etais', 'plus', 'comment', 'j’', 'doivent', \"s'\", 'huit', 'nombreuses', 'ouias', 'anterieure', 'as', 'ouverts', 'merci', 'tien', 'c’', 'me', 'revoilà', 'retour', 'soixante', 't’', 'ouverte', 'surtout', 'seule', 'moins', 'elle', 'lesquelles', 'assez', 'avec', 'cinquantaine', \"t'\", 'etant', 'même', 'compris', 'parce', 'durant', 'souvent', 'pres', 'auxquelles', 'nouvea', 'aupres', 'encore', 'jusque', 'te', 'tente', 'seraient', 'ci', 'longtemps', 'moi-même', 'semblent', 'onzième', 'different', 'miennes', 'proche', 'hem', 'n’', 'egale', 'pourrais', 'sa', 'pu', 'pendant', 'restent', 'vous-mêmes', 'notamment', 'pense', 'certaine', 'telles', 'juste', 'été', 'entre', 'différente', 'auxquels', 'specifique', 'lesquels', 'près', 'septième', 'abord', 's’', 'suffit', 'suivants', 'dits', 'maintenant', 'vos', 'la', 'différentes', 'chaque', 'tous', 'differents', 'hi', 'procedant', 'relativement', 'par', 'sept', 'tant', 'avant', 'lui-meme', 'elle-même', 'suivantes', 'celui-ci', 'egalement', 'parseme', 'nos', 'derrière', 'outre', \"qu'\", 'allaient', 'laquelle', 'que', 'divers', 'o', 'dit', 'attendu', \"j'\", 'dessous', 'sienne', 'du', 'faisaient', 'quiconque', 'voilà', 'ceux', 'ho', 'quatrièmement', 'puisque', 'aujourd', 'dix-sept', 'sent', 'autrui', 'celui', 'quelques', 'tels', 'desormais', 'tu', 'vont', 'une', 'plutôt', 'première', 'ceci', 'sinon', 'douzième', 'malgre', 'au', 'cela', 'mienne', 'chez', 'à', 'il', 'puis', 'différent', 'ça', 'pour', 'gens', 'vôtres', 'vais', 'mêmes', 'uns', \"m'\", 'revoici', 'toutes', 'allons', 'lequel', 'quinze', 'sauf', 'dite', 'elles-mêmes', 'desquelles', 'certains', 'mon', 'quanta', 'directe', 'excepté', 'le', 'hui', 'elles', 'nous', \"d'\", 'diverses', 'quels', 'desquels', 'avait', 'neanmoins', 'tenir', 'troisièmement', 'tend', 'quelque', 'certain', 'quant-à-soi', 'anterieur', 'sixième', 'chacune', 'sans', 'restant', 'ha', 'sera', 'quoique', 'néanmoins', 'apres', \"aujourd'hui\", 'cinquante', 'ai', 'tiens', 'precisement', 'voici', 'quand', 'suffisant', 'treize', 'nul', 'premièrement', 'huitième', 'jusqu', 'tenant', 'dedans', 'prealable', 'mes', 'duquel', 'pouvait', 'moi-meme', 'possibles', 'quatorze', 'afin', 'celle-ci', 'anterieures', 'toi', 'egales', 'avaient', 'aucun', 'd’', 'ou', 'leur', 'houp', 'ô', 'auraient', 'deuxièmement', 'etait', 'on', 'debout', 'ta', 'deja', 'i', 'via', 'hue', 'lès', 'et', 'rend', 'ces', 'neuvième', 'hors', 'nous-mêmes', 'lorsque', 'envers', 'quatrième', 'ouvert', \"quelqu'un\", 'semblaient', 'miens', 'cinquième', 'peuvent', 'mien', 'parler', 'quel', 'vers', 'bas', 'mais', 'qu’', 'hé', 'étant', 'dire', 'quarante', 'l’', 'combien', 'lui', 'avais', 'tellement', 'moindres', 'dont', 'rendre', 'va', \"c'\", 'quelles', 'fais', 'font', 'dans', 'basee', 'peu', 'celles-là', 'aucune', 'parmi', 'quant', 'premier', 'enfin', 'ne', 'chacun', 'maint', 'ils', 'aura', 'nôtres', 'celui-là', 'trois', 'delà', 'ton', \"l'\", 'être', 'vous', 'façon', 'concernant', 'semblable', 'ceux-là', 'six', 'les', 'reste', 'toujours', 'telle', 'diverse', 'tres', 'permet', 'étaient', 'cet', 'siens', 'toute', 'son', 'trente', 'notre', 'après', 'quatre', 'ont', 'troisième', 'pas', 'sont', 'si', 'devers', 'suit', 'unes', 'se', 'est', 'dixième', 'ni', 'ceux-ci', 'autre', 'meme', \"n'\", 'seront', 'specifiques', 'sur', 'tiennes', 'da', 'suivant', 'autrement', 'etre', 'soi', 'quoi', 'devra', 'a', 'ainsi', 'qui', 'tout', 'vôtre', 'certes', 'soi-même', 'en', 'celles-ci', 'celle', 'ore', 'cinquantième', 'na', 'selon', 'dix', 'seulement', 'toi-même', 'cependant', 'un', 'vingt', 'douze', 'stop', 'peut', 'relative', 'des', 'plusieurs', 'ayant', 'dès', 'lui-même', 'suivante', 'possible', 'environ', 'es', 'nombreux', 'quelconque', 'soit', 'votre', 'cette', 'devant', 'parle', 'ah', 'peux', 'je', 'eux', 'sien', 'laisser', 'pourquoi', 'depuis', 'moi', 'cent', 'dehors', 'faisant', 'ait', 'ma', 'parfois', 'lors', 'différents', 'aussi', 'sait', 'aux', 'aie', 'autres', 'celles', 'avoir', 'suis', 'hou', 'celle-là', 'sous', 'car', 'fait', 'ses', 'ce', 'dessus', 'quatre-vingt', 'tes', 'deuxième', 'comme', 'siennes', 'auront', 'vu', 'aurait', 'semble', 'bat', 'memes', 'mille', 'doit', 'eu', 'm’', 'tel', 'differentes', 'etaient', 'auquel', 'personne', 'serait', 'hep'}\n"
     ]
    }
   ],
   "source": [
    "#Pour ajouter un mot unique:\n",
    "#nlp.Defaults.stop_words.add(\"doit\")\n",
    "#Pour ajouter plusieurs mots:\n",
    "nlp.Defaults.stop_words |= {\"permet\", \"doivent\", \"tous\"}\n",
    "print(nlp.Defaults.stop_words)"
   ]
  },
  {
   "cell_type": "markdown",
   "metadata": {},
   "source": [
    "### Vérifier si un token est un stop word ou une ponctuation ou non "
   ]
  },
  {
   "cell_type": "code",
   "execution_count": 25,
   "metadata": {},
   "outputs": [
    {
     "name": "stdout",
     "output_type": "stream",
     "text": [
      "Quel --------> True --------> False --------> False\n",
      "avenir --------> False --------> False --------> False\n",
      "pour --------> True --------> False --------> False\n",
      "les --------> True --------> False --------> False\n",
      "chauffeurs --------> False --------> False --------> False\n",
      "Uber --------> False --------> False --------> False\n",
      "? --------> False --------> True --------> False\n",
      ". --------> False --------> True --------> False\n"
     ]
    }
   ],
   "source": [
    "doc1 = nlp(\"Quel avenir pour les chauffeurs Uber ?.\")\n",
    "# Parcourir sur les tokens dans un Doc\n",
    "for token in doc1:\n",
    "        print(token.text, \"-------->\", token.is_stop, \"-------->\", token.is_punct,\n",
    "              \"-------->\", token.is_space) "
   ]
  },
  {
   "cell_type": "markdown",
   "metadata": {},
   "source": [
    "#### Supprimer les stop words et ponctuations de Doc"
   ]
  },
  {
   "cell_type": "code",
   "execution_count": 26,
   "metadata": {},
   "outputs": [
    {
     "name": "stdout",
     "output_type": "stream",
     "text": [
      "['avenir', 'chauffeurs', 'Uber']\n"
     ]
    }
   ],
   "source": [
    "tokens = [token.text for token in doc1 if not token.is_stop | token.is_space | token.is_punct]\n",
    "print(tokens)"
   ]
  },
  {
   "cell_type": "markdown",
   "metadata": {},
   "source": [
    "# Supprimer les stop words et ponctuations de Doc générer par le text"
   ]
  },
  {
   "cell_type": "code",
   "execution_count": 27,
   "metadata": {},
   "outputs": [
    {
     "name": "stdout",
     "output_type": "stream",
     "text": [
      "['Solidaire', 'Etudiant', 'e', 's', 'faire', 'interdire', 'conférence', 'manifestation', 'organisée', 'enseignant', 'Université', 'conforme', 'loi', 'contraire', 'principe', 'constitutionnel', 'indépendance', 'professeurs', 'université', 'toutefois', 'participer', 'débat', 'veiller', 'message', 'illégal', 'partial', 'délivré']\n"
     ]
    }
   ],
   "source": [
    "tokens = [token.text for token in doc if not token.is_stop | token.is_space | token.is_punct]\n",
    "print(tokens)"
   ]
  },
  {
   "cell_type": "code",
   "execution_count": 28,
   "metadata": {},
   "outputs": [
    {
     "name": "stdout",
     "output_type": "stream",
     "text": [
      "La taille de Doc avant traitement :  72\n",
      "La taille de Doc après traitement :  27\n"
     ]
    }
   ],
   "source": [
    "print(\"La taille de Doc avant traitement : \", len(doc))\n",
    "print(\"La taille de Doc après traitement : \", len(tokens))"
   ]
  },
  {
   "cell_type": "markdown",
   "metadata": {},
   "source": [
    "### Attributs lexicaux"
   ]
  },
  {
   "cell_type": "code",
   "execution_count": 29,
   "metadata": {},
   "outputs": [
    {
     "name": "stdout",
     "output_type": "stream",
     "text": [
      "Index :    [0, 1, 2, 3, 4, 5, 6, 7] \n",
      "\n",
      "Text :     ['Quel', 'avenir', 'pour', 'les', 'chauffeurs', 'Uber', '?', '.'] \n",
      "\n",
      "is_alpha : [True, True, True, True, True, True, False, False] \n",
      "\n",
      "is_ascii : [True, True, True, True, True, True, True, True] \n",
      "\n",
      "is_digit : [False, False, False, False, False, False, False, False] \n",
      "\n",
      "is_upper : [False, False, False, False, False, False, False, False] \n",
      "\n",
      "is_lower : [False, True, True, True, True, False, False, False] \n",
      "\n",
      "is_bracket : [False, False, False, False, False, False, False, False] \n",
      "\n",
      "is_quote : [False, False, False, False, False, False, False, False] \n",
      "\n",
      "is_punct : [False, False, False, False, False, False, True, True] \n",
      "\n",
      "like_num : [False, False, False, False, False, False, False, False] \n",
      "\n",
      "is_digit : [False, False, False, False, False, False, False, False] \n",
      "\n"
     ]
    }
   ],
   "source": [
    "\n",
    "print(\"Index :   \", [token.i for token in doc1], \"\\n\")\n",
    "print(\"Text :    \", [token.text for token in doc1], \"\\n\")\n",
    "print(\"is_alpha :\", [token.is_alpha for token in doc1], \"\\n\")\n",
    "print(\"is_ascii :\", [token.is_ascii for token in doc1], \"\\n\")\n",
    "print(\"is_digit :\", [token.is_digit for token in doc1], \"\\n\")\n",
    "print(\"is_upper :\", [token.is_upper for token in doc1], \"\\n\")\n",
    "print(\"is_lower :\", [token.is_lower for token in doc1], \"\\n\")\n",
    "print(\"is_bracket :\", [token.is_bracket for token in doc1], \"\\n\")\n",
    "print(\"is_quote :\", [token.is_quote for token in doc1], \"\\n\")\n",
    "print(\"is_punct :\", [token.is_punct for token in doc1], \"\\n\")\n",
    "print(\"like_num :\", [token.like_num for token in doc1], \"\\n\")\n",
    "print(\"is_digit :\", [token.is_digit for token in doc1], \"\\n\")"
   ]
  },
  {
   "cell_type": "markdown",
   "metadata": {},
   "source": [
    "### Vérifier si un token est un URI ou non "
   ]
  },
  {
   "cell_type": "code",
   "execution_count": 30,
   "metadata": {},
   "outputs": [
    {
     "name": "stdout",
     "output_type": "stream",
     "text": [
      "Quel --------> False\n",
      "avenir --------> False\n",
      "pour --------> False\n",
      "les --------> False\n",
      "chauffeurs --------> False\n",
      "Uber --------> False\n",
      "? --------> False\n",
      "https://spacy.io/api/language#add_pipe --------> True\n",
      ". --------> False\n"
     ]
    }
   ],
   "source": [
    "doc1 = nlp(\"Quel avenir pour les chauffeurs Uber ? https://spacy.io/api/language#add_pipe.\")\n",
    "# Parcourir sur les tokens dans un Doc\n",
    "for token in doc1:\n",
    "        print(token.text, \"-------->\", token.like_url) "
   ]
  },
  {
   "cell_type": "markdown",
   "metadata": {},
   "source": [
    "### Lemmatizer pour afficher la racine de chaque mot ."
   ]
  },
  {
   "cell_type": "code",
   "execution_count": 31,
   "metadata": {},
   "outputs": [
    {
     "name": "stdout",
     "output_type": "stream",
     "text": [
      "Solidaire -------> Solidaire\n",
      "Etudiant -------> Etudiant\n",
      "- -------> -\n",
      "e -------> e\n",
      "- -------> -\n",
      "s -------> s\n",
      "ne -------> ne\n",
      "peut -------> pouvoir\n",
      "faire -------> faire\n",
      "interdire -------> interdire\n",
      "une -------> un\n",
      "conférence -------> conférence\n",
      "ou -------> ou\n",
      "autre -------> autre\n",
      "\n",
      " -------> \n",
      "\n",
      "manifestation -------> manifestation\n",
      "organisée -------> organiser\n",
      "par -------> par\n",
      "un -------> un\n",
      "enseignant -------> enseignant\n",
      "( -------> (\n",
      "et -------> et\n",
      "pas -------> pas\n",
      "l’ -------> l’\n",
      "Université -------> université\n",
      "elle-même -------> lui-même\n",
      ") -------> )\n",
      ", -------> ,\n",
      "si -------> si\n",
      "elle -------> lui\n",
      "est -------> être\n",
      "\n",
      " -------> \n",
      "\n",
      "conforme -------> conforme\n",
      "à -------> à\n",
      "la -------> le\n",
      "loi -------> loi\n",
      ". -------> .\n",
      "C’ -------> c’\n",
      "est -------> être\n",
      "contraire -------> contraire\n",
      "au -------> au\n",
      "principe -------> principe\n",
      "constitutionnel -------> constitutionnel\n",
      "d’ -------> d’\n",
      "indépendance -------> indépendance\n",
      "des -------> de\n",
      "\n",
      " -------> \n",
      "\n",
      "professeurs -------> professeur\n",
      "d’ -------> d’\n",
      "université -------> université\n",
      ". -------> .\n",
      "Il -------> il\n",
      "peut -------> pouvoir\n",
      "toutefois -------> toutefois\n",
      "participer -------> participer\n",
      "au -------> au\n",
      "débat -------> débat\n",
      "et -------> et\n",
      "veiller -------> veiller\n",
      "à -------> à\n",
      "ce -------> ce\n",
      "qu’ -------> qu’\n",
      "aucun -------> aucun\n",
      "\n",
      " -------> \n",
      "\n",
      "message -------> message\n",
      "illégal -------> illégal\n",
      "et -------> et\n",
      "partial -------> partial\n",
      "ne -------> ne\n",
      "soit -------> être\n",
      "délivré -------> délivrer\n",
      ". -------> .\n"
     ]
    }
   ],
   "source": [
    "#la lemmatisation grâce au mot clé .lemma_\n",
    "for token in doc:\n",
    "     print(token.text, \"------->\", token.lemma_)"
   ]
  },
  {
   "cell_type": "code",
   "execution_count": 32,
   "metadata": {},
   "outputs": [
    {
     "name": "stdout",
     "output_type": "stream",
     "text": [
      "Parent type: <class 'spacy.tokens.doc.Doc'>\n",
      "Token type: <class 'spacy.tokens.token.Token'>\n"
     ]
    },
    {
     "data": {
      "text/plain": [
       "Solidaire Etudiant e s faire interdire conférence manifestation organisée enseignant Université conforme loi contraire principe constitutionnel indépendance professeurs université toutefois participer débat veiller message illégal partial délivré"
      ]
     },
     "execution_count": 32,
     "metadata": {},
     "output_type": "execute_result"
    }
   ],
   "source": [
    "#supperimer les stop words et espace et la ponctuation\n",
    "noStopWordsnoPunct = [token for token in doc if not token.is_punct | token.is_space | token.is_stop]\n",
    "doc1 = nlp(' '.join([tokens.text for tokens in noStopWordsnoPunct]))\n",
    "print(\"Parent type:\", type(doc1))\n",
    "print(\"Token type:\", type(doc1[0]))\n",
    "doc1"
   ]
  },
  {
   "cell_type": "markdown",
   "metadata": {},
   "source": [
    "### Lemmatizer pour afficher la racine de chaque mot mais cette fois sans les stop words, ponctuation et espace."
   ]
  },
  {
   "cell_type": "code",
   "execution_count": 33,
   "metadata": {},
   "outputs": [
    {
     "name": "stdout",
     "output_type": "stream",
     "text": [
      "Solidaire -------> Solidaire\n",
      "Etudiant -------> Etudiant\n",
      "e -------> e\n",
      "s -------> s\n",
      "faire -------> faire\n",
      "interdire -------> interdir\n",
      "conférence -------> conférence\n",
      "manifestation -------> manifestation\n",
      "organisée -------> organiser\n",
      "enseignant -------> enseigner\n",
      "Université -------> université\n",
      "conforme -------> conforme\n",
      "loi -------> loi\n",
      "contraire -------> contraire\n",
      "principe -------> principe\n",
      "constitutionnel -------> constitutionnel\n",
      "indépendance -------> indépendanc\n",
      "professeurs -------> professeur\n",
      "université -------> université\n",
      "toutefois -------> toutefois\n",
      "participer -------> participer\n",
      "débat -------> débat\n",
      "veiller -------> veiller\n",
      "message -------> message\n",
      "illégal -------> illégal\n",
      "partial -------> partial\n",
      "délivré -------> délivrer\n"
     ]
    }
   ],
   "source": [
    "#la lemmatisation grâce au mot clé .lemma_\n",
    "for token in doc1:\n",
    "     print(token.text, \"------->\", token.lemma_)"
   ]
  },
  {
   "cell_type": "code",
   "execution_count": 178,
   "metadata": {},
   "outputs": [
    {
     "name": "stdout",
     "output_type": "stream",
     "text": [
      "Suis -------> être\n",
      ", -------> ,\n",
      "suis -------> être\n",
      ", -------> ,\n",
      "est -------> être\n",
      ". -------> .\n"
     ]
    }
   ],
   "source": [
    "# autre exemple\n",
    "doc1 = nlp(\"Suis, suis, est.\")\n",
    "for token in doc1:\n",
    "     print(token.text, \"------->\", token.lemma_)"
   ]
  },
  {
   "cell_type": "markdown",
   "metadata": {},
   "source": [
    "#### Part of Speech (POS) Tagging"
   ]
  },
  {
   "cell_type": "code",
   "execution_count": 34,
   "metadata": {},
   "outputs": [
    {
     "name": "stdout",
     "output_type": "stream",
     "text": [
      "Solidaire -------> PROPN\n",
      "Etudiant -------> PROPN\n",
      "- -------> PROPN\n",
      "e -------> PROPN\n",
      "- -------> PUNCT\n",
      "s -------> AUX\n",
      "ne -------> ADV\n",
      "peut -------> VERB\n",
      "faire -------> AUX\n",
      "interdire -------> NOUN\n",
      "une -------> DET\n",
      "conférence -------> NOUN\n",
      "ou -------> CCONJ\n",
      "autre -------> ADJ\n",
      "\n",
      " -------> SPACE\n",
      "manifestation -------> NOUN\n",
      "organisée -------> VERB\n",
      "par -------> ADP\n",
      "un -------> DET\n",
      "enseignant -------> NOUN\n",
      "( -------> PUNCT\n",
      "et -------> CCONJ\n",
      "pas -------> ADV\n",
      "l’ -------> ADJ\n",
      "Université -------> NOUN\n",
      "elle-même -------> PRON\n",
      ") -------> PUNCT\n",
      ", -------> PUNCT\n",
      "si -------> SCONJ\n",
      "elle -------> PRON\n",
      "est -------> AUX\n",
      "\n",
      " -------> SPACE\n",
      "conforme -------> ADJ\n",
      "à -------> ADP\n",
      "la -------> DET\n",
      "loi -------> NOUN\n",
      ". -------> PUNCT\n",
      "C’ -------> ADJ\n",
      "est -------> AUX\n",
      "contraire -------> ADJ\n",
      "au -------> ADP\n",
      "principe -------> NOUN\n",
      "constitutionnel -------> ADJ\n",
      "d’ -------> ADV\n",
      "indépendance -------> NOUN\n",
      "des -------> ADP\n",
      "\n",
      " -------> SPACE\n",
      "professeurs -------> ADJ\n",
      "d’ -------> DET\n",
      "université -------> NOUN\n",
      ". -------> PUNCT\n",
      "Il -------> PRON\n",
      "peut -------> VERB\n",
      "toutefois -------> ADV\n",
      "participer -------> VERB\n",
      "au -------> ADP\n",
      "débat -------> NOUN\n",
      "et -------> CCONJ\n",
      "veiller -------> VERB\n",
      "à -------> ADP\n",
      "ce -------> DET\n",
      "qu’ -------> NOUN\n",
      "aucun -------> DET\n",
      "\n",
      " -------> SPACE\n",
      "message -------> NOUN\n",
      "illégal -------> ADJ\n",
      "et -------> CCONJ\n",
      "partial -------> VERB\n",
      "ne -------> ADV\n",
      "soit -------> AUX\n",
      "délivré -------> VERB\n",
      ". -------> PUNCT\n"
     ]
    }
   ],
   "source": [
    "# Itère sur les tokens\n",
    "for token in doc:\n",
    "    # Affichage de texte et l'étiquette de partie de discours prédite\n",
    "     print(token.text, \"------->\", token.pos_)\n"
   ]
  },
  {
   "cell_type": "markdown",
   "metadata": {},
   "source": [
    "### Explication d'un parties du discours (DET)"
   ]
  },
  {
   "cell_type": "code",
   "execution_count": 35,
   "metadata": {},
   "outputs": [
    {
     "data": {
      "text/plain": [
       "'proper noun'"
      ]
     },
     "execution_count": 35,
     "metadata": {},
     "output_type": "execute_result"
    }
   ],
   "source": [
    "spacy.explain (\"PROPN\")"
   ]
  },
  {
   "cell_type": "markdown",
   "metadata": {},
   "source": [
    "### Afficher la Part of Speech  d'un mot qui est utilisé dans deux contextes différents."
   ]
  },
  {
   "cell_type": "code",
   "execution_count": 36,
   "metadata": {},
   "outputs": [
    {
     "name": "stdout",
     "output_type": "stream",
     "text": [
      "You -------> PRON\n",
      "read -------> VERB\n",
      "this -------> DET\n",
      "book -------> NOUN\n",
      "\n",
      " \n",
      "\n",
      "I -------> PRON\n",
      "will -------> AUX\n",
      "book -------> VERB\n",
      "my -------> PRON\n",
      "ticket -------> NOUN\n"
     ]
    }
   ],
   "source": [
    "# Charger le paquet de modèle de la langue anglaise \n",
    "nlp = spacy.load('en_core_web_sm')\n",
    "doc1 = nlp(\"You read this book\")\n",
    "doc2 = nlp(\"I will book my ticket\")\n",
    "\n",
    "for token in doc1:\n",
    "     print(token.text, \"------->\", token.pos_)\n",
    "print(\"\\n \\n\")\n",
    "for token in doc2:\n",
    "     print(token.text, \"------->\", token.pos_)"
   ]
  },
  {
   "cell_type": "markdown",
   "metadata": {},
   "source": [
    "#### Afficher la Part of Speech d'un mot qui est utilisé dans deux contextes différents alors que dans la langue française il marche pas."
   ]
  },
  {
   "cell_type": "code",
   "execution_count": 37,
   "metadata": {},
   "outputs": [
    {
     "name": "stdout",
     "output_type": "stream",
     "text": [
      "Stéphane -------> PROPN\n",
      "a -------> AUX\n",
      "accusé -------> VERB\n",
      "son -------> DET\n",
      "frère -------> NOUN\n",
      "à -------> ADP\n",
      "sa -------> DET\n",
      "place -------> NOUN\n",
      ". -------> PUNCT\n",
      "\n",
      " \n",
      "\n",
      "Ils -------> PRON\n",
      "ont -------> AUX\n",
      "fait -------> AUX\n",
      "entrer -------> VERB\n",
      "l' -------> DET\n",
      "accusé -------> VERB\n",
      "dans -------> ADP\n",
      "le -------> DET\n",
      "tribunal -------> NOUN\n",
      ". -------> PUNCT\n"
     ]
    }
   ],
   "source": [
    "# Charger le paquet de modèle de la langue française \n",
    "nlp = spacy.load(\"fr_core_news_sm\")\n",
    "doc1 = nlp(\"Stéphane a accusé son frère à sa place.\")\n",
    "doc2 = nlp(\"Ils ont fait entrer l'accusé dans le tribunal. \")\n",
    "for token in doc1:\n",
    "     print(token.text, \"------->\", token.pos_)\n",
    "print(\"\\n \\n\")\n",
    "for token in doc2:\n",
    "     print(token.text, \"------->\", token.pos_)"
   ]
  },
  {
   "cell_type": "markdown",
   "metadata": {},
   "source": [
    "### Dependency"
   ]
  },
  {
   "cell_type": "markdown",
   "metadata": {},
   "source": [
    "#### Prédiction de dépendances syntaxiques avec \"dep\"  et a qui le mot considéré se rattacher avec \"head\""
   ]
  },
  {
   "cell_type": "code",
   "execution_count": 38,
   "metadata": {},
   "outputs": [
    {
     "name": "stdout",
     "output_type": "stream",
     "text": [
      "Solidaire ------> nsubj ------> peut\n",
      "Etudiant ------> flat:name ------> Solidaire\n",
      "- ------> flat:name ------> Solidaire\n",
      "e ------> flat:name ------> Solidaire\n",
      "- ------> punct ------> peut\n",
      "s ------> punct ------> peut\n",
      "ne ------> advmod ------> peut\n",
      "peut ------> ROOT ------> peut\n",
      "faire ------> amod ------> interdire\n",
      "interdire ------> xcomp ------> peut\n",
      "une ------> det ------> conférence\n",
      "conférence ------> obj ------> peut\n",
      "ou ------> cc ------> autre\n",
      "autre ------> amod ------> \n",
      "\n",
      "\n",
      " ------> nmod ------> conférence\n",
      "manifestation ------> nmod ------> \n",
      "\n",
      "organisée ------> acl ------> \n",
      "\n",
      "par ------> case ------> enseignant\n",
      "un ------> det ------> enseignant\n",
      "enseignant ------> obl:agent ------> organisée\n",
      "( ------> punct ------> peut\n",
      "et ------> cc ------> Université\n",
      "pas ------> advmod ------> l’\n",
      "l’ ------> amod ------> Université\n",
      "Université ------> conj ------> peut\n",
      "elle-même ------> dep ------> Université\n",
      ") ------> punct ------> peut\n",
      ", ------> punct ------> peut\n",
      "si ------> mark ------> \n",
      "\n",
      "elle ------> nsubj ------> \n",
      "\n",
      "est ------> aux:pass ------> \n",
      "\n",
      "\n",
      " ------> advcl ------> peut\n",
      "conforme ------> advmod ------> \n",
      "\n",
      "à ------> case ------> loi\n",
      "la ------> det ------> loi\n",
      "loi ------> obl:arg ------> \n",
      "\n",
      ". ------> punct ------> peut\n",
      "C’ ------> nsubj ------> contraire\n",
      "est ------> cop ------> contraire\n",
      "contraire ------> ROOT ------> contraire\n",
      "au ------> case ------> principe\n",
      "principe ------> obl:arg ------> contraire\n",
      "constitutionnel ------> amod ------> principe\n",
      "d’ ------> advmod ------> contraire\n",
      "indépendance ------> dep ------> contraire\n",
      "des ------> case ------> \n",
      "\n",
      "\n",
      " ------> nmod ------> indépendance\n",
      "professeurs ------> amod ------> \n",
      "\n",
      "d’ ------> amod ------> université\n",
      "université ------> nmod ------> \n",
      "\n",
      ". ------> punct ------> contraire\n",
      "Il ------> expl:subj ------> peut\n",
      "peut ------> ROOT ------> peut\n",
      "toutefois ------> advmod ------> peut\n",
      "participer ------> xcomp ------> peut\n",
      "au ------> case ------> débat\n",
      "débat ------> obl:arg ------> participer\n",
      "et ------> cc ------> veiller\n",
      "veiller ------> conj ------> peut\n",
      "à ------> case ------> qu’\n",
      "ce ------> det ------> qu’\n",
      "qu’ ------> obl:arg ------> veiller\n",
      "aucun ------> det ------> \n",
      "\n",
      "\n",
      " ------> nmod ------> qu’\n",
      "message ------> nmod ------> \n",
      "\n",
      "illégal ------> amod ------> message\n",
      "et ------> cc ------> partial\n",
      "partial ------> conj ------> illégal\n",
      "ne ------> advmod ------> délivré\n",
      "soit ------> aux:pass ------> délivré\n",
      "délivré ------> ccomp ------> veiller\n",
      ". ------> punct ------> peut\n"
     ]
    }
   ],
   "source": [
    "for token in doc:\n",
    "    print(token.text, \"------>\", token.dep_, \"------>\", token.head.text)"
   ]
  },
  {
   "cell_type": "markdown",
   "metadata": {},
   "source": [
    "#### découvrir ce que représentent les autres balises"
   ]
  },
  {
   "cell_type": "code",
   "execution_count": 39,
   "metadata": {},
   "outputs": [
    {
     "data": {
      "text/plain": [
       "(None,\n",
       " 'open clausal complement',\n",
       " 'clausal modifier of noun (adjectival clause)',\n",
       " 'adjectival modifier')"
      ]
     },
     "execution_count": 39,
     "metadata": {},
     "output_type": "execute_result"
    }
   ],
   "source": [
    "spacy.explain(\"ROOT\"), spacy.explain(\"xcomp\"), spacy.explain(\"acl\"), spacy.explain(\"amod\")\n"
   ]
  },
  {
   "cell_type": "markdown",
   "metadata": {},
   "source": [
    "### Visualisation des dependence"
   ]
  },
  {
   "cell_type": "code",
   "execution_count": null,
   "metadata": {},
   "outputs": [
    {
     "name": "stderr",
     "output_type": "stream",
     "text": [
      "C:\\Users\\lenovo\\anaconda3\\lib\\site-packages\\spacy\\displacy\\__init__.py:97: UserWarning: [W011] It looks like you're calling displacy.serve from within a Jupyter notebook or a similar environment. This likely means you're already running a local web server, so there's no need to make displaCy start another one. Instead, you should be able to replace displacy.serve with displacy.render to show the visualization.\n",
      "  warnings.warn(Warnings.W011)\n"
     ]
    },
    {
     "data": {
      "text/html": [
       "<span class=\"tex2jax_ignore\"><!DOCTYPE html>\n",
       "<html lang=\"fr\">\n",
       "    <head>\n",
       "        <title>displaCy</title>\n",
       "    </head>\n",
       "\n",
       "    <body style=\"font-size: 16px; font-family: -apple-system, BlinkMacSystemFont, 'Segoe UI', Helvetica, Arial, sans-serif, 'Apple Color Emoji', 'Segoe UI Emoji', 'Segoe UI Symbol'; padding: 4rem 2rem; direction: ltr\">\n",
       "<figure style=\"margin-bottom: 6rem\">\n",
       "<svg xmlns=\"http://www.w3.org/2000/svg\" xmlns:xlink=\"http://www.w3.org/1999/xlink\" xml:lang=\"fr\" id=\"b810c9b1b65649abab2d3a0d63539ec8-0\" class=\"displacy\" width=\"11250\" height=\"924.5\" direction=\"ltr\" style=\"max-width: none; height: 924.5px; color: #000000; background: #ffffff; font-family: Arial; direction: ltr\">\n",
       "<text class=\"displacy-token\" fill=\"currentColor\" text-anchor=\"middle\" y=\"834.5\">\n",
       "    <tspan class=\"displacy-word\" fill=\"currentColor\" x=\"50\">Solidaire</tspan>\n",
       "    <tspan class=\"displacy-tag\" dy=\"2em\" fill=\"currentColor\" x=\"50\">PROPN</tspan>\n",
       "</text>\n",
       "\n",
       "<text class=\"displacy-token\" fill=\"currentColor\" text-anchor=\"middle\" y=\"834.5\">\n",
       "    <tspan class=\"displacy-word\" fill=\"currentColor\" x=\"225\">Etudiant-</tspan>\n",
       "    <tspan class=\"displacy-tag\" dy=\"2em\" fill=\"currentColor\" x=\"225\">PROPN</tspan>\n",
       "</text>\n",
       "\n",
       "<text class=\"displacy-token\" fill=\"currentColor\" text-anchor=\"middle\" y=\"834.5\">\n",
       "    <tspan class=\"displacy-word\" fill=\"currentColor\" x=\"400\">e-</tspan>\n",
       "    <tspan class=\"displacy-tag\" dy=\"2em\" fill=\"currentColor\" x=\"400\">PROPN</tspan>\n",
       "</text>\n",
       "\n",
       "<text class=\"displacy-token\" fill=\"currentColor\" text-anchor=\"middle\" y=\"834.5\">\n",
       "    <tspan class=\"displacy-word\" fill=\"currentColor\" x=\"575\">s</tspan>\n",
       "    <tspan class=\"displacy-tag\" dy=\"2em\" fill=\"currentColor\" x=\"575\">AUX</tspan>\n",
       "</text>\n",
       "\n",
       "<text class=\"displacy-token\" fill=\"currentColor\" text-anchor=\"middle\" y=\"834.5\">\n",
       "    <tspan class=\"displacy-word\" fill=\"currentColor\" x=\"750\">ne</tspan>\n",
       "    <tspan class=\"displacy-tag\" dy=\"2em\" fill=\"currentColor\" x=\"750\">ADV</tspan>\n",
       "</text>\n",
       "\n",
       "<text class=\"displacy-token\" fill=\"currentColor\" text-anchor=\"middle\" y=\"834.5\">\n",
       "    <tspan class=\"displacy-word\" fill=\"currentColor\" x=\"925\">peut</tspan>\n",
       "    <tspan class=\"displacy-tag\" dy=\"2em\" fill=\"currentColor\" x=\"925\">VERB</tspan>\n",
       "</text>\n",
       "\n",
       "<text class=\"displacy-token\" fill=\"currentColor\" text-anchor=\"middle\" y=\"834.5\">\n",
       "    <tspan class=\"displacy-word\" fill=\"currentColor\" x=\"1100\">faire</tspan>\n",
       "    <tspan class=\"displacy-tag\" dy=\"2em\" fill=\"currentColor\" x=\"1100\">AUX</tspan>\n",
       "</text>\n",
       "\n",
       "<text class=\"displacy-token\" fill=\"currentColor\" text-anchor=\"middle\" y=\"834.5\">\n",
       "    <tspan class=\"displacy-word\" fill=\"currentColor\" x=\"1275\">interdire</tspan>\n",
       "    <tspan class=\"displacy-tag\" dy=\"2em\" fill=\"currentColor\" x=\"1275\">NOUN</tspan>\n",
       "</text>\n",
       "\n",
       "<text class=\"displacy-token\" fill=\"currentColor\" text-anchor=\"middle\" y=\"834.5\">\n",
       "    <tspan class=\"displacy-word\" fill=\"currentColor\" x=\"1450\">une</tspan>\n",
       "    <tspan class=\"displacy-tag\" dy=\"2em\" fill=\"currentColor\" x=\"1450\">DET</tspan>\n",
       "</text>\n",
       "\n",
       "<text class=\"displacy-token\" fill=\"currentColor\" text-anchor=\"middle\" y=\"834.5\">\n",
       "    <tspan class=\"displacy-word\" fill=\"currentColor\" x=\"1625\">conférence</tspan>\n",
       "    <tspan class=\"displacy-tag\" dy=\"2em\" fill=\"currentColor\" x=\"1625\">NOUN</tspan>\n",
       "</text>\n",
       "\n",
       "<text class=\"displacy-token\" fill=\"currentColor\" text-anchor=\"middle\" y=\"834.5\">\n",
       "    <tspan class=\"displacy-word\" fill=\"currentColor\" x=\"1800\">ou</tspan>\n",
       "    <tspan class=\"displacy-tag\" dy=\"2em\" fill=\"currentColor\" x=\"1800\">CCONJ</tspan>\n",
       "</text>\n",
       "\n",
       "<text class=\"displacy-token\" fill=\"currentColor\" text-anchor=\"middle\" y=\"834.5\">\n",
       "    <tspan class=\"displacy-word\" fill=\"currentColor\" x=\"1975\">autre</tspan>\n",
       "    <tspan class=\"displacy-tag\" dy=\"2em\" fill=\"currentColor\" x=\"1975\">ADJ</tspan>\n",
       "</text>\n",
       "\n",
       "<text class=\"displacy-token\" fill=\"currentColor\" text-anchor=\"middle\" y=\"834.5\">\n",
       "    <tspan class=\"displacy-word\" fill=\"currentColor\" x=\"2150\">\n",
       "</tspan>\n",
       "    <tspan class=\"displacy-tag\" dy=\"2em\" fill=\"currentColor\" x=\"2150\">SPACE</tspan>\n",
       "</text>\n",
       "\n",
       "<text class=\"displacy-token\" fill=\"currentColor\" text-anchor=\"middle\" y=\"834.5\">\n",
       "    <tspan class=\"displacy-word\" fill=\"currentColor\" x=\"2325\">manifestation</tspan>\n",
       "    <tspan class=\"displacy-tag\" dy=\"2em\" fill=\"currentColor\" x=\"2325\">NOUN</tspan>\n",
       "</text>\n",
       "\n",
       "<text class=\"displacy-token\" fill=\"currentColor\" text-anchor=\"middle\" y=\"834.5\">\n",
       "    <tspan class=\"displacy-word\" fill=\"currentColor\" x=\"2500\">organisée</tspan>\n",
       "    <tspan class=\"displacy-tag\" dy=\"2em\" fill=\"currentColor\" x=\"2500\">VERB</tspan>\n",
       "</text>\n",
       "\n",
       "<text class=\"displacy-token\" fill=\"currentColor\" text-anchor=\"middle\" y=\"834.5\">\n",
       "    <tspan class=\"displacy-word\" fill=\"currentColor\" x=\"2675\">par</tspan>\n",
       "    <tspan class=\"displacy-tag\" dy=\"2em\" fill=\"currentColor\" x=\"2675\">ADP</tspan>\n",
       "</text>\n",
       "\n",
       "<text class=\"displacy-token\" fill=\"currentColor\" text-anchor=\"middle\" y=\"834.5\">\n",
       "    <tspan class=\"displacy-word\" fill=\"currentColor\" x=\"2850\">un</tspan>\n",
       "    <tspan class=\"displacy-tag\" dy=\"2em\" fill=\"currentColor\" x=\"2850\">DET</tspan>\n",
       "</text>\n",
       "\n",
       "<text class=\"displacy-token\" fill=\"currentColor\" text-anchor=\"middle\" y=\"834.5\">\n",
       "    <tspan class=\"displacy-word\" fill=\"currentColor\" x=\"3025\">enseignant (</tspan>\n",
       "    <tspan class=\"displacy-tag\" dy=\"2em\" fill=\"currentColor\" x=\"3025\">NOUN</tspan>\n",
       "</text>\n",
       "\n",
       "<text class=\"displacy-token\" fill=\"currentColor\" text-anchor=\"middle\" y=\"834.5\">\n",
       "    <tspan class=\"displacy-word\" fill=\"currentColor\" x=\"3200\">et</tspan>\n",
       "    <tspan class=\"displacy-tag\" dy=\"2em\" fill=\"currentColor\" x=\"3200\">CCONJ</tspan>\n",
       "</text>\n",
       "\n",
       "<text class=\"displacy-token\" fill=\"currentColor\" text-anchor=\"middle\" y=\"834.5\">\n",
       "    <tspan class=\"displacy-word\" fill=\"currentColor\" x=\"3375\">pas</tspan>\n",
       "    <tspan class=\"displacy-tag\" dy=\"2em\" fill=\"currentColor\" x=\"3375\">ADV</tspan>\n",
       "</text>\n",
       "\n",
       "<text class=\"displacy-token\" fill=\"currentColor\" text-anchor=\"middle\" y=\"834.5\">\n",
       "    <tspan class=\"displacy-word\" fill=\"currentColor\" x=\"3550\">l’</tspan>\n",
       "    <tspan class=\"displacy-tag\" dy=\"2em\" fill=\"currentColor\" x=\"3550\">ADJ</tspan>\n",
       "</text>\n",
       "\n",
       "<text class=\"displacy-token\" fill=\"currentColor\" text-anchor=\"middle\" y=\"834.5\">\n",
       "    <tspan class=\"displacy-word\" fill=\"currentColor\" x=\"3725\">Université</tspan>\n",
       "    <tspan class=\"displacy-tag\" dy=\"2em\" fill=\"currentColor\" x=\"3725\">NOUN</tspan>\n",
       "</text>\n",
       "\n",
       "<text class=\"displacy-token\" fill=\"currentColor\" text-anchor=\"middle\" y=\"834.5\">\n",
       "    <tspan class=\"displacy-word\" fill=\"currentColor\" x=\"3900\">elle-même),</tspan>\n",
       "    <tspan class=\"displacy-tag\" dy=\"2em\" fill=\"currentColor\" x=\"3900\">PRON</tspan>\n",
       "</text>\n",
       "\n",
       "<text class=\"displacy-token\" fill=\"currentColor\" text-anchor=\"middle\" y=\"834.5\">\n",
       "    <tspan class=\"displacy-word\" fill=\"currentColor\" x=\"4075\">si</tspan>\n",
       "    <tspan class=\"displacy-tag\" dy=\"2em\" fill=\"currentColor\" x=\"4075\">SCONJ</tspan>\n",
       "</text>\n",
       "\n",
       "<text class=\"displacy-token\" fill=\"currentColor\" text-anchor=\"middle\" y=\"834.5\">\n",
       "    <tspan class=\"displacy-word\" fill=\"currentColor\" x=\"4250\">elle</tspan>\n",
       "    <tspan class=\"displacy-tag\" dy=\"2em\" fill=\"currentColor\" x=\"4250\">PRON</tspan>\n",
       "</text>\n",
       "\n",
       "<text class=\"displacy-token\" fill=\"currentColor\" text-anchor=\"middle\" y=\"834.5\">\n",
       "    <tspan class=\"displacy-word\" fill=\"currentColor\" x=\"4425\">est</tspan>\n",
       "    <tspan class=\"displacy-tag\" dy=\"2em\" fill=\"currentColor\" x=\"4425\">AUX</tspan>\n",
       "</text>\n",
       "\n",
       "<text class=\"displacy-token\" fill=\"currentColor\" text-anchor=\"middle\" y=\"834.5\">\n",
       "    <tspan class=\"displacy-word\" fill=\"currentColor\" x=\"4600\">\n",
       "</tspan>\n",
       "    <tspan class=\"displacy-tag\" dy=\"2em\" fill=\"currentColor\" x=\"4600\">SPACE</tspan>\n",
       "</text>\n",
       "\n",
       "<text class=\"displacy-token\" fill=\"currentColor\" text-anchor=\"middle\" y=\"834.5\">\n",
       "    <tspan class=\"displacy-word\" fill=\"currentColor\" x=\"4775\">conforme</tspan>\n",
       "    <tspan class=\"displacy-tag\" dy=\"2em\" fill=\"currentColor\" x=\"4775\">ADJ</tspan>\n",
       "</text>\n",
       "\n",
       "<text class=\"displacy-token\" fill=\"currentColor\" text-anchor=\"middle\" y=\"834.5\">\n",
       "    <tspan class=\"displacy-word\" fill=\"currentColor\" x=\"4950\">à</tspan>\n",
       "    <tspan class=\"displacy-tag\" dy=\"2em\" fill=\"currentColor\" x=\"4950\">ADP</tspan>\n",
       "</text>\n",
       "\n",
       "<text class=\"displacy-token\" fill=\"currentColor\" text-anchor=\"middle\" y=\"834.5\">\n",
       "    <tspan class=\"displacy-word\" fill=\"currentColor\" x=\"5125\">la</tspan>\n",
       "    <tspan class=\"displacy-tag\" dy=\"2em\" fill=\"currentColor\" x=\"5125\">DET</tspan>\n",
       "</text>\n",
       "\n",
       "<text class=\"displacy-token\" fill=\"currentColor\" text-anchor=\"middle\" y=\"834.5\">\n",
       "    <tspan class=\"displacy-word\" fill=\"currentColor\" x=\"5300\">loi.</tspan>\n",
       "    <tspan class=\"displacy-tag\" dy=\"2em\" fill=\"currentColor\" x=\"5300\">NOUN</tspan>\n",
       "</text>\n",
       "\n",
       "<text class=\"displacy-token\" fill=\"currentColor\" text-anchor=\"middle\" y=\"834.5\">\n",
       "    <tspan class=\"displacy-word\" fill=\"currentColor\" x=\"5475\">C’</tspan>\n",
       "    <tspan class=\"displacy-tag\" dy=\"2em\" fill=\"currentColor\" x=\"5475\">ADJ</tspan>\n",
       "</text>\n",
       "\n",
       "<text class=\"displacy-token\" fill=\"currentColor\" text-anchor=\"middle\" y=\"834.5\">\n",
       "    <tspan class=\"displacy-word\" fill=\"currentColor\" x=\"5650\">est</tspan>\n",
       "    <tspan class=\"displacy-tag\" dy=\"2em\" fill=\"currentColor\" x=\"5650\">AUX</tspan>\n",
       "</text>\n",
       "\n",
       "<text class=\"displacy-token\" fill=\"currentColor\" text-anchor=\"middle\" y=\"834.5\">\n",
       "    <tspan class=\"displacy-word\" fill=\"currentColor\" x=\"5825\">contraire</tspan>\n",
       "    <tspan class=\"displacy-tag\" dy=\"2em\" fill=\"currentColor\" x=\"5825\">ADJ</tspan>\n",
       "</text>\n",
       "\n",
       "<text class=\"displacy-token\" fill=\"currentColor\" text-anchor=\"middle\" y=\"834.5\">\n",
       "    <tspan class=\"displacy-word\" fill=\"currentColor\" x=\"6000\">au</tspan>\n",
       "    <tspan class=\"displacy-tag\" dy=\"2em\" fill=\"currentColor\" x=\"6000\">ADP</tspan>\n",
       "</text>\n",
       "\n",
       "<text class=\"displacy-token\" fill=\"currentColor\" text-anchor=\"middle\" y=\"834.5\">\n",
       "    <tspan class=\"displacy-word\" fill=\"currentColor\" x=\"6175\">principe</tspan>\n",
       "    <tspan class=\"displacy-tag\" dy=\"2em\" fill=\"currentColor\" x=\"6175\">NOUN</tspan>\n",
       "</text>\n",
       "\n",
       "<text class=\"displacy-token\" fill=\"currentColor\" text-anchor=\"middle\" y=\"834.5\">\n",
       "    <tspan class=\"displacy-word\" fill=\"currentColor\" x=\"6350\">constitutionnel</tspan>\n",
       "    <tspan class=\"displacy-tag\" dy=\"2em\" fill=\"currentColor\" x=\"6350\">ADJ</tspan>\n",
       "</text>\n",
       "\n",
       "<text class=\"displacy-token\" fill=\"currentColor\" text-anchor=\"middle\" y=\"834.5\">\n",
       "    <tspan class=\"displacy-word\" fill=\"currentColor\" x=\"6525\">d’</tspan>\n",
       "    <tspan class=\"displacy-tag\" dy=\"2em\" fill=\"currentColor\" x=\"6525\">ADV</tspan>\n",
       "</text>\n",
       "\n",
       "<text class=\"displacy-token\" fill=\"currentColor\" text-anchor=\"middle\" y=\"834.5\">\n",
       "    <tspan class=\"displacy-word\" fill=\"currentColor\" x=\"6700\">indépendance</tspan>\n",
       "    <tspan class=\"displacy-tag\" dy=\"2em\" fill=\"currentColor\" x=\"6700\">NOUN</tspan>\n",
       "</text>\n",
       "\n",
       "<text class=\"displacy-token\" fill=\"currentColor\" text-anchor=\"middle\" y=\"834.5\">\n",
       "    <tspan class=\"displacy-word\" fill=\"currentColor\" x=\"6875\">des</tspan>\n",
       "    <tspan class=\"displacy-tag\" dy=\"2em\" fill=\"currentColor\" x=\"6875\">ADP</tspan>\n",
       "</text>\n",
       "\n",
       "<text class=\"displacy-token\" fill=\"currentColor\" text-anchor=\"middle\" y=\"834.5\">\n",
       "    <tspan class=\"displacy-word\" fill=\"currentColor\" x=\"7050\">\n",
       "</tspan>\n",
       "    <tspan class=\"displacy-tag\" dy=\"2em\" fill=\"currentColor\" x=\"7050\">SPACE</tspan>\n",
       "</text>\n",
       "\n",
       "<text class=\"displacy-token\" fill=\"currentColor\" text-anchor=\"middle\" y=\"834.5\">\n",
       "    <tspan class=\"displacy-word\" fill=\"currentColor\" x=\"7225\">professeurs</tspan>\n",
       "    <tspan class=\"displacy-tag\" dy=\"2em\" fill=\"currentColor\" x=\"7225\">ADJ</tspan>\n",
       "</text>\n",
       "\n",
       "<text class=\"displacy-token\" fill=\"currentColor\" text-anchor=\"middle\" y=\"834.5\">\n",
       "    <tspan class=\"displacy-word\" fill=\"currentColor\" x=\"7400\">d’</tspan>\n",
       "    <tspan class=\"displacy-tag\" dy=\"2em\" fill=\"currentColor\" x=\"7400\">DET</tspan>\n",
       "</text>\n",
       "\n",
       "<text class=\"displacy-token\" fill=\"currentColor\" text-anchor=\"middle\" y=\"834.5\">\n",
       "    <tspan class=\"displacy-word\" fill=\"currentColor\" x=\"7575\">université.</tspan>\n",
       "    <tspan class=\"displacy-tag\" dy=\"2em\" fill=\"currentColor\" x=\"7575\">NOUN</tspan>\n",
       "</text>\n",
       "\n",
       "<text class=\"displacy-token\" fill=\"currentColor\" text-anchor=\"middle\" y=\"834.5\">\n",
       "    <tspan class=\"displacy-word\" fill=\"currentColor\" x=\"7750\">Il</tspan>\n",
       "    <tspan class=\"displacy-tag\" dy=\"2em\" fill=\"currentColor\" x=\"7750\">PRON</tspan>\n",
       "</text>\n",
       "\n",
       "<text class=\"displacy-token\" fill=\"currentColor\" text-anchor=\"middle\" y=\"834.5\">\n",
       "    <tspan class=\"displacy-word\" fill=\"currentColor\" x=\"7925\">peut</tspan>\n",
       "    <tspan class=\"displacy-tag\" dy=\"2em\" fill=\"currentColor\" x=\"7925\">VERB</tspan>\n",
       "</text>\n",
       "\n",
       "<text class=\"displacy-token\" fill=\"currentColor\" text-anchor=\"middle\" y=\"834.5\">\n",
       "    <tspan class=\"displacy-word\" fill=\"currentColor\" x=\"8100\">toutefois</tspan>\n",
       "    <tspan class=\"displacy-tag\" dy=\"2em\" fill=\"currentColor\" x=\"8100\">ADV</tspan>\n",
       "</text>\n",
       "\n",
       "<text class=\"displacy-token\" fill=\"currentColor\" text-anchor=\"middle\" y=\"834.5\">\n",
       "    <tspan class=\"displacy-word\" fill=\"currentColor\" x=\"8275\">participer</tspan>\n",
       "    <tspan class=\"displacy-tag\" dy=\"2em\" fill=\"currentColor\" x=\"8275\">VERB</tspan>\n",
       "</text>\n",
       "\n",
       "<text class=\"displacy-token\" fill=\"currentColor\" text-anchor=\"middle\" y=\"834.5\">\n",
       "    <tspan class=\"displacy-word\" fill=\"currentColor\" x=\"8450\">au</tspan>\n",
       "    <tspan class=\"displacy-tag\" dy=\"2em\" fill=\"currentColor\" x=\"8450\">ADP</tspan>\n",
       "</text>\n",
       "\n",
       "<text class=\"displacy-token\" fill=\"currentColor\" text-anchor=\"middle\" y=\"834.5\">\n",
       "    <tspan class=\"displacy-word\" fill=\"currentColor\" x=\"8625\">débat</tspan>\n",
       "    <tspan class=\"displacy-tag\" dy=\"2em\" fill=\"currentColor\" x=\"8625\">NOUN</tspan>\n",
       "</text>\n",
       "\n",
       "<text class=\"displacy-token\" fill=\"currentColor\" text-anchor=\"middle\" y=\"834.5\">\n",
       "    <tspan class=\"displacy-word\" fill=\"currentColor\" x=\"8800\">et</tspan>\n",
       "    <tspan class=\"displacy-tag\" dy=\"2em\" fill=\"currentColor\" x=\"8800\">CCONJ</tspan>\n",
       "</text>\n",
       "\n",
       "<text class=\"displacy-token\" fill=\"currentColor\" text-anchor=\"middle\" y=\"834.5\">\n",
       "    <tspan class=\"displacy-word\" fill=\"currentColor\" x=\"8975\">veiller</tspan>\n",
       "    <tspan class=\"displacy-tag\" dy=\"2em\" fill=\"currentColor\" x=\"8975\">VERB</tspan>\n",
       "</text>\n",
       "\n",
       "<text class=\"displacy-token\" fill=\"currentColor\" text-anchor=\"middle\" y=\"834.5\">\n",
       "    <tspan class=\"displacy-word\" fill=\"currentColor\" x=\"9150\">à</tspan>\n",
       "    <tspan class=\"displacy-tag\" dy=\"2em\" fill=\"currentColor\" x=\"9150\">ADP</tspan>\n",
       "</text>\n",
       "\n",
       "<text class=\"displacy-token\" fill=\"currentColor\" text-anchor=\"middle\" y=\"834.5\">\n",
       "    <tspan class=\"displacy-word\" fill=\"currentColor\" x=\"9325\">ce</tspan>\n",
       "    <tspan class=\"displacy-tag\" dy=\"2em\" fill=\"currentColor\" x=\"9325\">DET</tspan>\n",
       "</text>\n",
       "\n",
       "<text class=\"displacy-token\" fill=\"currentColor\" text-anchor=\"middle\" y=\"834.5\">\n",
       "    <tspan class=\"displacy-word\" fill=\"currentColor\" x=\"9500\">qu’</tspan>\n",
       "    <tspan class=\"displacy-tag\" dy=\"2em\" fill=\"currentColor\" x=\"9500\">NOUN</tspan>\n",
       "</text>\n",
       "\n",
       "<text class=\"displacy-token\" fill=\"currentColor\" text-anchor=\"middle\" y=\"834.5\">\n",
       "    <tspan class=\"displacy-word\" fill=\"currentColor\" x=\"9675\">aucun</tspan>\n",
       "    <tspan class=\"displacy-tag\" dy=\"2em\" fill=\"currentColor\" x=\"9675\">DET</tspan>\n",
       "</text>\n",
       "\n",
       "<text class=\"displacy-token\" fill=\"currentColor\" text-anchor=\"middle\" y=\"834.5\">\n",
       "    <tspan class=\"displacy-word\" fill=\"currentColor\" x=\"9850\">\n",
       "</tspan>\n",
       "    <tspan class=\"displacy-tag\" dy=\"2em\" fill=\"currentColor\" x=\"9850\">SPACE</tspan>\n",
       "</text>\n",
       "\n",
       "<text class=\"displacy-token\" fill=\"currentColor\" text-anchor=\"middle\" y=\"834.5\">\n",
       "    <tspan class=\"displacy-word\" fill=\"currentColor\" x=\"10025\">message</tspan>\n",
       "    <tspan class=\"displacy-tag\" dy=\"2em\" fill=\"currentColor\" x=\"10025\">NOUN</tspan>\n",
       "</text>\n",
       "\n",
       "<text class=\"displacy-token\" fill=\"currentColor\" text-anchor=\"middle\" y=\"834.5\">\n",
       "    <tspan class=\"displacy-word\" fill=\"currentColor\" x=\"10200\">illégal</tspan>\n",
       "    <tspan class=\"displacy-tag\" dy=\"2em\" fill=\"currentColor\" x=\"10200\">ADJ</tspan>\n",
       "</text>\n",
       "\n",
       "<text class=\"displacy-token\" fill=\"currentColor\" text-anchor=\"middle\" y=\"834.5\">\n",
       "    <tspan class=\"displacy-word\" fill=\"currentColor\" x=\"10375\">et</tspan>\n",
       "    <tspan class=\"displacy-tag\" dy=\"2em\" fill=\"currentColor\" x=\"10375\">CCONJ</tspan>\n",
       "</text>\n",
       "\n",
       "<text class=\"displacy-token\" fill=\"currentColor\" text-anchor=\"middle\" y=\"834.5\">\n",
       "    <tspan class=\"displacy-word\" fill=\"currentColor\" x=\"10550\">partial</tspan>\n",
       "    <tspan class=\"displacy-tag\" dy=\"2em\" fill=\"currentColor\" x=\"10550\">VERB</tspan>\n",
       "</text>\n",
       "\n",
       "<text class=\"displacy-token\" fill=\"currentColor\" text-anchor=\"middle\" y=\"834.5\">\n",
       "    <tspan class=\"displacy-word\" fill=\"currentColor\" x=\"10725\">ne</tspan>\n",
       "    <tspan class=\"displacy-tag\" dy=\"2em\" fill=\"currentColor\" x=\"10725\">ADV</tspan>\n",
       "</text>\n",
       "\n",
       "<text class=\"displacy-token\" fill=\"currentColor\" text-anchor=\"middle\" y=\"834.5\">\n",
       "    <tspan class=\"displacy-word\" fill=\"currentColor\" x=\"10900\">soit</tspan>\n",
       "    <tspan class=\"displacy-tag\" dy=\"2em\" fill=\"currentColor\" x=\"10900\">AUX</tspan>\n",
       "</text>\n",
       "\n",
       "<text class=\"displacy-token\" fill=\"currentColor\" text-anchor=\"middle\" y=\"834.5\">\n",
       "    <tspan class=\"displacy-word\" fill=\"currentColor\" x=\"11075\">délivré.</tspan>\n",
       "    <tspan class=\"displacy-tag\" dy=\"2em\" fill=\"currentColor\" x=\"11075\">VERB</tspan>\n",
       "</text>\n",
       "\n",
       "<g class=\"displacy-arrow\">\n",
       "    <path class=\"displacy-arc\" id=\"arrow-b810c9b1b65649abab2d3a0d63539ec8-0-0\" stroke-width=\"2px\" d=\"M70,789.5 C70,352.0 905.0,352.0 905.0,789.5\" fill=\"none\" stroke=\"currentColor\"/>\n",
       "    <text dy=\"1.25em\" style=\"font-size: 0.8em; letter-spacing: 1px\">\n",
       "        <textPath xlink:href=\"#arrow-b810c9b1b65649abab2d3a0d63539ec8-0-0\" class=\"displacy-label\" startOffset=\"50%\" side=\"left\" fill=\"currentColor\" text-anchor=\"middle\">nsubj</textPath>\n",
       "    </text>\n",
       "    <path class=\"displacy-arrowhead\" d=\"M70,791.5 L62,779.5 78,779.5\" fill=\"currentColor\"/>\n",
       "</g>\n",
       "\n",
       "<g class=\"displacy-arrow\">\n",
       "    <path class=\"displacy-arc\" id=\"arrow-b810c9b1b65649abab2d3a0d63539ec8-0-1\" stroke-width=\"2px\" d=\"M70,789.5 C70,702.0 185.0,702.0 185.0,789.5\" fill=\"none\" stroke=\"currentColor\"/>\n",
       "    <text dy=\"1.25em\" style=\"font-size: 0.8em; letter-spacing: 1px\">\n",
       "        <textPath xlink:href=\"#arrow-b810c9b1b65649abab2d3a0d63539ec8-0-1\" class=\"displacy-label\" startOffset=\"50%\" side=\"left\" fill=\"currentColor\" text-anchor=\"middle\">flat:name</textPath>\n",
       "    </text>\n",
       "    <path class=\"displacy-arrowhead\" d=\"M185.0,791.5 L193.0,779.5 177.0,779.5\" fill=\"currentColor\"/>\n",
       "</g>\n",
       "\n",
       "<g class=\"displacy-arrow\">\n",
       "    <path class=\"displacy-arc\" id=\"arrow-b810c9b1b65649abab2d3a0d63539ec8-0-2\" stroke-width=\"2px\" d=\"M70,789.5 C70,614.5 365.0,614.5 365.0,789.5\" fill=\"none\" stroke=\"currentColor\"/>\n",
       "    <text dy=\"1.25em\" style=\"font-size: 0.8em; letter-spacing: 1px\">\n",
       "        <textPath xlink:href=\"#arrow-b810c9b1b65649abab2d3a0d63539ec8-0-2\" class=\"displacy-label\" startOffset=\"50%\" side=\"left\" fill=\"currentColor\" text-anchor=\"middle\">flat:name</textPath>\n",
       "    </text>\n",
       "    <path class=\"displacy-arrowhead\" d=\"M365.0,791.5 L373.0,779.5 357.0,779.5\" fill=\"currentColor\"/>\n",
       "</g>\n",
       "\n",
       "<g class=\"displacy-arrow\">\n",
       "    <path class=\"displacy-arc\" id=\"arrow-b810c9b1b65649abab2d3a0d63539ec8-0-3\" stroke-width=\"2px\" d=\"M595,789.5 C595,614.5 890.0,614.5 890.0,789.5\" fill=\"none\" stroke=\"currentColor\"/>\n",
       "    <text dy=\"1.25em\" style=\"font-size: 0.8em; letter-spacing: 1px\">\n",
       "        <textPath xlink:href=\"#arrow-b810c9b1b65649abab2d3a0d63539ec8-0-3\" class=\"displacy-label\" startOffset=\"50%\" side=\"left\" fill=\"currentColor\" text-anchor=\"middle\">punct</textPath>\n",
       "    </text>\n",
       "    <path class=\"displacy-arrowhead\" d=\"M595,791.5 L587,779.5 603,779.5\" fill=\"currentColor\"/>\n",
       "</g>\n",
       "\n",
       "<g class=\"displacy-arrow\">\n",
       "    <path class=\"displacy-arc\" id=\"arrow-b810c9b1b65649abab2d3a0d63539ec8-0-4\" stroke-width=\"2px\" d=\"M770,789.5 C770,702.0 885.0,702.0 885.0,789.5\" fill=\"none\" stroke=\"currentColor\"/>\n",
       "    <text dy=\"1.25em\" style=\"font-size: 0.8em; letter-spacing: 1px\">\n",
       "        <textPath xlink:href=\"#arrow-b810c9b1b65649abab2d3a0d63539ec8-0-4\" class=\"displacy-label\" startOffset=\"50%\" side=\"left\" fill=\"currentColor\" text-anchor=\"middle\">advmod</textPath>\n",
       "    </text>\n",
       "    <path class=\"displacy-arrowhead\" d=\"M770,791.5 L762,779.5 778,779.5\" fill=\"currentColor\"/>\n",
       "</g>\n",
       "\n",
       "<g class=\"displacy-arrow\">\n",
       "    <path class=\"displacy-arc\" id=\"arrow-b810c9b1b65649abab2d3a0d63539ec8-0-5\" stroke-width=\"2px\" d=\"M1120,789.5 C1120,702.0 1235.0,702.0 1235.0,789.5\" fill=\"none\" stroke=\"currentColor\"/>\n",
       "    <text dy=\"1.25em\" style=\"font-size: 0.8em; letter-spacing: 1px\">\n",
       "        <textPath xlink:href=\"#arrow-b810c9b1b65649abab2d3a0d63539ec8-0-5\" class=\"displacy-label\" startOffset=\"50%\" side=\"left\" fill=\"currentColor\" text-anchor=\"middle\">amod</textPath>\n",
       "    </text>\n",
       "    <path class=\"displacy-arrowhead\" d=\"M1120,791.5 L1112,779.5 1128,779.5\" fill=\"currentColor\"/>\n",
       "</g>\n",
       "\n",
       "<g class=\"displacy-arrow\">\n",
       "    <path class=\"displacy-arc\" id=\"arrow-b810c9b1b65649abab2d3a0d63539ec8-0-6\" stroke-width=\"2px\" d=\"M945,789.5 C945,614.5 1240.0,614.5 1240.0,789.5\" fill=\"none\" stroke=\"currentColor\"/>\n",
       "    <text dy=\"1.25em\" style=\"font-size: 0.8em; letter-spacing: 1px\">\n",
       "        <textPath xlink:href=\"#arrow-b810c9b1b65649abab2d3a0d63539ec8-0-6\" class=\"displacy-label\" startOffset=\"50%\" side=\"left\" fill=\"currentColor\" text-anchor=\"middle\">xcomp</textPath>\n",
       "    </text>\n",
       "    <path class=\"displacy-arrowhead\" d=\"M1240.0,791.5 L1248.0,779.5 1232.0,779.5\" fill=\"currentColor\"/>\n",
       "</g>\n",
       "\n",
       "<g class=\"displacy-arrow\">\n",
       "    <path class=\"displacy-arc\" id=\"arrow-b810c9b1b65649abab2d3a0d63539ec8-0-7\" stroke-width=\"2px\" d=\"M1470,789.5 C1470,702.0 1585.0,702.0 1585.0,789.5\" fill=\"none\" stroke=\"currentColor\"/>\n",
       "    <text dy=\"1.25em\" style=\"font-size: 0.8em; letter-spacing: 1px\">\n",
       "        <textPath xlink:href=\"#arrow-b810c9b1b65649abab2d3a0d63539ec8-0-7\" class=\"displacy-label\" startOffset=\"50%\" side=\"left\" fill=\"currentColor\" text-anchor=\"middle\">det</textPath>\n",
       "    </text>\n",
       "    <path class=\"displacy-arrowhead\" d=\"M1470,791.5 L1462,779.5 1478,779.5\" fill=\"currentColor\"/>\n",
       "</g>\n",
       "\n",
       "<g class=\"displacy-arrow\">\n",
       "    <path class=\"displacy-arc\" id=\"arrow-b810c9b1b65649abab2d3a0d63539ec8-0-8\" stroke-width=\"2px\" d=\"M945,789.5 C945,439.5 1600.0,439.5 1600.0,789.5\" fill=\"none\" stroke=\"currentColor\"/>\n",
       "    <text dy=\"1.25em\" style=\"font-size: 0.8em; letter-spacing: 1px\">\n",
       "        <textPath xlink:href=\"#arrow-b810c9b1b65649abab2d3a0d63539ec8-0-8\" class=\"displacy-label\" startOffset=\"50%\" side=\"left\" fill=\"currentColor\" text-anchor=\"middle\">obj</textPath>\n",
       "    </text>\n",
       "    <path class=\"displacy-arrowhead\" d=\"M1600.0,791.5 L1608.0,779.5 1592.0,779.5\" fill=\"currentColor\"/>\n",
       "</g>\n",
       "\n",
       "<g class=\"displacy-arrow\">\n",
       "    <path class=\"displacy-arc\" id=\"arrow-b810c9b1b65649abab2d3a0d63539ec8-0-9\" stroke-width=\"2px\" d=\"M1820,789.5 C1820,702.0 1935.0,702.0 1935.0,789.5\" fill=\"none\" stroke=\"currentColor\"/>\n",
       "    <text dy=\"1.25em\" style=\"font-size: 0.8em; letter-spacing: 1px\">\n",
       "        <textPath xlink:href=\"#arrow-b810c9b1b65649abab2d3a0d63539ec8-0-9\" class=\"displacy-label\" startOffset=\"50%\" side=\"left\" fill=\"currentColor\" text-anchor=\"middle\">cc</textPath>\n",
       "    </text>\n",
       "    <path class=\"displacy-arrowhead\" d=\"M1820,791.5 L1812,779.5 1828,779.5\" fill=\"currentColor\"/>\n",
       "</g>\n",
       "\n",
       "<g class=\"displacy-arrow\">\n",
       "    <path class=\"displacy-arc\" id=\"arrow-b810c9b1b65649abab2d3a0d63539ec8-0-10\" stroke-width=\"2px\" d=\"M1995,789.5 C1995,702.0 2110.0,702.0 2110.0,789.5\" fill=\"none\" stroke=\"currentColor\"/>\n",
       "    <text dy=\"1.25em\" style=\"font-size: 0.8em; letter-spacing: 1px\">\n",
       "        <textPath xlink:href=\"#arrow-b810c9b1b65649abab2d3a0d63539ec8-0-10\" class=\"displacy-label\" startOffset=\"50%\" side=\"left\" fill=\"currentColor\" text-anchor=\"middle\">amod</textPath>\n",
       "    </text>\n",
       "    <path class=\"displacy-arrowhead\" d=\"M1995,791.5 L1987,779.5 2003,779.5\" fill=\"currentColor\"/>\n",
       "</g>\n",
       "\n",
       "<g class=\"displacy-arrow\">\n",
       "    <path class=\"displacy-arc\" id=\"arrow-b810c9b1b65649abab2d3a0d63539ec8-0-11\" stroke-width=\"2px\" d=\"M1645,789.5 C1645,527.0 2120.0,527.0 2120.0,789.5\" fill=\"none\" stroke=\"currentColor\"/>\n",
       "    <text dy=\"1.25em\" style=\"font-size: 0.8em; letter-spacing: 1px\">\n",
       "        <textPath xlink:href=\"#arrow-b810c9b1b65649abab2d3a0d63539ec8-0-11\" class=\"displacy-label\" startOffset=\"50%\" side=\"left\" fill=\"currentColor\" text-anchor=\"middle\">nmod</textPath>\n",
       "    </text>\n",
       "    <path class=\"displacy-arrowhead\" d=\"M2120.0,791.5 L2128.0,779.5 2112.0,779.5\" fill=\"currentColor\"/>\n",
       "</g>\n",
       "\n",
       "<g class=\"displacy-arrow\">\n",
       "    <path class=\"displacy-arc\" id=\"arrow-b810c9b1b65649abab2d3a0d63539ec8-0-12\" stroke-width=\"2px\" d=\"M2170,789.5 C2170,702.0 2285.0,702.0 2285.0,789.5\" fill=\"none\" stroke=\"currentColor\"/>\n",
       "    <text dy=\"1.25em\" style=\"font-size: 0.8em; letter-spacing: 1px\">\n",
       "        <textPath xlink:href=\"#arrow-b810c9b1b65649abab2d3a0d63539ec8-0-12\" class=\"displacy-label\" startOffset=\"50%\" side=\"left\" fill=\"currentColor\" text-anchor=\"middle\">nmod</textPath>\n",
       "    </text>\n",
       "    <path class=\"displacy-arrowhead\" d=\"M2285.0,791.5 L2293.0,779.5 2277.0,779.5\" fill=\"currentColor\"/>\n",
       "</g>\n",
       "\n",
       "<g class=\"displacy-arrow\">\n",
       "    <path class=\"displacy-arc\" id=\"arrow-b810c9b1b65649abab2d3a0d63539ec8-0-13\" stroke-width=\"2px\" d=\"M2170,789.5 C2170,614.5 2465.0,614.5 2465.0,789.5\" fill=\"none\" stroke=\"currentColor\"/>\n",
       "    <text dy=\"1.25em\" style=\"font-size: 0.8em; letter-spacing: 1px\">\n",
       "        <textPath xlink:href=\"#arrow-b810c9b1b65649abab2d3a0d63539ec8-0-13\" class=\"displacy-label\" startOffset=\"50%\" side=\"left\" fill=\"currentColor\" text-anchor=\"middle\">acl</textPath>\n",
       "    </text>\n",
       "    <path class=\"displacy-arrowhead\" d=\"M2465.0,791.5 L2473.0,779.5 2457.0,779.5\" fill=\"currentColor\"/>\n",
       "</g>\n",
       "\n",
       "<g class=\"displacy-arrow\">\n",
       "    <path class=\"displacy-arc\" id=\"arrow-b810c9b1b65649abab2d3a0d63539ec8-0-14\" stroke-width=\"2px\" d=\"M2695,789.5 C2695,614.5 2990.0,614.5 2990.0,789.5\" fill=\"none\" stroke=\"currentColor\"/>\n",
       "    <text dy=\"1.25em\" style=\"font-size: 0.8em; letter-spacing: 1px\">\n",
       "        <textPath xlink:href=\"#arrow-b810c9b1b65649abab2d3a0d63539ec8-0-14\" class=\"displacy-label\" startOffset=\"50%\" side=\"left\" fill=\"currentColor\" text-anchor=\"middle\">case</textPath>\n",
       "    </text>\n",
       "    <path class=\"displacy-arrowhead\" d=\"M2695,791.5 L2687,779.5 2703,779.5\" fill=\"currentColor\"/>\n",
       "</g>\n",
       "\n",
       "<g class=\"displacy-arrow\">\n",
       "    <path class=\"displacy-arc\" id=\"arrow-b810c9b1b65649abab2d3a0d63539ec8-0-15\" stroke-width=\"2px\" d=\"M2870,789.5 C2870,702.0 2985.0,702.0 2985.0,789.5\" fill=\"none\" stroke=\"currentColor\"/>\n",
       "    <text dy=\"1.25em\" style=\"font-size: 0.8em; letter-spacing: 1px\">\n",
       "        <textPath xlink:href=\"#arrow-b810c9b1b65649abab2d3a0d63539ec8-0-15\" class=\"displacy-label\" startOffset=\"50%\" side=\"left\" fill=\"currentColor\" text-anchor=\"middle\">det</textPath>\n",
       "    </text>\n",
       "    <path class=\"displacy-arrowhead\" d=\"M2870,791.5 L2862,779.5 2878,779.5\" fill=\"currentColor\"/>\n",
       "</g>\n",
       "\n",
       "<g class=\"displacy-arrow\">\n",
       "    <path class=\"displacy-arc\" id=\"arrow-b810c9b1b65649abab2d3a0d63539ec8-0-16\" stroke-width=\"2px\" d=\"M2520,789.5 C2520,527.0 2995.0,527.0 2995.0,789.5\" fill=\"none\" stroke=\"currentColor\"/>\n",
       "    <text dy=\"1.25em\" style=\"font-size: 0.8em; letter-spacing: 1px\">\n",
       "        <textPath xlink:href=\"#arrow-b810c9b1b65649abab2d3a0d63539ec8-0-16\" class=\"displacy-label\" startOffset=\"50%\" side=\"left\" fill=\"currentColor\" text-anchor=\"middle\">obl:agent</textPath>\n",
       "    </text>\n",
       "    <path class=\"displacy-arrowhead\" d=\"M2995.0,791.5 L3003.0,779.5 2987.0,779.5\" fill=\"currentColor\"/>\n",
       "</g>\n",
       "\n",
       "<g class=\"displacy-arrow\">\n",
       "    <path class=\"displacy-arc\" id=\"arrow-b810c9b1b65649abab2d3a0d63539ec8-0-17\" stroke-width=\"2px\" d=\"M3220,789.5 C3220,527.0 3695.0,527.0 3695.0,789.5\" fill=\"none\" stroke=\"currentColor\"/>\n",
       "    <text dy=\"1.25em\" style=\"font-size: 0.8em; letter-spacing: 1px\">\n",
       "        <textPath xlink:href=\"#arrow-b810c9b1b65649abab2d3a0d63539ec8-0-17\" class=\"displacy-label\" startOffset=\"50%\" side=\"left\" fill=\"currentColor\" text-anchor=\"middle\">cc</textPath>\n",
       "    </text>\n",
       "    <path class=\"displacy-arrowhead\" d=\"M3220,791.5 L3212,779.5 3228,779.5\" fill=\"currentColor\"/>\n",
       "</g>\n",
       "\n",
       "<g class=\"displacy-arrow\">\n",
       "    <path class=\"displacy-arc\" id=\"arrow-b810c9b1b65649abab2d3a0d63539ec8-0-18\" stroke-width=\"2px\" d=\"M3395,789.5 C3395,702.0 3510.0,702.0 3510.0,789.5\" fill=\"none\" stroke=\"currentColor\"/>\n",
       "    <text dy=\"1.25em\" style=\"font-size: 0.8em; letter-spacing: 1px\">\n",
       "        <textPath xlink:href=\"#arrow-b810c9b1b65649abab2d3a0d63539ec8-0-18\" class=\"displacy-label\" startOffset=\"50%\" side=\"left\" fill=\"currentColor\" text-anchor=\"middle\">advmod</textPath>\n",
       "    </text>\n",
       "    <path class=\"displacy-arrowhead\" d=\"M3395,791.5 L3387,779.5 3403,779.5\" fill=\"currentColor\"/>\n",
       "</g>\n",
       "\n",
       "<g class=\"displacy-arrow\">\n",
       "    <path class=\"displacy-arc\" id=\"arrow-b810c9b1b65649abab2d3a0d63539ec8-0-19\" stroke-width=\"2px\" d=\"M3570,789.5 C3570,702.0 3685.0,702.0 3685.0,789.5\" fill=\"none\" stroke=\"currentColor\"/>\n",
       "    <text dy=\"1.25em\" style=\"font-size: 0.8em; letter-spacing: 1px\">\n",
       "        <textPath xlink:href=\"#arrow-b810c9b1b65649abab2d3a0d63539ec8-0-19\" class=\"displacy-label\" startOffset=\"50%\" side=\"left\" fill=\"currentColor\" text-anchor=\"middle\">amod</textPath>\n",
       "    </text>\n",
       "    <path class=\"displacy-arrowhead\" d=\"M3570,791.5 L3562,779.5 3578,779.5\" fill=\"currentColor\"/>\n",
       "</g>\n",
       "\n",
       "<g class=\"displacy-arrow\">\n",
       "    <path class=\"displacy-arc\" id=\"arrow-b810c9b1b65649abab2d3a0d63539ec8-0-20\" stroke-width=\"2px\" d=\"M945,789.5 C945,89.5 3720.0,89.5 3720.0,789.5\" fill=\"none\" stroke=\"currentColor\"/>\n",
       "    <text dy=\"1.25em\" style=\"font-size: 0.8em; letter-spacing: 1px\">\n",
       "        <textPath xlink:href=\"#arrow-b810c9b1b65649abab2d3a0d63539ec8-0-20\" class=\"displacy-label\" startOffset=\"50%\" side=\"left\" fill=\"currentColor\" text-anchor=\"middle\">conj</textPath>\n",
       "    </text>\n",
       "    <path class=\"displacy-arrowhead\" d=\"M3720.0,791.5 L3728.0,779.5 3712.0,779.5\" fill=\"currentColor\"/>\n",
       "</g>\n",
       "\n",
       "<g class=\"displacy-arrow\">\n",
       "    <path class=\"displacy-arc\" id=\"arrow-b810c9b1b65649abab2d3a0d63539ec8-0-21\" stroke-width=\"2px\" d=\"M3745,789.5 C3745,702.0 3860.0,702.0 3860.0,789.5\" fill=\"none\" stroke=\"currentColor\"/>\n",
       "    <text dy=\"1.25em\" style=\"font-size: 0.8em; letter-spacing: 1px\">\n",
       "        <textPath xlink:href=\"#arrow-b810c9b1b65649abab2d3a0d63539ec8-0-21\" class=\"displacy-label\" startOffset=\"50%\" side=\"left\" fill=\"currentColor\" text-anchor=\"middle\">dep</textPath>\n",
       "    </text>\n",
       "    <path class=\"displacy-arrowhead\" d=\"M3860.0,791.5 L3868.0,779.5 3852.0,779.5\" fill=\"currentColor\"/>\n",
       "</g>\n",
       "\n",
       "<g class=\"displacy-arrow\">\n",
       "    <path class=\"displacy-arc\" id=\"arrow-b810c9b1b65649abab2d3a0d63539ec8-0-22\" stroke-width=\"2px\" d=\"M4095,789.5 C4095,527.0 4570.0,527.0 4570.0,789.5\" fill=\"none\" stroke=\"currentColor\"/>\n",
       "    <text dy=\"1.25em\" style=\"font-size: 0.8em; letter-spacing: 1px\">\n",
       "        <textPath xlink:href=\"#arrow-b810c9b1b65649abab2d3a0d63539ec8-0-22\" class=\"displacy-label\" startOffset=\"50%\" side=\"left\" fill=\"currentColor\" text-anchor=\"middle\">mark</textPath>\n",
       "    </text>\n",
       "    <path class=\"displacy-arrowhead\" d=\"M4095,791.5 L4087,779.5 4103,779.5\" fill=\"currentColor\"/>\n",
       "</g>\n",
       "\n",
       "<g class=\"displacy-arrow\">\n",
       "    <path class=\"displacy-arc\" id=\"arrow-b810c9b1b65649abab2d3a0d63539ec8-0-23\" stroke-width=\"2px\" d=\"M4270,789.5 C4270,614.5 4565.0,614.5 4565.0,789.5\" fill=\"none\" stroke=\"currentColor\"/>\n",
       "    <text dy=\"1.25em\" style=\"font-size: 0.8em; letter-spacing: 1px\">\n",
       "        <textPath xlink:href=\"#arrow-b810c9b1b65649abab2d3a0d63539ec8-0-23\" class=\"displacy-label\" startOffset=\"50%\" side=\"left\" fill=\"currentColor\" text-anchor=\"middle\">nsubj</textPath>\n",
       "    </text>\n",
       "    <path class=\"displacy-arrowhead\" d=\"M4270,791.5 L4262,779.5 4278,779.5\" fill=\"currentColor\"/>\n",
       "</g>\n",
       "\n",
       "<g class=\"displacy-arrow\">\n",
       "    <path class=\"displacy-arc\" id=\"arrow-b810c9b1b65649abab2d3a0d63539ec8-0-24\" stroke-width=\"2px\" d=\"M4445,789.5 C4445,702.0 4560.0,702.0 4560.0,789.5\" fill=\"none\" stroke=\"currentColor\"/>\n",
       "    <text dy=\"1.25em\" style=\"font-size: 0.8em; letter-spacing: 1px\">\n",
       "        <textPath xlink:href=\"#arrow-b810c9b1b65649abab2d3a0d63539ec8-0-24\" class=\"displacy-label\" startOffset=\"50%\" side=\"left\" fill=\"currentColor\" text-anchor=\"middle\">aux:pass</textPath>\n",
       "    </text>\n",
       "    <path class=\"displacy-arrowhead\" d=\"M4445,791.5 L4437,779.5 4453,779.5\" fill=\"currentColor\"/>\n",
       "</g>\n",
       "\n",
       "<g class=\"displacy-arrow\">\n",
       "    <path class=\"displacy-arc\" id=\"arrow-b810c9b1b65649abab2d3a0d63539ec8-0-25\" stroke-width=\"2px\" d=\"M945,789.5 C945,2.0 4600.0,2.0 4600.0,789.5\" fill=\"none\" stroke=\"currentColor\"/>\n",
       "    <text dy=\"1.25em\" style=\"font-size: 0.8em; letter-spacing: 1px\">\n",
       "        <textPath xlink:href=\"#arrow-b810c9b1b65649abab2d3a0d63539ec8-0-25\" class=\"displacy-label\" startOffset=\"50%\" side=\"left\" fill=\"currentColor\" text-anchor=\"middle\">advcl</textPath>\n",
       "    </text>\n",
       "    <path class=\"displacy-arrowhead\" d=\"M4600.0,791.5 L4608.0,779.5 4592.0,779.5\" fill=\"currentColor\"/>\n",
       "</g>\n",
       "\n",
       "<g class=\"displacy-arrow\">\n",
       "    <path class=\"displacy-arc\" id=\"arrow-b810c9b1b65649abab2d3a0d63539ec8-0-26\" stroke-width=\"2px\" d=\"M4620,789.5 C4620,702.0 4735.0,702.0 4735.0,789.5\" fill=\"none\" stroke=\"currentColor\"/>\n",
       "    <text dy=\"1.25em\" style=\"font-size: 0.8em; letter-spacing: 1px\">\n",
       "        <textPath xlink:href=\"#arrow-b810c9b1b65649abab2d3a0d63539ec8-0-26\" class=\"displacy-label\" startOffset=\"50%\" side=\"left\" fill=\"currentColor\" text-anchor=\"middle\">advmod</textPath>\n",
       "    </text>\n",
       "    <path class=\"displacy-arrowhead\" d=\"M4735.0,791.5 L4743.0,779.5 4727.0,779.5\" fill=\"currentColor\"/>\n",
       "</g>\n",
       "\n",
       "<g class=\"displacy-arrow\">\n",
       "    <path class=\"displacy-arc\" id=\"arrow-b810c9b1b65649abab2d3a0d63539ec8-0-27\" stroke-width=\"2px\" d=\"M4970,789.5 C4970,614.5 5265.0,614.5 5265.0,789.5\" fill=\"none\" stroke=\"currentColor\"/>\n",
       "    <text dy=\"1.25em\" style=\"font-size: 0.8em; letter-spacing: 1px\">\n",
       "        <textPath xlink:href=\"#arrow-b810c9b1b65649abab2d3a0d63539ec8-0-27\" class=\"displacy-label\" startOffset=\"50%\" side=\"left\" fill=\"currentColor\" text-anchor=\"middle\">case</textPath>\n",
       "    </text>\n",
       "    <path class=\"displacy-arrowhead\" d=\"M4970,791.5 L4962,779.5 4978,779.5\" fill=\"currentColor\"/>\n",
       "</g>\n",
       "\n",
       "<g class=\"displacy-arrow\">\n",
       "    <path class=\"displacy-arc\" id=\"arrow-b810c9b1b65649abab2d3a0d63539ec8-0-28\" stroke-width=\"2px\" d=\"M5145,789.5 C5145,702.0 5260.0,702.0 5260.0,789.5\" fill=\"none\" stroke=\"currentColor\"/>\n",
       "    <text dy=\"1.25em\" style=\"font-size: 0.8em; letter-spacing: 1px\">\n",
       "        <textPath xlink:href=\"#arrow-b810c9b1b65649abab2d3a0d63539ec8-0-28\" class=\"displacy-label\" startOffset=\"50%\" side=\"left\" fill=\"currentColor\" text-anchor=\"middle\">det</textPath>\n",
       "    </text>\n",
       "    <path class=\"displacy-arrowhead\" d=\"M5145,791.5 L5137,779.5 5153,779.5\" fill=\"currentColor\"/>\n",
       "</g>\n",
       "\n",
       "<g class=\"displacy-arrow\">\n",
       "    <path class=\"displacy-arc\" id=\"arrow-b810c9b1b65649abab2d3a0d63539ec8-0-29\" stroke-width=\"2px\" d=\"M4620,789.5 C4620,439.5 5275.0,439.5 5275.0,789.5\" fill=\"none\" stroke=\"currentColor\"/>\n",
       "    <text dy=\"1.25em\" style=\"font-size: 0.8em; letter-spacing: 1px\">\n",
       "        <textPath xlink:href=\"#arrow-b810c9b1b65649abab2d3a0d63539ec8-0-29\" class=\"displacy-label\" startOffset=\"50%\" side=\"left\" fill=\"currentColor\" text-anchor=\"middle\">obl:arg</textPath>\n",
       "    </text>\n",
       "    <path class=\"displacy-arrowhead\" d=\"M5275.0,791.5 L5283.0,779.5 5267.0,779.5\" fill=\"currentColor\"/>\n",
       "</g>\n",
       "\n",
       "<g class=\"displacy-arrow\">\n",
       "    <path class=\"displacy-arc\" id=\"arrow-b810c9b1b65649abab2d3a0d63539ec8-0-30\" stroke-width=\"2px\" d=\"M5495,789.5 C5495,614.5 5790.0,614.5 5790.0,789.5\" fill=\"none\" stroke=\"currentColor\"/>\n",
       "    <text dy=\"1.25em\" style=\"font-size: 0.8em; letter-spacing: 1px\">\n",
       "        <textPath xlink:href=\"#arrow-b810c9b1b65649abab2d3a0d63539ec8-0-30\" class=\"displacy-label\" startOffset=\"50%\" side=\"left\" fill=\"currentColor\" text-anchor=\"middle\">nsubj</textPath>\n",
       "    </text>\n",
       "    <path class=\"displacy-arrowhead\" d=\"M5495,791.5 L5487,779.5 5503,779.5\" fill=\"currentColor\"/>\n",
       "</g>\n",
       "\n",
       "<g class=\"displacy-arrow\">\n",
       "    <path class=\"displacy-arc\" id=\"arrow-b810c9b1b65649abab2d3a0d63539ec8-0-31\" stroke-width=\"2px\" d=\"M5670,789.5 C5670,702.0 5785.0,702.0 5785.0,789.5\" fill=\"none\" stroke=\"currentColor\"/>\n",
       "    <text dy=\"1.25em\" style=\"font-size: 0.8em; letter-spacing: 1px\">\n",
       "        <textPath xlink:href=\"#arrow-b810c9b1b65649abab2d3a0d63539ec8-0-31\" class=\"displacy-label\" startOffset=\"50%\" side=\"left\" fill=\"currentColor\" text-anchor=\"middle\">cop</textPath>\n",
       "    </text>\n",
       "    <path class=\"displacy-arrowhead\" d=\"M5670,791.5 L5662,779.5 5678,779.5\" fill=\"currentColor\"/>\n",
       "</g>\n",
       "\n",
       "<g class=\"displacy-arrow\">\n",
       "    <path class=\"displacy-arc\" id=\"arrow-b810c9b1b65649abab2d3a0d63539ec8-0-32\" stroke-width=\"2px\" d=\"M6020,789.5 C6020,702.0 6135.0,702.0 6135.0,789.5\" fill=\"none\" stroke=\"currentColor\"/>\n",
       "    <text dy=\"1.25em\" style=\"font-size: 0.8em; letter-spacing: 1px\">\n",
       "        <textPath xlink:href=\"#arrow-b810c9b1b65649abab2d3a0d63539ec8-0-32\" class=\"displacy-label\" startOffset=\"50%\" side=\"left\" fill=\"currentColor\" text-anchor=\"middle\">case</textPath>\n",
       "    </text>\n",
       "    <path class=\"displacy-arrowhead\" d=\"M6020,791.5 L6012,779.5 6028,779.5\" fill=\"currentColor\"/>\n",
       "</g>\n",
       "\n",
       "<g class=\"displacy-arrow\">\n",
       "    <path class=\"displacy-arc\" id=\"arrow-b810c9b1b65649abab2d3a0d63539ec8-0-33\" stroke-width=\"2px\" d=\"M5845,789.5 C5845,614.5 6140.0,614.5 6140.0,789.5\" fill=\"none\" stroke=\"currentColor\"/>\n",
       "    <text dy=\"1.25em\" style=\"font-size: 0.8em; letter-spacing: 1px\">\n",
       "        <textPath xlink:href=\"#arrow-b810c9b1b65649abab2d3a0d63539ec8-0-33\" class=\"displacy-label\" startOffset=\"50%\" side=\"left\" fill=\"currentColor\" text-anchor=\"middle\">obl:arg</textPath>\n",
       "    </text>\n",
       "    <path class=\"displacy-arrowhead\" d=\"M6140.0,791.5 L6148.0,779.5 6132.0,779.5\" fill=\"currentColor\"/>\n",
       "</g>\n",
       "\n",
       "<g class=\"displacy-arrow\">\n",
       "    <path class=\"displacy-arc\" id=\"arrow-b810c9b1b65649abab2d3a0d63539ec8-0-34\" stroke-width=\"2px\" d=\"M6195,789.5 C6195,702.0 6310.0,702.0 6310.0,789.5\" fill=\"none\" stroke=\"currentColor\"/>\n",
       "    <text dy=\"1.25em\" style=\"font-size: 0.8em; letter-spacing: 1px\">\n",
       "        <textPath xlink:href=\"#arrow-b810c9b1b65649abab2d3a0d63539ec8-0-34\" class=\"displacy-label\" startOffset=\"50%\" side=\"left\" fill=\"currentColor\" text-anchor=\"middle\">amod</textPath>\n",
       "    </text>\n",
       "    <path class=\"displacy-arrowhead\" d=\"M6310.0,791.5 L6318.0,779.5 6302.0,779.5\" fill=\"currentColor\"/>\n",
       "</g>\n",
       "\n",
       "<g class=\"displacy-arrow\">\n",
       "    <path class=\"displacy-arc\" id=\"arrow-b810c9b1b65649abab2d3a0d63539ec8-0-35\" stroke-width=\"2px\" d=\"M5845,789.5 C5845,439.5 6500.0,439.5 6500.0,789.5\" fill=\"none\" stroke=\"currentColor\"/>\n",
       "    <text dy=\"1.25em\" style=\"font-size: 0.8em; letter-spacing: 1px\">\n",
       "        <textPath xlink:href=\"#arrow-b810c9b1b65649abab2d3a0d63539ec8-0-35\" class=\"displacy-label\" startOffset=\"50%\" side=\"left\" fill=\"currentColor\" text-anchor=\"middle\">advmod</textPath>\n",
       "    </text>\n",
       "    <path class=\"displacy-arrowhead\" d=\"M6500.0,791.5 L6508.0,779.5 6492.0,779.5\" fill=\"currentColor\"/>\n",
       "</g>\n",
       "\n",
       "<g class=\"displacy-arrow\">\n",
       "    <path class=\"displacy-arc\" id=\"arrow-b810c9b1b65649abab2d3a0d63539ec8-0-36\" stroke-width=\"2px\" d=\"M5845,789.5 C5845,352.0 6680.0,352.0 6680.0,789.5\" fill=\"none\" stroke=\"currentColor\"/>\n",
       "    <text dy=\"1.25em\" style=\"font-size: 0.8em; letter-spacing: 1px\">\n",
       "        <textPath xlink:href=\"#arrow-b810c9b1b65649abab2d3a0d63539ec8-0-36\" class=\"displacy-label\" startOffset=\"50%\" side=\"left\" fill=\"currentColor\" text-anchor=\"middle\">dep</textPath>\n",
       "    </text>\n",
       "    <path class=\"displacy-arrowhead\" d=\"M6680.0,791.5 L6688.0,779.5 6672.0,779.5\" fill=\"currentColor\"/>\n",
       "</g>\n",
       "\n",
       "<g class=\"displacy-arrow\">\n",
       "    <path class=\"displacy-arc\" id=\"arrow-b810c9b1b65649abab2d3a0d63539ec8-0-37\" stroke-width=\"2px\" d=\"M6895,789.5 C6895,702.0 7010.0,702.0 7010.0,789.5\" fill=\"none\" stroke=\"currentColor\"/>\n",
       "    <text dy=\"1.25em\" style=\"font-size: 0.8em; letter-spacing: 1px\">\n",
       "        <textPath xlink:href=\"#arrow-b810c9b1b65649abab2d3a0d63539ec8-0-37\" class=\"displacy-label\" startOffset=\"50%\" side=\"left\" fill=\"currentColor\" text-anchor=\"middle\">case</textPath>\n",
       "    </text>\n",
       "    <path class=\"displacy-arrowhead\" d=\"M6895,791.5 L6887,779.5 6903,779.5\" fill=\"currentColor\"/>\n",
       "</g>\n",
       "\n",
       "<g class=\"displacy-arrow\">\n",
       "    <path class=\"displacy-arc\" id=\"arrow-b810c9b1b65649abab2d3a0d63539ec8-0-38\" stroke-width=\"2px\" d=\"M6720,789.5 C6720,614.5 7015.0,614.5 7015.0,789.5\" fill=\"none\" stroke=\"currentColor\"/>\n",
       "    <text dy=\"1.25em\" style=\"font-size: 0.8em; letter-spacing: 1px\">\n",
       "        <textPath xlink:href=\"#arrow-b810c9b1b65649abab2d3a0d63539ec8-0-38\" class=\"displacy-label\" startOffset=\"50%\" side=\"left\" fill=\"currentColor\" text-anchor=\"middle\">nmod</textPath>\n",
       "    </text>\n",
       "    <path class=\"displacy-arrowhead\" d=\"M7015.0,791.5 L7023.0,779.5 7007.0,779.5\" fill=\"currentColor\"/>\n",
       "</g>\n",
       "\n",
       "<g class=\"displacy-arrow\">\n",
       "    <path class=\"displacy-arc\" id=\"arrow-b810c9b1b65649abab2d3a0d63539ec8-0-39\" stroke-width=\"2px\" d=\"M7070,789.5 C7070,702.0 7185.0,702.0 7185.0,789.5\" fill=\"none\" stroke=\"currentColor\"/>\n",
       "    <text dy=\"1.25em\" style=\"font-size: 0.8em; letter-spacing: 1px\">\n",
       "        <textPath xlink:href=\"#arrow-b810c9b1b65649abab2d3a0d63539ec8-0-39\" class=\"displacy-label\" startOffset=\"50%\" side=\"left\" fill=\"currentColor\" text-anchor=\"middle\">amod</textPath>\n",
       "    </text>\n",
       "    <path class=\"displacy-arrowhead\" d=\"M7185.0,791.5 L7193.0,779.5 7177.0,779.5\" fill=\"currentColor\"/>\n",
       "</g>\n",
       "\n",
       "<g class=\"displacy-arrow\">\n",
       "    <path class=\"displacy-arc\" id=\"arrow-b810c9b1b65649abab2d3a0d63539ec8-0-40\" stroke-width=\"2px\" d=\"M7420,789.5 C7420,702.0 7535.0,702.0 7535.0,789.5\" fill=\"none\" stroke=\"currentColor\"/>\n",
       "    <text dy=\"1.25em\" style=\"font-size: 0.8em; letter-spacing: 1px\">\n",
       "        <textPath xlink:href=\"#arrow-b810c9b1b65649abab2d3a0d63539ec8-0-40\" class=\"displacy-label\" startOffset=\"50%\" side=\"left\" fill=\"currentColor\" text-anchor=\"middle\">amod</textPath>\n",
       "    </text>\n",
       "    <path class=\"displacy-arrowhead\" d=\"M7420,791.5 L7412,779.5 7428,779.5\" fill=\"currentColor\"/>\n",
       "</g>\n",
       "\n",
       "<g class=\"displacy-arrow\">\n",
       "    <path class=\"displacy-arc\" id=\"arrow-b810c9b1b65649abab2d3a0d63539ec8-0-41\" stroke-width=\"2px\" d=\"M7070,789.5 C7070,527.0 7545.0,527.0 7545.0,789.5\" fill=\"none\" stroke=\"currentColor\"/>\n",
       "    <text dy=\"1.25em\" style=\"font-size: 0.8em; letter-spacing: 1px\">\n",
       "        <textPath xlink:href=\"#arrow-b810c9b1b65649abab2d3a0d63539ec8-0-41\" class=\"displacy-label\" startOffset=\"50%\" side=\"left\" fill=\"currentColor\" text-anchor=\"middle\">nmod</textPath>\n",
       "    </text>\n",
       "    <path class=\"displacy-arrowhead\" d=\"M7545.0,791.5 L7553.0,779.5 7537.0,779.5\" fill=\"currentColor\"/>\n",
       "</g>\n",
       "\n",
       "<g class=\"displacy-arrow\">\n",
       "    <path class=\"displacy-arc\" id=\"arrow-b810c9b1b65649abab2d3a0d63539ec8-0-42\" stroke-width=\"2px\" d=\"M7770,789.5 C7770,702.0 7885.0,702.0 7885.0,789.5\" fill=\"none\" stroke=\"currentColor\"/>\n",
       "    <text dy=\"1.25em\" style=\"font-size: 0.8em; letter-spacing: 1px\">\n",
       "        <textPath xlink:href=\"#arrow-b810c9b1b65649abab2d3a0d63539ec8-0-42\" class=\"displacy-label\" startOffset=\"50%\" side=\"left\" fill=\"currentColor\" text-anchor=\"middle\">expl:subj</textPath>\n",
       "    </text>\n",
       "    <path class=\"displacy-arrowhead\" d=\"M7770,791.5 L7762,779.5 7778,779.5\" fill=\"currentColor\"/>\n",
       "</g>\n",
       "\n",
       "<g class=\"displacy-arrow\">\n",
       "    <path class=\"displacy-arc\" id=\"arrow-b810c9b1b65649abab2d3a0d63539ec8-0-43\" stroke-width=\"2px\" d=\"M7945,789.5 C7945,702.0 8060.0,702.0 8060.0,789.5\" fill=\"none\" stroke=\"currentColor\"/>\n",
       "    <text dy=\"1.25em\" style=\"font-size: 0.8em; letter-spacing: 1px\">\n",
       "        <textPath xlink:href=\"#arrow-b810c9b1b65649abab2d3a0d63539ec8-0-43\" class=\"displacy-label\" startOffset=\"50%\" side=\"left\" fill=\"currentColor\" text-anchor=\"middle\">advmod</textPath>\n",
       "    </text>\n",
       "    <path class=\"displacy-arrowhead\" d=\"M8060.0,791.5 L8068.0,779.5 8052.0,779.5\" fill=\"currentColor\"/>\n",
       "</g>\n",
       "\n",
       "<g class=\"displacy-arrow\">\n",
       "    <path class=\"displacy-arc\" id=\"arrow-b810c9b1b65649abab2d3a0d63539ec8-0-44\" stroke-width=\"2px\" d=\"M7945,789.5 C7945,614.5 8240.0,614.5 8240.0,789.5\" fill=\"none\" stroke=\"currentColor\"/>\n",
       "    <text dy=\"1.25em\" style=\"font-size: 0.8em; letter-spacing: 1px\">\n",
       "        <textPath xlink:href=\"#arrow-b810c9b1b65649abab2d3a0d63539ec8-0-44\" class=\"displacy-label\" startOffset=\"50%\" side=\"left\" fill=\"currentColor\" text-anchor=\"middle\">xcomp</textPath>\n",
       "    </text>\n",
       "    <path class=\"displacy-arrowhead\" d=\"M8240.0,791.5 L8248.0,779.5 8232.0,779.5\" fill=\"currentColor\"/>\n",
       "</g>\n",
       "\n",
       "<g class=\"displacy-arrow\">\n",
       "    <path class=\"displacy-arc\" id=\"arrow-b810c9b1b65649abab2d3a0d63539ec8-0-45\" stroke-width=\"2px\" d=\"M8470,789.5 C8470,702.0 8585.0,702.0 8585.0,789.5\" fill=\"none\" stroke=\"currentColor\"/>\n",
       "    <text dy=\"1.25em\" style=\"font-size: 0.8em; letter-spacing: 1px\">\n",
       "        <textPath xlink:href=\"#arrow-b810c9b1b65649abab2d3a0d63539ec8-0-45\" class=\"displacy-label\" startOffset=\"50%\" side=\"left\" fill=\"currentColor\" text-anchor=\"middle\">case</textPath>\n",
       "    </text>\n",
       "    <path class=\"displacy-arrowhead\" d=\"M8470,791.5 L8462,779.5 8478,779.5\" fill=\"currentColor\"/>\n",
       "</g>\n",
       "\n",
       "<g class=\"displacy-arrow\">\n",
       "    <path class=\"displacy-arc\" id=\"arrow-b810c9b1b65649abab2d3a0d63539ec8-0-46\" stroke-width=\"2px\" d=\"M8295,789.5 C8295,614.5 8590.0,614.5 8590.0,789.5\" fill=\"none\" stroke=\"currentColor\"/>\n",
       "    <text dy=\"1.25em\" style=\"font-size: 0.8em; letter-spacing: 1px\">\n",
       "        <textPath xlink:href=\"#arrow-b810c9b1b65649abab2d3a0d63539ec8-0-46\" class=\"displacy-label\" startOffset=\"50%\" side=\"left\" fill=\"currentColor\" text-anchor=\"middle\">obl:arg</textPath>\n",
       "    </text>\n",
       "    <path class=\"displacy-arrowhead\" d=\"M8590.0,791.5 L8598.0,779.5 8582.0,779.5\" fill=\"currentColor\"/>\n",
       "</g>\n",
       "\n",
       "<g class=\"displacy-arrow\">\n",
       "    <path class=\"displacy-arc\" id=\"arrow-b810c9b1b65649abab2d3a0d63539ec8-0-47\" stroke-width=\"2px\" d=\"M8820,789.5 C8820,702.0 8935.0,702.0 8935.0,789.5\" fill=\"none\" stroke=\"currentColor\"/>\n",
       "    <text dy=\"1.25em\" style=\"font-size: 0.8em; letter-spacing: 1px\">\n",
       "        <textPath xlink:href=\"#arrow-b810c9b1b65649abab2d3a0d63539ec8-0-47\" class=\"displacy-label\" startOffset=\"50%\" side=\"left\" fill=\"currentColor\" text-anchor=\"middle\">cc</textPath>\n",
       "    </text>\n",
       "    <path class=\"displacy-arrowhead\" d=\"M8820,791.5 L8812,779.5 8828,779.5\" fill=\"currentColor\"/>\n",
       "</g>\n",
       "\n",
       "<g class=\"displacy-arrow\">\n",
       "    <path class=\"displacy-arc\" id=\"arrow-b810c9b1b65649abab2d3a0d63539ec8-0-48\" stroke-width=\"2px\" d=\"M7945,789.5 C7945,264.5 8960.0,264.5 8960.0,789.5\" fill=\"none\" stroke=\"currentColor\"/>\n",
       "    <text dy=\"1.25em\" style=\"font-size: 0.8em; letter-spacing: 1px\">\n",
       "        <textPath xlink:href=\"#arrow-b810c9b1b65649abab2d3a0d63539ec8-0-48\" class=\"displacy-label\" startOffset=\"50%\" side=\"left\" fill=\"currentColor\" text-anchor=\"middle\">conj</textPath>\n",
       "    </text>\n",
       "    <path class=\"displacy-arrowhead\" d=\"M8960.0,791.5 L8968.0,779.5 8952.0,779.5\" fill=\"currentColor\"/>\n",
       "</g>\n",
       "\n",
       "<g class=\"displacy-arrow\">\n",
       "    <path class=\"displacy-arc\" id=\"arrow-b810c9b1b65649abab2d3a0d63539ec8-0-49\" stroke-width=\"2px\" d=\"M9170,789.5 C9170,614.5 9465.0,614.5 9465.0,789.5\" fill=\"none\" stroke=\"currentColor\"/>\n",
       "    <text dy=\"1.25em\" style=\"font-size: 0.8em; letter-spacing: 1px\">\n",
       "        <textPath xlink:href=\"#arrow-b810c9b1b65649abab2d3a0d63539ec8-0-49\" class=\"displacy-label\" startOffset=\"50%\" side=\"left\" fill=\"currentColor\" text-anchor=\"middle\">case</textPath>\n",
       "    </text>\n",
       "    <path class=\"displacy-arrowhead\" d=\"M9170,791.5 L9162,779.5 9178,779.5\" fill=\"currentColor\"/>\n",
       "</g>\n",
       "\n",
       "<g class=\"displacy-arrow\">\n",
       "    <path class=\"displacy-arc\" id=\"arrow-b810c9b1b65649abab2d3a0d63539ec8-0-50\" stroke-width=\"2px\" d=\"M9345,789.5 C9345,702.0 9460.0,702.0 9460.0,789.5\" fill=\"none\" stroke=\"currentColor\"/>\n",
       "    <text dy=\"1.25em\" style=\"font-size: 0.8em; letter-spacing: 1px\">\n",
       "        <textPath xlink:href=\"#arrow-b810c9b1b65649abab2d3a0d63539ec8-0-50\" class=\"displacy-label\" startOffset=\"50%\" side=\"left\" fill=\"currentColor\" text-anchor=\"middle\">det</textPath>\n",
       "    </text>\n",
       "    <path class=\"displacy-arrowhead\" d=\"M9345,791.5 L9337,779.5 9353,779.5\" fill=\"currentColor\"/>\n",
       "</g>\n",
       "\n",
       "<g class=\"displacy-arrow\">\n",
       "    <path class=\"displacy-arc\" id=\"arrow-b810c9b1b65649abab2d3a0d63539ec8-0-51\" stroke-width=\"2px\" d=\"M8995,789.5 C8995,527.0 9470.0,527.0 9470.0,789.5\" fill=\"none\" stroke=\"currentColor\"/>\n",
       "    <text dy=\"1.25em\" style=\"font-size: 0.8em; letter-spacing: 1px\">\n",
       "        <textPath xlink:href=\"#arrow-b810c9b1b65649abab2d3a0d63539ec8-0-51\" class=\"displacy-label\" startOffset=\"50%\" side=\"left\" fill=\"currentColor\" text-anchor=\"middle\">obl:arg</textPath>\n",
       "    </text>\n",
       "    <path class=\"displacy-arrowhead\" d=\"M9470.0,791.5 L9478.0,779.5 9462.0,779.5\" fill=\"currentColor\"/>\n",
       "</g>\n",
       "\n",
       "<g class=\"displacy-arrow\">\n",
       "    <path class=\"displacy-arc\" id=\"arrow-b810c9b1b65649abab2d3a0d63539ec8-0-52\" stroke-width=\"2px\" d=\"M9695,789.5 C9695,702.0 9810.0,702.0 9810.0,789.5\" fill=\"none\" stroke=\"currentColor\"/>\n",
       "    <text dy=\"1.25em\" style=\"font-size: 0.8em; letter-spacing: 1px\">\n",
       "        <textPath xlink:href=\"#arrow-b810c9b1b65649abab2d3a0d63539ec8-0-52\" class=\"displacy-label\" startOffset=\"50%\" side=\"left\" fill=\"currentColor\" text-anchor=\"middle\">det</textPath>\n",
       "    </text>\n",
       "    <path class=\"displacy-arrowhead\" d=\"M9695,791.5 L9687,779.5 9703,779.5\" fill=\"currentColor\"/>\n",
       "</g>\n",
       "\n",
       "<g class=\"displacy-arrow\">\n",
       "    <path class=\"displacy-arc\" id=\"arrow-b810c9b1b65649abab2d3a0d63539ec8-0-53\" stroke-width=\"2px\" d=\"M9520,789.5 C9520,614.5 9815.0,614.5 9815.0,789.5\" fill=\"none\" stroke=\"currentColor\"/>\n",
       "    <text dy=\"1.25em\" style=\"font-size: 0.8em; letter-spacing: 1px\">\n",
       "        <textPath xlink:href=\"#arrow-b810c9b1b65649abab2d3a0d63539ec8-0-53\" class=\"displacy-label\" startOffset=\"50%\" side=\"left\" fill=\"currentColor\" text-anchor=\"middle\">nmod</textPath>\n",
       "    </text>\n",
       "    <path class=\"displacy-arrowhead\" d=\"M9815.0,791.5 L9823.0,779.5 9807.0,779.5\" fill=\"currentColor\"/>\n",
       "</g>\n",
       "\n",
       "<g class=\"displacy-arrow\">\n",
       "    <path class=\"displacy-arc\" id=\"arrow-b810c9b1b65649abab2d3a0d63539ec8-0-54\" stroke-width=\"2px\" d=\"M9870,789.5 C9870,702.0 9985.0,702.0 9985.0,789.5\" fill=\"none\" stroke=\"currentColor\"/>\n",
       "    <text dy=\"1.25em\" style=\"font-size: 0.8em; letter-spacing: 1px\">\n",
       "        <textPath xlink:href=\"#arrow-b810c9b1b65649abab2d3a0d63539ec8-0-54\" class=\"displacy-label\" startOffset=\"50%\" side=\"left\" fill=\"currentColor\" text-anchor=\"middle\">nmod</textPath>\n",
       "    </text>\n",
       "    <path class=\"displacy-arrowhead\" d=\"M9985.0,791.5 L9993.0,779.5 9977.0,779.5\" fill=\"currentColor\"/>\n",
       "</g>\n",
       "\n",
       "<g class=\"displacy-arrow\">\n",
       "    <path class=\"displacy-arc\" id=\"arrow-b810c9b1b65649abab2d3a0d63539ec8-0-55\" stroke-width=\"2px\" d=\"M10045,789.5 C10045,702.0 10160.0,702.0 10160.0,789.5\" fill=\"none\" stroke=\"currentColor\"/>\n",
       "    <text dy=\"1.25em\" style=\"font-size: 0.8em; letter-spacing: 1px\">\n",
       "        <textPath xlink:href=\"#arrow-b810c9b1b65649abab2d3a0d63539ec8-0-55\" class=\"displacy-label\" startOffset=\"50%\" side=\"left\" fill=\"currentColor\" text-anchor=\"middle\">amod</textPath>\n",
       "    </text>\n",
       "    <path class=\"displacy-arrowhead\" d=\"M10160.0,791.5 L10168.0,779.5 10152.0,779.5\" fill=\"currentColor\"/>\n",
       "</g>\n",
       "\n",
       "<g class=\"displacy-arrow\">\n",
       "    <path class=\"displacy-arc\" id=\"arrow-b810c9b1b65649abab2d3a0d63539ec8-0-56\" stroke-width=\"2px\" d=\"M10395,789.5 C10395,702.0 10510.0,702.0 10510.0,789.5\" fill=\"none\" stroke=\"currentColor\"/>\n",
       "    <text dy=\"1.25em\" style=\"font-size: 0.8em; letter-spacing: 1px\">\n",
       "        <textPath xlink:href=\"#arrow-b810c9b1b65649abab2d3a0d63539ec8-0-56\" class=\"displacy-label\" startOffset=\"50%\" side=\"left\" fill=\"currentColor\" text-anchor=\"middle\">cc</textPath>\n",
       "    </text>\n",
       "    <path class=\"displacy-arrowhead\" d=\"M10395,791.5 L10387,779.5 10403,779.5\" fill=\"currentColor\"/>\n",
       "</g>\n",
       "\n",
       "<g class=\"displacy-arrow\">\n",
       "    <path class=\"displacy-arc\" id=\"arrow-b810c9b1b65649abab2d3a0d63539ec8-0-57\" stroke-width=\"2px\" d=\"M10220,789.5 C10220,614.5 10515.0,614.5 10515.0,789.5\" fill=\"none\" stroke=\"currentColor\"/>\n",
       "    <text dy=\"1.25em\" style=\"font-size: 0.8em; letter-spacing: 1px\">\n",
       "        <textPath xlink:href=\"#arrow-b810c9b1b65649abab2d3a0d63539ec8-0-57\" class=\"displacy-label\" startOffset=\"50%\" side=\"left\" fill=\"currentColor\" text-anchor=\"middle\">conj</textPath>\n",
       "    </text>\n",
       "    <path class=\"displacy-arrowhead\" d=\"M10515.0,791.5 L10523.0,779.5 10507.0,779.5\" fill=\"currentColor\"/>\n",
       "</g>\n",
       "\n",
       "<g class=\"displacy-arrow\">\n",
       "    <path class=\"displacy-arc\" id=\"arrow-b810c9b1b65649abab2d3a0d63539ec8-0-58\" stroke-width=\"2px\" d=\"M10745,789.5 C10745,614.5 11040.0,614.5 11040.0,789.5\" fill=\"none\" stroke=\"currentColor\"/>\n",
       "    <text dy=\"1.25em\" style=\"font-size: 0.8em; letter-spacing: 1px\">\n",
       "        <textPath xlink:href=\"#arrow-b810c9b1b65649abab2d3a0d63539ec8-0-58\" class=\"displacy-label\" startOffset=\"50%\" side=\"left\" fill=\"currentColor\" text-anchor=\"middle\">advmod</textPath>\n",
       "    </text>\n",
       "    <path class=\"displacy-arrowhead\" d=\"M10745,791.5 L10737,779.5 10753,779.5\" fill=\"currentColor\"/>\n",
       "</g>\n",
       "\n",
       "<g class=\"displacy-arrow\">\n",
       "    <path class=\"displacy-arc\" id=\"arrow-b810c9b1b65649abab2d3a0d63539ec8-0-59\" stroke-width=\"2px\" d=\"M10920,789.5 C10920,702.0 11035.0,702.0 11035.0,789.5\" fill=\"none\" stroke=\"currentColor\"/>\n",
       "    <text dy=\"1.25em\" style=\"font-size: 0.8em; letter-spacing: 1px\">\n",
       "        <textPath xlink:href=\"#arrow-b810c9b1b65649abab2d3a0d63539ec8-0-59\" class=\"displacy-label\" startOffset=\"50%\" side=\"left\" fill=\"currentColor\" text-anchor=\"middle\">aux:pass</textPath>\n",
       "    </text>\n",
       "    <path class=\"displacy-arrowhead\" d=\"M10920,791.5 L10912,779.5 10928,779.5\" fill=\"currentColor\"/>\n",
       "</g>\n",
       "\n",
       "<g class=\"displacy-arrow\">\n",
       "    <path class=\"displacy-arc\" id=\"arrow-b810c9b1b65649abab2d3a0d63539ec8-0-60\" stroke-width=\"2px\" d=\"M8995,789.5 C8995,177.0 11065.0,177.0 11065.0,789.5\" fill=\"none\" stroke=\"currentColor\"/>\n",
       "    <text dy=\"1.25em\" style=\"font-size: 0.8em; letter-spacing: 1px\">\n",
       "        <textPath xlink:href=\"#arrow-b810c9b1b65649abab2d3a0d63539ec8-0-60\" class=\"displacy-label\" startOffset=\"50%\" side=\"left\" fill=\"currentColor\" text-anchor=\"middle\">ccomp</textPath>\n",
       "    </text>\n",
       "    <path class=\"displacy-arrowhead\" d=\"M11065.0,791.5 L11073.0,779.5 11057.0,779.5\" fill=\"currentColor\"/>\n",
       "</g>\n",
       "</svg>\n",
       "</figure>\n",
       "</body>\n",
       "</html></span>"
      ],
      "text/plain": [
       "<IPython.core.display.HTML object>"
      ]
     },
     "metadata": {},
     "output_type": "display_data"
    },
    {
     "name": "stdout",
     "output_type": "stream",
     "text": [
      "\n",
      "Using the 'dep' visualizer\n",
      "Serving on http://0.0.0.0:5000 ...\n",
      "\n"
     ]
    }
   ],
   "source": [
    "from spacy import displacy\n",
    "\n",
    "displacy.serve(doc, style=\"dep\")"
   ]
  },
  {
   "cell_type": "markdown",
   "metadata": {},
   "source": [
    "### Phrases nominales a partir de l'arbre de dépendance"
   ]
  },
  {
   "cell_type": "code",
   "execution_count": 40,
   "metadata": {},
   "outputs": [
    {
     "name": "stdout",
     "output_type": "stream",
     "text": [
      "Solidaire Etudiant-e -------> Solidaire ----> nsubj\n",
      "une conférence ou autre \n",
      "manifestation organisée par un enseignant -------> conférence ----> obj\n",
      "et pas l’Université elle-même -------> Université ----> conj\n",
      "elle -------> elle ----> nsubj\n",
      "d’université -------> université ----> nmod\n",
      "message illégal et partial -------> message ----> nmod\n"
     ]
    }
   ],
   "source": [
    "for tocken in doc.noun_chunks:\n",
    "    print(tocken.text, \"------->\", tocken.root.text, \"---->\", tocken.root.dep_)"
   ]
  },
  {
   "cell_type": "markdown",
   "metadata": {},
   "source": [
    "### Prédiction des entités Nommées"
   ]
  },
  {
   "cell_type": "code",
   "execution_count": 41,
   "metadata": {},
   "outputs": [
    {
     "name": "stdout",
     "output_type": "stream",
     "text": [
      "Solidaire Etudiant-e-s -------> MISC\n",
      "l’Université -------> ORG\n",
      "C’ -------> MISC\n",
      "d’ -------> PER\n"
     ]
    }
   ],
   "source": [
    "# parcourir les entités prédites\n",
    "for ent in doc.ents:\n",
    "    # Affiche le texte de l'entité et son label\n",
    "    print(ent.text, \"------->\", ent.label_)"
   ]
  },
  {
   "cell_type": "code",
   "execution_count": 42,
   "metadata": {},
   "outputs": [
    {
     "data": {
      "text/plain": [
       "('Miscellaneous entities, e.g. events, nationalities, products or works of art',\n",
       " 'Countries, cities, states',\n",
       " 'noun, proper singular',\n",
       " 'direct object',\n",
       " 'Companies, agencies, institutions, etc.')"
      ]
     },
     "execution_count": 42,
     "metadata": {},
     "output_type": "execute_result"
    }
   ],
   "source": [
    "spacy.explain(\"MISC\"), spacy.explain(\"GPE\"), spacy.explain(\"NNP\"), spacy.explain(\"dobj\"), spacy.explain(\"ORG\")"
   ]
  },
  {
   "cell_type": "markdown",
   "metadata": {},
   "source": [
    "### Visualisatuin des entités Nommées"
   ]
  },
  {
   "cell_type": "code",
   "execution_count": null,
   "metadata": {},
   "outputs": [
    {
     "name": "stderr",
     "output_type": "stream",
     "text": [
      "/home/rachida/anaconda3/lib/python3.8/site-packages/spacy/displacy/__init__.py:97: UserWarning: [W011] It looks like you're calling displacy.serve from within a Jupyter notebook or a similar environment. This likely means you're already running a local web server, so there's no need to make displaCy start another one. Instead, you should be able to replace displacy.serve with displacy.render to show the visualization.\n",
      "  warnings.warn(Warnings.W011)\n"
     ]
    },
    {
     "data": {
      "text/html": [
       "<span class=\"tex2jax_ignore\"><!DOCTYPE html>\n",
       "<html lang=\"fr\">\n",
       "    <head>\n",
       "        <title>displaCy</title>\n",
       "    </head>\n",
       "\n",
       "    <body style=\"font-size: 16px; font-family: -apple-system, BlinkMacSystemFont, 'Segoe UI', Helvetica, Arial, sans-serif, 'Apple Color Emoji', 'Segoe UI Emoji', 'Segoe UI Symbol'; padding: 4rem 2rem; direction: ltr\">\n",
       "<figure style=\"margin-bottom: 6rem\">\n",
       "<div class=\"entities\" style=\"line-height: 2.5; direction: ltr\">\n",
       "<mark class=\"entity\" style=\"background: #ddd; padding: 0.45em 0.6em; margin: 0 0.25em; line-height: 1; border-radius: 0.35em;\">\n",
       "    Solidaire Etudiant-e-s\n",
       "    <span style=\"font-size: 0.8em; font-weight: bold; line-height: 1; border-radius: 0.35em; vertical-align: middle; margin-left: 0.5rem\">MISC</span>\n",
       "</mark>\n",
       " ne peut faire interdire une conférence ou autre </br>manifestation organisée par un enseignant (et pas \n",
       "<mark class=\"entity\" style=\"background: #7aecec; padding: 0.45em 0.6em; margin: 0 0.25em; line-height: 1; border-radius: 0.35em;\">\n",
       "    l’Université\n",
       "    <span style=\"font-size: 0.8em; font-weight: bold; line-height: 1; border-radius: 0.35em; vertical-align: middle; margin-left: 0.5rem\">ORG</span>\n",
       "</mark>\n",
       " elle-même), si elle est </br>conforme à la loi. \n",
       "<mark class=\"entity\" style=\"background: #ddd; padding: 0.45em 0.6em; margin: 0 0.25em; line-height: 1; border-radius: 0.35em;\">\n",
       "    C’\n",
       "    <span style=\"font-size: 0.8em; font-weight: bold; line-height: 1; border-radius: 0.35em; vertical-align: middle; margin-left: 0.5rem\">MISC</span>\n",
       "</mark>\n",
       "est contraire au principe constitutionnel \n",
       "<mark class=\"entity\" style=\"background: #ddd; padding: 0.45em 0.6em; margin: 0 0.25em; line-height: 1; border-radius: 0.35em;\">\n",
       "    d’\n",
       "    <span style=\"font-size: 0.8em; font-weight: bold; line-height: 1; border-radius: 0.35em; vertical-align: middle; margin-left: 0.5rem\">PER</span>\n",
       "</mark>\n",
       "indépendance des </br>professeurs d’université. Il peut toutefois participer au débat et veiller à ce qu’aucun </br>message illégal et partial ne soit délivré.</div>\n",
       "</figure>\n",
       "</body>\n",
       "</html></span>"
      ],
      "text/plain": [
       "<IPython.core.display.HTML object>"
      ]
     },
     "metadata": {},
     "output_type": "display_data"
    },
    {
     "name": "stdout",
     "output_type": "stream",
     "text": [
      "\n",
      "Using the 'ent' visualizer\n",
      "Serving on http://0.0.0.0:5000 ...\n",
      "\n"
     ]
    }
   ],
   "source": [
    "from spacy import displacy\n",
    "displacy.serve(doc, style=\"ent\")"
   ]
  },
  {
   "cell_type": "markdown",
   "metadata": {},
   "source": [
    "### Correspondance basée sur des règles avec \"Matcher\""
   ]
  },
  {
   "cell_type": "markdown",
   "metadata": {},
   "source": [
    "### Matcher de token"
   ]
  },
  {
   "cell_type": "code",
   "execution_count": 3,
   "metadata": {},
   "outputs": [
    {
     "data": {
      "text/plain": [
       "[(7604275899133490726, 64, 67)]"
      ]
     },
     "execution_count": 3,
     "metadata": {},
     "output_type": "execute_result"
    }
   ],
   "source": [
    "# Importer spaCy Matcher\n",
    "from spacy.matcher import Matcher\n",
    "# Initialiser le matcher avec le vocabulaire partagé\n",
    "matcher = Matcher(nlp.vocab)\n",
    "text = \"\"\"Solidaire Etudiant-e-s ne peut faire interdire une conférence ou autre \n",
    "manifestation organisée par un enseignant (et pas l’Université elle-même), si elle est \n",
    "conforme à la loi. C’est contraire au principe constitutionnel d’indépendance des \n",
    "professeurs d’université. Il peut toutefois participer au débat et veiller à ce qu’aucun \n",
    "message illégal et partial ne soit délivré.\"\"\"\n",
    "# Traite un texte\n",
    "doc = nlp(text)\n",
    "# Ajoute le motif au matcher (Definir les regles)\n",
    "pattern = [{'TEXT': 'message'}, {'TEXT': 'illégal'}, {'TEXT': 'et'}]\n",
    "\n",
    "# Ajouter la regle \n",
    "matcher.add('rule_1', [pattern])\n",
    "# Appelle le matcher sur le doc\n",
    "matches = matcher(doc)\n",
    "matches"
   ]
  },
  {
   "cell_type": "markdown",
   "metadata": {},
   "source": [
    "#### L'extraction de text avec le matcher definer avant sur un doc"
   ]
  },
  {
   "cell_type": "code",
   "execution_count": 4,
   "metadata": {},
   "outputs": [
    {
     "name": "stdout",
     "output_type": "stream",
     "text": [
      "message illégal et\n"
     ]
    }
   ],
   "source": [
    "# parcorir sur les correspondances\n",
    "for match_id, start, end in matches:\n",
    "    # Obtiens le span en correspondance\n",
    "    matched_span = doc[start:end]\n",
    "    print(matched_span.text)"
   ]
  },
  {
   "cell_type": "raw",
   "metadata": {},
   "source": [
    "Voici ce motif nous recherchons six jetons:\n",
    "Quatre jetons insensibles à la casse pour \"souhaite\", \"marine\", \"le\", \"pen\". Par contre les jetons que on met on les fait en miniscule\n",
    "Un token composé uniquement de valeurs numériques.\n",
    "Et un jeton de type ponctuation.\n",
    "Le motif trouve les \"SOUHAITE Marine Le Pen 2011 ;\"."
   ]
  },
  {
   "cell_type": "code",
   "execution_count": 5,
   "metadata": {},
   "outputs": [
    {
     "name": "stdout",
     "output_type": "stream",
     "text": [
      "manifestation ORGANISÉE par enseignant 2021!\n"
     ]
    }
   ],
   "source": [
    "text = \"\"\"Solidaire Etudiant-e-s ne peut faire interdire une conférence ou autre \n",
    "manifestation ORGANISÉE par enseignant 2021! (et pas l’Université elle-même), si elle est \n",
    "conforme à la loi. C’est contraire au principe constitutionnel d’indépendance des \n",
    "professeurs d’université. Il peut toutefois participer au débat et veiller à ce qu’aucun \n",
    "message illégal et partial ne soit délivré.\"\"\"\n",
    "doc = nlp(text)\n",
    "matcher = Matcher(nlp.vocab)\n",
    "pattern = [{\"LOWER\": \"manifestation\"},\n",
    "    {\"LOWER\": \"organisée\"},\n",
    "    {\"LOWER\": \"par\"},\n",
    "    {\"LOWER\": \"enseignant\"},\n",
    "    {\"IS_DIGIT\": True},\n",
    "    {\"IS_PUNCT\": True}]\n",
    "# Ajouter la regle \n",
    "matcher.add('rule_2', [pattern])\n",
    "# Appelle le matcher sur le doc\n",
    "matches = matcher(doc)\n",
    "for match_id, start, end in matches:\n",
    "    # Obtiens le span en correspondance\n",
    "    matched_span = doc[start:end]\n",
    "    print(matched_span.text)"
   ]
  },
  {
   "cell_type": "raw",
   "metadata": {},
   "source": [
    "Dans la première phrase ci-dessus, «accusé» a été utilisé comme nom et dans la deuxième phrase, il a été utilisé comme verbe. Ainsi, le matcher spaCy devrait être capable d'extraire le motif de la première phrase uniquement. car on cherche \"accusé\" quant à été utilisé comme nom. ici il marche pas avec la langue française"
   ]
  },
  {
   "cell_type": "code",
   "execution_count": 6,
   "metadata": {},
   "outputs": [],
   "source": [
    "# accusé ici c'est un nom\n",
    "doc1 = nlp(\"Stéphane a accusé son frère à sa place..\")\n",
    "# accusé ici c'est un verbe\n",
    "doc2 = nlp(\"Ils ont fait entrer l'accusé dans le tribunal \")\n",
    "pattern = [{'TEXT': 'accusé', 'POS': 'NOUN'}]\n",
    "# Initialize the matcher avec le vocab\n",
    "matcher = Matcher(nlp.vocab)\n",
    "matcher.add('rule', [pattern])"
   ]
  },
  {
   "cell_type": "code",
   "execution_count": 7,
   "metadata": {},
   "outputs": [],
   "source": [
    "matches = matcher(doc1) \n",
    "for match_id, start, end in matches:\n",
    "    # Obtiens le span en correspondance\n",
    "    matched_span = doc1[start:end]\n",
    "    print(matched_span.text)"
   ]
  },
  {
   "cell_type": "code",
   "execution_count": 8,
   "metadata": {},
   "outputs": [],
   "source": [
    "matches = matcher(doc2) \n",
    "for match_id, start, end in matches:\n",
    "    # Obtiens le span en correspondance\n",
    "    matched_span = doc2[start:end]\n",
    "    print(matched_span.text)"
   ]
  },
  {
   "cell_type": "markdown",
   "metadata": {},
   "source": [
    "Dans cet exemple, nous recherchons deux tokens.\n",
    "Un verbe avec le lemme(la racine) \"manger\", suivi par un nom."
   ]
  },
  {
   "cell_type": "code",
   "execution_count": 9,
   "metadata": {},
   "outputs": [
    {
     "name": "stdout",
     "output_type": "stream",
     "text": [
      "mangeait des pâtes\n",
      "mange des légumes\n"
     ]
    }
   ],
   "source": [
    "\n",
    "# Traite un texte\n",
    "doc = nlp(\"Avant elle mangeait des pâtes. Désormais elle mange des légumes.\")\n",
    "\n",
    "# Ajoute le motif au matcher (Definir les regles)\n",
    "pattern = [\n",
    "    {\"LEMMA\": \"manger\", \"POS\": \"VERB\"},\n",
    "    {\"POS\": \"ADP\"},\n",
    "    {\"POS\": \"NOUN\"}\n",
    "]\n",
    "# Ajouter la regle \n",
    "matcher.add('rule_1', [pattern])\n",
    "# Appelle le matcher sur le doc\n",
    "matches = matcher(doc)\n",
    "for match_id, start, end in matches:\n",
    "    # Obtiens le span en correspondance\n",
    "    matched_span = doc[start:end]\n",
    "    print(matched_span.text)"
   ]
  },
  {
   "cell_type": "markdown",
   "metadata": {},
   "source": [
    "#### Utilisation d'opérateurs et de quantificateurs "
   ]
  },
  {
   "cell_type": "raw",
   "metadata": {},
   "source": [
    "Les opérateurs et les quantificateurs te permettent de définir combien de fois un token\n",
    "doit être trouvé. Ils peuvent être ajoutés avec la clé \"OP\".\n",
    "\"OP\" peut prendre quatre valeurs distinctes :\n",
    "Un \"!\" exclut le token, donc il doit être trouvé 0 fois.\n",
    "Un \"?\" rend le token optionnel, il peut être trouvé 0 ou 1 fois.\n",
    "Un \"+\" cherche le token 1 ou plusieurs fois.\n",
    "Un \"1\" pour dire une fois ou plusieurs fois.\n",
    "Et enfin, un \"*\" cherche le token 0 ou plusieurs fois.\n",
    "Ici, l'opérateur \"?\" rend le token du déterminant optionnel, donc il trouvera un token avec le lemme \"acheter\", un déterminant, un adjectif optionnel et un nom."
   ]
  },
  {
   "cell_type": "code",
   "execution_count": 10,
   "metadata": {},
   "outputs": [
    {
     "name": "stdout",
     "output_type": "stream",
     "text": [
      "est contraire au principe\n"
     ]
    }
   ],
   "source": [
    "text = \"\"\"Solidaire Etudiant-e-s ne peut faire interdire une conférence ou autre \n",
    "manifestation ORGANISÉE par enseignant 2021! (et pas l’Université elle-même), si elle est \n",
    "conforme à la loi. C’est contraire au principe constitutionnel d’indépendance des \n",
    "professeurs d’université. Il peut toutefois participer au débat et veiller à ce qu’aucun \n",
    "message illégal et partial ne soit délivré.\"\"\"\n",
    "pattern = [\n",
    "    {\"LEMMA\": \"être\", \"POS\": \"AUX\"},\n",
    "    {\"POS\": \"ADJ\"},\n",
    "    {\"POS\": \"ADP\", \"OP\": \"+\"}, # optionnel : trouve 0 ou 1 fois\n",
    "    {\"POS\": \"NOUN\"}\n",
    "]\n",
    "doc = nlp(text)\n",
    "# Ajouter la regle \n",
    "matcher.add('rule_1', [pattern])\n",
    "# Appelle le matcher sur le doc\n",
    "matches = matcher(doc)\n",
    "for match_id, start, end in matches:\n",
    "    # Obtiens le span en correspondance\n",
    "    matched_span = doc[start:end]\n",
    "    print(matched_span.text)"
   ]
  },
  {
   "cell_type": "markdown",
   "metadata": {},
   "source": [
    "### Matcher de phrase"
   ]
  },
  {
   "cell_type": "code",
   "execution_count": 49,
   "metadata": {},
   "outputs": [],
   "source": [
    "#importation\n",
    "from spacy.matcher import PhraseMatcher\n",
    "#inisailisation\n",
    "matcher = PhraseMatcher(nlp.vocab)\n",
    "# Termes pour matcher\n",
    "terms_list = ['Jean-Claude ','Henri Jouffroy','Jules-Armand ','Youssouf Aptidon ','Privat-Antoine ']\n",
    "# convertir la liste de phrases en un objet doc\n",
    "patterns = [nlp.make_doc(text) for text in terms_list]\n",
    "#ajouter le modèle à notre matcher\n",
    "matcher.add(\"phrase_matcher\", None, *patterns)#Les entrées sont: Un ID ,optional parameter, pattern list\n",
    "\n",
    "# Matcher Object (Application de match sur un text)\n",
    "fictional_char_doc = nlp(\"\"\"Jean Claude Anglars  Politiquemania - Politiquemania. Jean-Claude Anglars est né le 20\n",
    "                         février 1961. Youssouf Aptidon Darar, né en 1921 à Djibouti et mort le 14 mars 2013 à Djibouti,\n",
    "                         est un militaire et homme politique djiboutien.\"\"\")\n",
    "character_matches = matcher(fictional_char_doc)"
   ]
  },
  {
   "cell_type": "code",
   "execution_count": 50,
   "metadata": {},
   "outputs": [
    {
     "data": {
      "text/plain": [
       "[(520014689628841516, 8, 9), (520014689628841516, 17, 19)]"
      ]
     },
     "execution_count": 50,
     "metadata": {},
     "output_type": "execute_result"
    }
   ],
   "source": [
    "# Matching positions\n",
    "character_matches"
   ]
  },
  {
   "cell_type": "code",
   "execution_count": 51,
   "metadata": {},
   "outputs": [
    {
     "name": "stdout",
     "output_type": "stream",
     "text": [
      "Jean-Claude\n",
      "Youssouf Aptidon\n"
     ]
    }
   ],
   "source": [
    "# Matched items\n",
    "for match_id, start, end in character_matches:\n",
    "    span = fictional_char_doc[start:end]\n",
    "    print(span.text)"
   ]
  },
  {
   "cell_type": "code",
   "execution_count": 52,
   "metadata": {},
   "outputs": [
    {
     "name": "stdout",
     "output_type": "stream",
     "text": [
      "New York\n"
     ]
    }
   ],
   "source": [
    "# utiliser attr parameter egal a 'LOWER'\n",
    "case_insensitive_matcher = PhraseMatcher(nlp.vocab, attr=\"LOWER\")\n",
    "\n",
    "# Creation doc &amp; pattern\n",
    "my_doc=nlp('je souhaite visiter la ville New York')\n",
    "terms=['New York']\n",
    "pattern=[nlp(term) for term in terms]\n",
    "\n",
    "# ajouter pattern au matcher\n",
    "case_insensitive_matcher.add(\"matcher\",None,*pattern)\n",
    "\n",
    "# application sur notre doc my_doc\n",
    "my_matches=case_insensitive_matcher(my_doc)\n",
    "\n",
    "for match_id,start,end in my_matches:\n",
    "  span=my_doc[start:end]\n",
    "  print(span.text)"
   ]
  },
  {
   "cell_type": "code",
   "execution_count": 53,
   "metadata": {},
   "outputs": [
    {
     "name": "stdout",
     "output_type": "stream",
     "text": [
      "191.1\n",
      "194.1\n"
     ]
    }
   ],
   "source": [
    "my_doc = nlp(''''À partir de 8 heures du matin, Monsieur X prendra la parole sur la chaîne  191.1. Ensuite,\n",
    "             il y aura une interview exclusive avec lacteur Y sur la chaîne 194.1. Appelez-nous au 33333''')\n",
    "#Creation de pattern\n",
    "pattern=nlp('199.5')\n",
    "# Initialition du matcher et ajouter le pattern\n",
    "pincode_matcher= PhraseMatcher(nlp.vocab,attr=\"SHAPE\")\n",
    "pincode_matcher.add(\"pincode_matching\", None, pattern)\n",
    "# Application de matcher sur notre doc\n",
    "matches = pincode_matcher(my_doc)\n",
    "# afficherles matcher-phrases\n",
    "for match_id, start, end in matches:\n",
    "  span = my_doc[start:end]\n",
    "  print(span.text)"
   ]
  },
  {
   "cell_type": "markdown",
   "metadata": {},
   "source": [
    "### Règle d'entité"
   ]
  },
  {
   "cell_type": "code",
   "execution_count": 54,
   "metadata": {},
   "outputs": [
    {
     "name": "stdout",
     "output_type": "stream",
     "text": [
      "[('BÂTONNIER', 'ORG'), ('Avocat', 'ORG'), ('l’Ordre des avocats', 'MISC')]\n"
     ]
    }
   ],
   "source": [
    "from spacy.pipeline import EntityRuler\n",
    "# Initialisez le EntityRuler\n",
    "ruler = EntityRuler(nlp)\n",
    "# Mon label sera Exemple et pattern contiendra les mots juridique que nous \n",
    "# souhaitons ajouter\n",
    "pattern=[{\"label\": \"Exemple\", \"pattern\": \"BÂTONNIER\"}]\n",
    "# Ajouter la règle d'entité au pipeline NLP.\n",
    "ruler.add_patterns(pattern)\n",
    "nlp.add_pipe(ruler)\n",
    "doc = nlp(\"\"\" BÂTONNIER est un Avocat élu par ses confrères pour représenter \n",
    "            l’Ordre des avocats et faire observer la discipline professionnelle.\n",
    "                    \"\"\")\n",
    "print([(ent.text, ent.label_) for ent in doc.ents])"
   ]
  },
  {
   "cell_type": "markdown",
   "metadata": {},
   "source": [
    "#### vocabulaire partagé"
   ]
  },
  {
   "cell_type": "code",
   "execution_count": 152,
   "metadata": {},
   "outputs": [
    {
     "name": "stdout",
     "output_type": "stream",
     "text": [
      "valeur de hash : 821433950267086228\n",
      "valeur de chaine : souvent\n"
     ]
    }
   ],
   "source": [
    "doc = nlp(\"Ines nage souvent\")\n",
    "print(\"valeur de hash :\", nlp.vocab.strings[\"souvent\"])\n",
    "print(\"valeur de chaine :\", nlp.vocab.strings[821433950267086228])"
   ]
  },
  {
   "cell_type": "code",
   "execution_count": 153,
   "metadata": {},
   "outputs": [
    {
     "name": "stdout",
     "output_type": "stream",
     "text": [
      "valeur de hash : 821433950267086228\n"
     ]
    }
   ],
   "source": [
    "doc = nlp(\"Ines nage souvent\")\n",
    "print(\"valeur de hash :\", doc.vocab.strings[\"souvent\"])"
   ]
  },
  {
   "cell_type": "markdown",
   "metadata": {},
   "source": [
    "##### Crée un doc manuellement"
   ]
  },
  {
   "cell_type": "code",
   "execution_count": 155,
   "metadata": {},
   "outputs": [
    {
     "data": {
      "text/plain": [
       "Bonjour monde !"
      ]
     },
     "execution_count": 155,
     "metadata": {},
     "output_type": "execute_result"
    }
   ],
   "source": [
    "# Importe la classe Doc\n",
    "from spacy.tokens import Doc\n",
    "\n",
    "# Les mots et les espaces à partir desquels créer le doc\n",
    "words = [\"Bonjour\", \"monde\", \"!\"]\n",
    "spaces = [True, True, False]\n",
    "\n",
    "# Crée un doc manuellement\n",
    "doc = Doc(nlp.vocab, words=words, spaces=spaces)\n",
    "doc"
   ]
  },
  {
   "cell_type": "markdown",
   "metadata": {},
   "source": [
    "##### Crée un Span manuellement\n"
   ]
  },
  {
   "cell_type": "code",
   "execution_count": 157,
   "metadata": {},
   "outputs": [
    {
     "data": {
      "text/plain": [
       "(Bonjour monde,)"
      ]
     },
     "execution_count": 157,
     "metadata": {},
     "output_type": "execute_result"
    }
   ],
   "source": [
    "# Importe les classes Span\n",
    "from spacy.tokens import Span\n",
    "\n",
    "# Les mots et les espaces à partir desquels créer le doc\n",
    "words = [\"Bonjour\", \"monde\", \"!\"]\n",
    "spaces = [True, True, False]\n",
    "\n",
    "# Crée un doc manuellement\n",
    "doc = Doc(nlp.vocab, words=words, spaces=spaces)\n",
    "\n",
    "# Crée un span manuellement\n",
    "span = Span(doc, 0, 2)\n",
    "\n",
    "# Crée un span avec un label\n",
    "span_with_label = Span(doc, 0, 2, label=\"GREETING\")\n",
    "\n",
    "# Ajoute le span à doc.ents\n",
    "doc.ents = [span_with_label]\n",
    "doc.ents"
   ]
  },
  {
   "cell_type": "markdown",
   "metadata": {},
   "source": [
    "#### Vecteurs de mots et similarité sémantique"
   ]
  },
  {
   "cell_type": "markdown",
   "metadata": {},
   "source": [
    "#### Les vecteurs de mots dans spaCy"
   ]
  },
  {
   "cell_type": "code",
   "execution_count": 196,
   "metadata": {},
   "outputs": [
    {
     "name": "stdout",
     "output_type": "stream",
     "text": [
      "[ 1.2632797   0.23083645  0.38898504 -5.1011415  -1.3000488  -3.4664907\n",
      "  4.2930913   7.5837107  -2.0616546  -1.634711   -3.7464945   6.826188\n",
      "  3.8806047  -0.16149741  0.49566066 -1.1583458  -1.9864562   1.9500803\n",
      " -0.5096699   4.146461   -0.7442602  -1.898237    0.7319286   4.4126687\n",
      "  2.9405494  -2.201996    6.3898554   2.4588194  -1.7222137   2.4176888\n",
      " -0.0574072   0.0240131   0.239537   -3.4011106  -1.0765687   1.6112238\n",
      " -0.7508415   3.2752192  -1.7572901   3.1839406  -6.167159    2.3697479\n",
      "  0.36960727 -3.2440214   4.6429696  -4.2886243  -5.638518   -6.389758\n",
      " -1.9945995  -5.007551    0.8183912   2.0851703  -0.12826723 -4.3383236\n",
      "  1.8170545  -1.8136282  -0.24439082 -2.40773    -2.426916    6.752461\n",
      "  3.3557024  -1.7382666   3.125442   -3.386338    5.2027936  -3.9655\n",
      " -2.8099809  -1.1053399   0.81016815 -4.1653423  -0.9185063  -0.37925255\n",
      "  1.2594235   4.4168468  -2.0239391  -2.1671185   1.2525706   4.3915343\n",
      " -2.28012     0.2898965   0.8116075  -3.9037523   6.4572153   0.7031998\n",
      "  0.06431991 -2.77425     4.4921656  -0.22789687  1.1967053  -1.7690554\n",
      " -4.280862    1.6965053  -0.10602319  1.368775   -1.7235242   0.85171163]\n"
     ]
    }
   ],
   "source": [
    "doc = nlp(\"ASSIGNATION DE JURÉ\")\n",
    "# Accède au vecteur via l'attribut token.vector\n",
    "print(doc[2].vector)"
   ]
  },
  {
   "cell_type": "markdown",
   "metadata": {},
   "source": [
    "#### Similarité sémantique"
   ]
  },
  {
   "cell_type": "code",
   "execution_count": 55,
   "metadata": {},
   "outputs": [
    {
     "name": "stdout",
     "output_type": "stream",
     "text": [
      "0.8893207665366708\n"
     ]
    },
    {
     "name": "stderr",
     "output_type": "stream",
     "text": [
      "<ipython-input-55-1422f5c6de81>:5: UserWarning: [W007] The model you're using has no word vectors loaded, so the result of the Doc.similarity method will be based on the tagger, parser and NER, which may not give useful similarity judgements. This may happen if you're using one of the small models, e.g. `en_core_web_sm`, which don't ship with word vectors and only use context-sensitive tensors. You can always add your own word vectors, or use one of the larger models instead if available.\n",
      "  print(doc1.similarity(doc2))\n"
     ]
    }
   ],
   "source": [
    "# Charge un plus grand modèle avec les vecteurs\n",
    "#nlp = spacy.load('fr_core_news_md')             \n",
    "doc1 = nlp(\"ASSIGNATION À TÉMOIGNER\")\n",
    "doc2 = nlp(\"ASSIGNATION DE JURÉ\")\n",
    "print(doc1.similarity(doc2))"
   ]
  },
  {
   "cell_type": "code",
   "execution_count": 198,
   "metadata": {},
   "outputs": [
    {
     "name": "stdout",
     "output_type": "stream",
     "text": [
      "1.0\n"
     ]
    }
   ],
   "source": [
    "# Compare deux tokens\n",
    "# accusé ici c'est un nom\n",
    "doc1 = nlp(\"Stéphane a accusé son frère à sa place..\")\n",
    "# accusé ici c'est un verbe\n",
    "doc2 = nlp(\"Ils ont fait entrer l'accusé dans le tribunal \")\n",
    "\n",
    "token1 = doc1[2]\n",
    "token2 = doc2[5]\n",
    "print(token1.similarity(token2))"
   ]
  },
  {
   "cell_type": "code",
   "execution_count": 11,
   "metadata": {},
   "outputs": [
    {
     "name": "stdout",
     "output_type": "stream",
     "text": [
      "t2 similarity t4 0.18593279240208843\n",
      "t4 similarity t3 0.5311292036612536\n",
      "juridique <-> TVA -0.01463885\n",
      "juridique <-> jurisprudence 0.21975578\n"
     ]
    },
    {
     "name": "stderr",
     "output_type": "stream",
     "text": [
      "<ipython-input-11-407632ee8a34>:9: UserWarning: [W007] The model you're using has no word vectors loaded, so the result of the Doc.similarity method will be based on the tagger, parser and NER, which may not give useful similarity judgements. This may happen if you're using one of the small models, e.g. `en_core_web_sm`, which don't ship with word vectors and only use context-sensitive tensors. You can always add your own word vectors, or use one of the larger models instead if available.\n",
      "  print(\"t2 similarity t4\", t2.similarity(t3))\n",
      "<ipython-input-11-407632ee8a34>:10: UserWarning: [W007] The model you're using has no word vectors loaded, so the result of the Doc.similarity method will be based on the tagger, parser and NER, which may not give useful similarity judgements. This may happen if you're using one of the small models, e.g. `en_core_web_sm`, which don't ship with word vectors and only use context-sensitive tensors. You can always add your own word vectors, or use one of the larger models instead if available.\n",
      "  print(\"t4 similarity t3\", t4.similarity(t3))\n",
      "<ipython-input-11-407632ee8a34>:14: UserWarning: [W007] The model you're using has no word vectors loaded, so the result of the Token.similarity method will be based on the tagger, parser and NER, which may not give useful similarity judgements. This may happen if you're using one of the small models, e.g. `en_core_web_sm`, which don't ship with word vectors and only use context-sensitive tensors. You can always add your own word vectors, or use one of the larger models instead if available.\n",
      "  print(A, \"<->\", B, A.similarity(B))\n",
      "<ipython-input-11-407632ee8a34>:15: UserWarning: [W007] The model you're using has no word vectors loaded, so the result of the Token.similarity method will be based on the tagger, parser and NER, which may not give useful similarity judgements. This may happen if you're using one of the small models, e.g. `en_core_web_sm`, which don't ship with word vectors and only use context-sensitive tensors. You can always add your own word vectors, or use one of the larger models instead if available.\n",
      "  print(t2[4], \"<->\", t3[20], t2[4].similarity(t3[20]))\n"
     ]
    }
   ],
   "source": [
    "test_2 = \"Quelle est la valeur juridique ? \"\n",
    "test_3 = \"Selon Nicolas Sarkozy “la question de la partialité de certains magistrats peut se poser” au regard de la jurisprudence de la CEDH'\"\n",
    "#La suite : au regard de la jurisprudence de la CEDH'\"\n",
    "test_4 = \"Yannick Jadot : “Je veux une TVA à 0% sur les produits bio” \"\n",
    "t2= nlp (test_2)\n",
    "t3= nlp (test_3)\n",
    "t4= nlp (test_4)\n",
    "# Similarity of two documents\n",
    "print(\"t2 similarity t4\", t2.similarity(t3))\n",
    "print(\"t4 similarity t3\", t4.similarity(t3))\n",
    "# Similarity of tokens and spans\n",
    "A = t2[4]\n",
    "B = t4[7]\n",
    "print(A, \"<->\", B, A.similarity(B))\n",
    "print(t2[4], \"<->\", t3[20], t2[4].similarity(t3[20]))\n"
   ]
  },
  {
   "cell_type": "code",
   "execution_count": null,
   "metadata": {},
   "outputs": [],
   "source": []
  }
 ],
 "metadata": {
  "kernelspec": {
   "display_name": "Python 3",
   "language": "python",
   "name": "python3"
  },
  "language_info": {
   "codemirror_mode": {
    "name": "ipython",
    "version": 3
   },
   "file_extension": ".py",
   "mimetype": "text/x-python",
   "name": "python",
   "nbconvert_exporter": "python",
   "pygments_lexer": "ipython3",
   "version": "3.8.5"
  }
 },
 "nbformat": 4,
 "nbformat_minor": 4
}
