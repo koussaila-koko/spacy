{
 "cells": [
  {
   "cell_type": "code",
   "execution_count": 142,
   "metadata": {},
   "outputs": [],
   "source": [
    "# Load a spacy model and chekc if it has ner\n",
    "import spacy\n",
    "nlp=spacy.load('en_core_web_sm')\n",
    "\n",
    "nlp.pipe_names\n",
    "# Getting the pipeline component\n",
    "ner=nlp.get_pipe(\"ner\")"
   ]
  },
  {
   "cell_type": "code",
   "execution_count": 145,
   "metadata": {},
   "outputs": [
    {
     "data": {
      "text/plain": [
       "['tagger', 'parser', 'ner']"
      ]
     },
     "execution_count": 145,
     "metadata": {},
     "output_type": "execute_result"
    }
   ],
   "source": [
    "nlp.pipe_names"
   ]
  },
  {
   "cell_type": "code",
   "execution_count": 130,
   "metadata": {},
   "outputs": [],
   "source": [
    "TRAIN_DATA = [\n",
    "              (\"Walmart is a leading e-commerce company\", {\"entities\": [(0, 7, \"ORG\")]}),\n",
    "              (\"I reached Chennai yesterday.\", {\"entities\": [(19, 28, \"GPE\")]}),\n",
    "              (\"I recently ordered a book from Amazon\", {\"entities\": [(24,32, \"ORG\")]}),\n",
    "              (\"I was driving a BMW\", {\"entities\": [(16,19, \"PRODUCT\")]}),\n",
    "              (\"I ordered this from ShopClues\", {\"entities\": [(20,29, \"ORG\")]}),\n",
    "              (\"Fridge can be ordered in Amazon \", {\"entities\": [(0,6, \"PRODUCT\")]}),\n",
    "              (\"I bought a new Washer\", {\"entities\": [(16,22, \"PRODUCT\")]}),\n",
    "              (\"I bought a old table\", {\"entities\": [(16,21, \"PRODUCT\")]}),\n",
    "              (\"I bought a fancy dress\", {\"entities\": [(18,23, \"PRODUCT\")]}),\n",
    "              (\"I rented a camera\", {\"entities\": [(12,18, \"PRODUCT\")]}),\n",
    "              (\"I rented a tent for our trip\", {\"entities\": [(12,16, \"PRODUCT\")]}),\n",
    "              (\"I rented a screwdriver from our neighbour\", {\"entities\": [(12,22, \"PRODUCT\")]}),\n",
    "              (\"I repaired my computer\", {\"entities\": [(15,23, \"PRODUCT\")]}),\n",
    "              (\"I got my clock fixed\", {\"entities\": [(16,21, \"PRODUCT\")]}),\n",
    "              (\"I got my truck fixed\", {\"entities\": [(16,21, \"PRODUCT\")]}),\n",
    "              (\"Flipkart started it's journey from zero\", {\"entities\": [(0,8, \"ORG\")]}),\n",
    "              (\"I recently ordered from Max\", {\"entities\": [(24,27, \"ORG\")]}),\n",
    "              (\"Flipkart is recognized as leader in market\",{\"entities\": [(0,8, \"ORG\")]}),\n",
    "              (\"I recently ordered from Swiggy\", {\"entities\": [(24,29, \"ORG\")]})\n",
    "              ]"
   ]
  },
  {
   "cell_type": "code",
   "execution_count": 131,
   "metadata": {},
   "outputs": [],
   "source": [
    "# Adding labels to the `ner`\n",
    "for _, annotations in TRAIN_DATA:\n",
    "    for ent in annotations.get(\"entities\"):\n",
    "        ner.add_label(ent[2])"
   ]
  },
  {
   "cell_type": "code",
   "execution_count": 132,
   "metadata": {},
   "outputs": [],
   "source": [
    "#Disable pipeline components you dont need to change\n",
    "pipe_exceptions = [\"ner\", \"trf_wordpiecer\", \"trf_tok2vec\"]\n",
    "unaffected_pipes = [pipe for pipe in nlp.pipe_names if pipe not in pipe_exceptions]"
   ]
  },
  {
   "cell_type": "code",
   "execution_count": 133,
   "metadata": {},
   "outputs": [
    {
     "name": "stdout",
     "output_type": "stream",
     "text": [
      "Losses {'ner': 5.201842270096677}\n",
      "Losses {'ner': 11.014893497984303}\n",
      "Losses {'ner': 12.782992042604747}\n",
      "Losses {'ner': 18.744357949592086}\n",
      "Losses {'ner': 20.57355493090847}\n",
      "Losses {'ner': 3.002758458522294}\n",
      "Losses {'ner': 5.58918810731484}\n",
      "Losses {'ner': 8.580373360673548}\n",
      "Losses {'ner': 11.783930865552975}\n",
      "Losses {'ner': 13.04278807843366}\n",
      "Losses {'ner': 1.5206242532269698}\n",
      "Losses {'ner': 5.558721702840785}\n",
      "Losses {'ner': 11.253823889035402}\n",
      "Losses {'ner': 16.006544473837266}\n",
      "Losses {'ner': 16.025851539109045}\n",
      "Losses {'ner': 6.914257180280174}\n",
      "Losses {'ner': 10.766244150248667}\n",
      "Losses {'ner': 12.279224579285255}\n",
      "Losses {'ner': 13.939598044887305}\n",
      "Losses {'ner': 15.23069228532205}\n",
      "Losses {'ner': 4.1097685216518585}\n",
      "Losses {'ner': 10.319944654507026}\n",
      "Losses {'ner': 12.510728397500543}\n",
      "Losses {'ner': 15.771001857566489}\n",
      "Losses {'ner': 15.773579163318345}\n",
      "Losses {'ner': 1.346089240611036}\n",
      "Losses {'ner': 3.4721689179241366}\n",
      "Losses {'ner': 5.5597207665741735}\n",
      "Losses {'ner': 7.698389287765167}\n",
      "Losses {'ner': 9.113848375387827}\n",
      "Losses {'ner': 1.9008557022070818}\n",
      "Losses {'ner': 2.1354330873846266}\n",
      "Losses {'ner': 4.274902599395318}\n",
      "Losses {'ner': 6.027828203792524}\n",
      "Losses {'ner': 8.576423630825957}\n",
      "Losses {'ner': 3.311681497587415}\n",
      "Losses {'ner': 5.931396622498141}\n",
      "Losses {'ner': 9.038462615591698}\n",
      "Losses {'ner': 9.486951133876858}\n",
      "Losses {'ner': 11.127406821522356}\n",
      "Losses {'ner': 0.42418232932686806}\n",
      "Losses {'ner': 3.058555289055221}\n",
      "Losses {'ner': 4.88665294966836}\n",
      "Losses {'ner': 5.391161445930493}\n",
      "Losses {'ner': 6.467657994223146}\n",
      "Losses {'ner': 1.5057311824493809}\n",
      "Losses {'ner': 2.4140371902092284}\n",
      "Losses {'ner': 5.980837451125581}\n",
      "Losses {'ner': 12.277224058905215}\n",
      "Losses {'ner': 12.31075562509481}\n",
      "Losses {'ner': 0.13789149755757535}\n",
      "Losses {'ner': 1.7588439320761609}\n",
      "Losses {'ner': 2.7173201606592556}\n",
      "Losses {'ner': 6.514918241412488}\n",
      "Losses {'ner': 8.234771176533949}\n",
      "Losses {'ner': 3.9555153338442324}\n",
      "Losses {'ner': 8.0486615431048}\n",
      "Losses {'ner': 9.687991326788733}\n",
      "Losses {'ner': 9.689713713769379}\n",
      "Losses {'ner': 9.689743707702348}\n",
      "Losses {'ner': 1.349684595141298}\n",
      "Losses {'ner': 2.275653831236923}\n",
      "Losses {'ner': 4.313865826441543}\n",
      "Losses {'ner': 6.477911443770836}\n",
      "Losses {'ner': 6.485508576625204}\n",
      "Losses {'ner': 1.707973533536399}\n",
      "Losses {'ner': 3.5940252906993306}\n",
      "Losses {'ner': 5.362953507075363}\n",
      "Losses {'ner': 5.369804661530853}\n",
      "Losses {'ner': 7.07510710335018}\n",
      "Losses {'ner': 0.0012740843667415902}\n",
      "Losses {'ner': 1.6467245575804554}\n",
      "Losses {'ner': 4.074278492742053}\n",
      "Losses {'ner': 4.083636396589043}\n",
      "Losses {'ner': 4.1024648735346805}\n",
      "Losses {'ner': 0.0014185450666310828}\n",
      "Losses {'ner': 0.0026340891282572443}\n",
      "Losses {'ner': 1.3877718093938185}\n",
      "Losses {'ner': 2.403113356304262}\n",
      "Losses {'ner': 2.980434578320997}\n",
      "Losses {'ner': 1.4050781816913513}\n",
      "Losses {'ner': 3.201778368135038}\n",
      "Losses {'ner': 3.2358940357949137}\n",
      "Losses {'ner': 3.264042311443511}\n",
      "Losses {'ner': 3.330806815808266}\n",
      "Losses {'ner': 2.9032399144423096}\n",
      "Losses {'ner': 2.903337534134838}\n",
      "Losses {'ner': 3.0477079106532337}\n",
      "Losses {'ner': 4.110395197273723}\n",
      "Losses {'ner': 4.119848668121451}\n",
      "Losses {'ner': 1.7547185098109708}\n",
      "Losses {'ner': 1.7552065773467267}\n",
      "Losses {'ner': 1.7552119539776807}\n",
      "Losses {'ner': 1.8087798978752392}\n",
      "Losses {'ner': 1.8733021285403852}\n",
      "Losses {'ner': 2.8185596247400393}\n",
      "Losses {'ner': 5.123689360083873}\n",
      "Losses {'ner': 5.123825368437721}\n",
      "Losses {'ner': 6.604208679660651}\n",
      "Losses {'ner': 8.18836445631382}\n",
      "Losses {'ner': 0.06592708943878733}\n",
      "Losses {'ner': 0.49931817812591817}\n",
      "Losses {'ner': 2.4267109757164462}\n",
      "Losses {'ner': 2.426962238544551}\n",
      "Losses {'ner': 2.446035037480436}\n",
      "Losses {'ner': 0.0033928175249252623}\n",
      "Losses {'ner': 0.5180900101405251}\n",
      "Losses {'ner': 1.175777898267797}\n",
      "Losses {'ner': 4.025930165197117}\n",
      "Losses {'ner': 4.026477107925832}\n",
      "Losses {'ner': 1.6593807432090262}\n",
      "Losses {'ner': 2.242520179069863}\n",
      "Losses {'ner': 2.3049506431208355}\n",
      "Losses {'ner': 2.304952463253218}\n",
      "Losses {'ner': 2.304952616446097}\n",
      "Losses {'ner': 0.009046982939167947}\n",
      "Losses {'ner': 1.4544617765219248}\n",
      "Losses {'ner': 1.454462787027738}\n",
      "Losses {'ner': 1.4546886577607123}\n",
      "Losses {'ner': 1.4549818733620146}\n",
      "Losses {'ner': 0.0004452581541085632}\n",
      "Losses {'ner': 0.0007313286540367638}\n",
      "Losses {'ner': 0.0611363695866959}\n",
      "Losses {'ner': 0.8915786731354917}\n",
      "Losses {'ner': 1.5572617706453131}\n",
      "Losses {'ner': 0.6305653845286985}\n",
      "Losses {'ner': 0.7052881520659158}\n",
      "Losses {'ner': 0.8399924358047864}\n",
      "Losses {'ner': 0.8399925936763372}\n",
      "Losses {'ner': 0.8434132920342178}\n",
      "Losses {'ner': 3.564803641069661e-07}\n",
      "Losses {'ner': 0.00010597070311458168}\n",
      "Losses {'ner': 2.420428986206109}\n",
      "Losses {'ner': 3.006480593260112}\n",
      "Losses {'ner': 3.046111986090482}\n",
      "Losses {'ner': 1.097457753320854}\n",
      "Losses {'ner': 1.1005941784029067}\n",
      "Losses {'ner': 2.552494369765446}\n",
      "Losses {'ner': 2.552554015546108}\n",
      "Losses {'ner': 2.6111548802994617}\n",
      "Losses {'ner': 1.059995851877466}\n",
      "Losses {'ner': 1.282221154974251}\n",
      "Losses {'ner': 1.282221157912599}\n",
      "Losses {'ner': 1.2822292087312162}\n",
      "Losses {'ner': 1.2822328606966773}\n",
      "Losses {'ner': 8.710954785007274e-05}\n",
      "Losses {'ner': 0.06841837280594852}\n",
      "Losses {'ner': 1.4111857286521474}\n",
      "Losses {'ner': 2.177292888307994}\n",
      "Losses {'ner': 2.1779996929669045}\n"
     ]
    }
   ],
   "source": [
    "# Import requirements\n",
    "import random\n",
    "from spacy.util import minibatch, compounding\n",
    "from pathlib import Path\n",
    "\n",
    "# TRAINING THE MODEL\n",
    "with nlp.disable_pipes(*unaffected_pipes):\n",
    "\n",
    "  # Training for 30 iterations\n",
    "  for iteration in range(30):\n",
    "\n",
    "    # shuufling examples  before every iteration\n",
    "    random.shuffle(TRAIN_DATA)\n",
    "    losses = {}\n",
    "    # batch up the examples using spaCy's minibatch\n",
    "    batches = minibatch(TRAIN_DATA, size=compounding(4.0, 32.0, 1.001))\n",
    "    for batch in batches:\n",
    "        texts, annotations = zip(*batch)\n",
    "        nlp.update(\n",
    "                    texts,  # batch of texts\n",
    "                    annotations,  # batch of annotations\n",
    "                    drop=0.5,  # dropout - make it harder to memorise data\n",
    "                    losses=losses,\n",
    "                )\n",
    "        print(\"Losses\", losses)"
   ]
  },
  {
   "cell_type": "code",
   "execution_count": 134,
   "metadata": {},
   "outputs": [
    {
     "name": "stdout",
     "output_type": "stream",
     "text": [
      "Entities [('Alto', 'PRODUCT')]\n"
     ]
    }
   ],
   "source": [
    "# Testing the model\n",
    "doc = nlp(\"I was driving a Alto\")\n",
    "print(\"Entities\", [(ent.text, ent.label_) for ent in doc.ents])"
   ]
  },
  {
   "cell_type": "code",
   "execution_count": 135,
   "metadata": {},
   "outputs": [
    {
     "data": {
      "text/html": [
       "<span class=\"tex2jax_ignore\"><div class=\"entities\" style=\"line-height: 2.5; direction: ltr\">I was driving a \n",
       "<mark class=\"entity\" style=\"background: #bfeeb7; padding: 0.45em 0.6em; margin: 0 0.25em; line-height: 1; border-radius: 0.35em;\">\n",
       "    Alto\n",
       "    <span style=\"font-size: 0.8em; font-weight: bold; line-height: 1; border-radius: 0.35em; text-transform: uppercase; vertical-align: middle; margin-left: 0.5rem\">PRODUCT</span>\n",
       "</mark>\n",
       "</div></span>"
      ],
      "text/plain": [
       "<IPython.core.display.HTML object>"
      ]
     },
     "metadata": {},
     "output_type": "display_data"
    }
   ],
   "source": [
    "from spacy import displacy\n",
    "displacy.render(doc, style=\"ent\", jupyter=True)"
   ]
  },
  {
   "cell_type": "code",
   "execution_count": 136,
   "metadata": {},
   "outputs": [],
   "source": [
    "# chargement du model pre-existing de spacy \n",
    "import spacy\n",
    "nlp=spacy.load('fr_core_news_md')"
   ]
  },
  {
   "cell_type": "code",
   "execution_count": 140,
   "metadata": {},
   "outputs": [],
   "source": [
    "doc = nlp(\"Interrogée au Sénat le 16 janvier par des sénateurs à propos de la hausse des frais universitaires décidée récemment par le gouvernement pour les étudiants étrangers non européens, la ministre de l’enseignement supérieur Frédérique Vidal a estimé que les universités françaises, en tant qu’établissements publics opérateurs de l’État, étaient tenues par un ( devoir d’obéissance ) envers les décisions prises par le gouvernement. Sans se prononcer sur le passage des frais de scolarité de 243 à 2770  (licence) et 3770 (masters) euros dès la rentrée 2019, il  faut préciser que si les présidents d’université sont bien tenus d’appliquer cette mesure, ce n’est pas en vertu d’un ( devoir d’obéissance ), surtout s’agissant d’universitaires qui bénéficient d’un principe d’indépendance à l’égard de l’État, mais en vertu de la loi. L’article L712-2 du code de l’éducation1 fixe le statut du président de l’université ainsi que les différentes missions qui lui incombent. Il (est élu à la majorité absolue des membres du conseil d’administration parmi les enseignants-chercheurs, chercheurs, professeurs ou maîtres de conférences (…) ), et à ce titre il est en charge notamment de la direction de l’université. Or une université, en tant qu’établissement public, est en charge d’un service public, c’est-à-dire d’une activité entièrement régie par les  lois et règlements. Donc le président applique – obligatoirement – des lois et règlements. Or les frais de scolarité relèvent d’un arrêté du ministre, pas du président. En effet, le président d’université détient un pouvoir réglementaire comme tout chef de service2, qui lui permet, au nom de l’université,  de définir par exemple les conditions d’examens ou l’organisation des services de l’université, mais ce pouvoir ne porte pas sur les frais de scolarité. Même si la loi de 2007 dite loi LRU3, a considérablement accru les compétences dévolues au président d’université, elle ne lui a pas confié le pouvoir de fixer les droits de scolarité des formations générales. En somme, le président applique les lois et règlement par fonction et pas par obéissance. Comme nous l’avions rappelé dans un précédent article4, le président d’université, en qualité d’enseignant-chercheur, jouit d’un principe d’indépendance qui constitue même un principe fondamental reconnu par les lois de la République selon le Conseil constitutionnel5 et le Conseil d’État6.  Cela signifie qu’il n’est pas en tant qu’enseignant sous la hiérarchie du ministre et n’a pas à lui ( obéir ). Mais en tant que président, il doit appliquer les textes. En somme les déclarations de certains présidents d’universités tendant au refus d’augmenter les droits d’inscription tiennent plus de la protestation que du refus effectif, car pour l’instant l’arrêté ministériel sur les nouveaux tarifs n’est pas publié et aussi parce que ces tarifs n’entreraient en vigueur qu’en septembre 2019. Si l’arrêté est publié, aucun président ne pourra le contourner, car aucun comptable public ne pourra encaisser des droits pour un montant qui ne correspond pas à celui de l’arrêté ministériel. Ce serait une faute grave du comptable public, et un président qui obligerait le comptable à commettre cette faute serait lui-même en faute.\")"
   ]
  },
  {
   "cell_type": "code",
   "execution_count": 141,
   "metadata": {},
   "outputs": [
    {
     "name": "stdout",
     "output_type": "stream",
     "text": [
      "Sénat -------> ORG\n",
      "Frédérique Vidal -------> PER\n",
      "État -------> LOC\n",
      "État -------> LOC\n",
      "L712 -------> MISC\n",
      "LRU3 -------> MISC\n",
      "République -------> MISC\n",
      "Conseil constitutionnel5 -------> ORG\n",
      "Conseil d’État6 -------> ORG\n"
     ]
    }
   ],
   "source": [
    "# parcourir les entités prédites\n",
    "for ent in doc.ents:\n",
    "    # Affiche le texte de l'entité et son label\n",
    "    print(ent.text, \"------->\", ent.label_)"
   ]
  },
  {
   "cell_type": "code",
   "execution_count": 54,
   "metadata": {},
   "outputs": [
    {
     "data": {
      "text/html": [
       "<span class=\"tex2jax_ignore\"><div class=\"entities\" style=\"line-height: 2.5; direction: ltr\">Interrogée au \n",
       "<mark class=\"entity\" style=\"background: #7aecec; padding: 0.45em 0.6em; margin: 0 0.25em; line-height: 1; border-radius: 0.35em;\">\n",
       "    Sénat\n",
       "    <span style=\"font-size: 0.8em; font-weight: bold; line-height: 1; border-radius: 0.35em; text-transform: uppercase; vertical-align: middle; margin-left: 0.5rem\">ORG</span>\n",
       "</mark>\n",
       " le 16 \n",
       "<mark class=\"entity\" style=\"background: #ddd; padding: 0.45em 0.6em; margin: 0 0.25em; line-height: 1; border-radius: 0.35em;\">\n",
       "    janvier\n",
       "    <span style=\"font-size: 0.8em; font-weight: bold; line-height: 1; border-radius: 0.35em; text-transform: uppercase; vertical-align: middle; margin-left: 0.5rem\">MOIS</span>\n",
       "</mark>\n",
       " par des sénateurs à propos de la hausse des frais universitaires décidée récemment par le gouvernement pour les étudiants étrangers non européens, la ministre de l’enseignement supérieur \n",
       "<mark class=\"entity\" style=\"background: #ddd; padding: 0.45em 0.6em; margin: 0 0.25em; line-height: 1; border-radius: 0.35em;\">\n",
       "    Frédérique Vidal\n",
       "    <span style=\"font-size: 0.8em; font-weight: bold; line-height: 1; border-radius: 0.35em; text-transform: uppercase; vertical-align: middle; margin-left: 0.5rem\">PER</span>\n",
       "</mark>\n",
       " a estimé que les universités françaises, en tant qu’établissements publics opérateurs de l’\n",
       "<mark class=\"entity\" style=\"background: #ff9561; padding: 0.45em 0.6em; margin: 0 0.25em; line-height: 1; border-radius: 0.35em;\">\n",
       "    État\n",
       "    <span style=\"font-size: 0.8em; font-weight: bold; line-height: 1; border-radius: 0.35em; text-transform: uppercase; vertical-align: middle; margin-left: 0.5rem\">LOC</span>\n",
       "</mark>\n",
       ", étaient tenues par un ( devoir d’obéissance ) envers les décisions prises par le gouvernement. Sans se prononcer sur le passage des frais de scolarité de 243 à 2770  (licence) et 3770 (masters) euros dès la rentrée 2019, il  faut préciser que si les présidents d’université sont bien tenus d’appliquer cette mesure, ce n’est pas en vertu d’un ( devoir d’obéissance ), surtout s’agissant d’universitaires qui bénéficient d’un principe d’indépendance à l’égard de l’\n",
       "<mark class=\"entity\" style=\"background: #ff9561; padding: 0.45em 0.6em; margin: 0 0.25em; line-height: 1; border-radius: 0.35em;\">\n",
       "    État\n",
       "    <span style=\"font-size: 0.8em; font-weight: bold; line-height: 1; border-radius: 0.35em; text-transform: uppercase; vertical-align: middle; margin-left: 0.5rem\">LOC</span>\n",
       "</mark>\n",
       ", mais en vertu de la loi. L’article \n",
       "<mark class=\"entity\" style=\"background: #ddd; padding: 0.45em 0.6em; margin: 0 0.25em; line-height: 1; border-radius: 0.35em;\">\n",
       "    L712-2 du code de l’\n",
       "    <span style=\"font-size: 0.8em; font-weight: bold; line-height: 1; border-radius: 0.35em; text-transform: uppercase; vertical-align: middle; margin-left: 0.5rem\">MISC</span>\n",
       "</mark>\n",
       "éducation1 fixe le statut du président de l’université ainsi que les différentes missions qui lui incombent. Il (est élu à la majorité absolue des membres du conseil d’administration parmi les enseignants-chercheurs, chercheurs, professeurs ou maîtres de conférences (…) ), et à ce titre il est en charge notamment de la direction de l’université. Or une université, en tant qu’établissement public, est en charge d’un service public, c’est-à-dire d’une activité entièrement régie par les  lois et règlements. Donc le président applique – obligatoirement – des lois et règlements. Or les frais de scolarité relèvent d’un arrêté du ministre, pas du président. En effet, le président d’université détient un pouvoir réglementaire comme tout chef de service2, qui lui permet, au nom de l’université,  de définir par exemple les conditions d’examens ou l’organisation des services de l’université, mais ce pouvoir ne porte pas sur les frais de scolarité. Même si la loi de 2007 dite loi \n",
       "<mark class=\"entity\" style=\"background: #ddd; padding: 0.45em 0.6em; margin: 0 0.25em; line-height: 1; border-radius: 0.35em;\">\n",
       "    LRU3\n",
       "    <span style=\"font-size: 0.8em; font-weight: bold; line-height: 1; border-radius: 0.35em; text-transform: uppercase; vertical-align: middle; margin-left: 0.5rem\">MISC</span>\n",
       "</mark>\n",
       ", a considérablement accru les compétences dévolues au président d’université, elle ne lui a pas confié le pouvoir de fixer les droits de scolarité des formations générales. En somme, le président applique les lois et règlement par fonction et pas par obéissance. Comme nous l’avions rappelé dans un précédent article4, le président d’université, en qualité d’enseignant-chercheur, jouit d’un principe d’indépendance qui constitue même un principe fondamental reconnu par les lois de la \n",
       "<mark class=\"entity\" style=\"background: #ddd; padding: 0.45em 0.6em; margin: 0 0.25em; line-height: 1; border-radius: 0.35em;\">\n",
       "    République\n",
       "    <span style=\"font-size: 0.8em; font-weight: bold; line-height: 1; border-radius: 0.35em; text-transform: uppercase; vertical-align: middle; margin-left: 0.5rem\">MISC</span>\n",
       "</mark>\n",
       " selon le \n",
       "<mark class=\"entity\" style=\"background: #7aecec; padding: 0.45em 0.6em; margin: 0 0.25em; line-height: 1; border-radius: 0.35em;\">\n",
       "    Conseil constitutionnel5\n",
       "    <span style=\"font-size: 0.8em; font-weight: bold; line-height: 1; border-radius: 0.35em; text-transform: uppercase; vertical-align: middle; margin-left: 0.5rem\">ORG</span>\n",
       "</mark>\n",
       " et le \n",
       "<mark class=\"entity\" style=\"background: #7aecec; padding: 0.45em 0.6em; margin: 0 0.25em; line-height: 1; border-radius: 0.35em;\">\n",
       "    Conseil d’État6\n",
       "    <span style=\"font-size: 0.8em; font-weight: bold; line-height: 1; border-radius: 0.35em; text-transform: uppercase; vertical-align: middle; margin-left: 0.5rem\">ORG</span>\n",
       "</mark>\n",
       ".  Cela signifie qu’il n’est pas en tant qu’enseignant sous la hiérarchie du ministre et n’a pas à lui ( obéir ). Mais en tant que président, il doit appliquer les textes. En somme les déclarations de certains présidents d’universités tendant au refus d’augmenter les droits d’inscription tiennent plus de la protestation que du refus effectif, car pour l’instant l’arrêté ministériel sur les nouveaux tarifs n’est pas publié et aussi parce que ces tarifs n’entreraient en vigueur qu’en \n",
       "<mark class=\"entity\" style=\"background: #ddd; padding: 0.45em 0.6em; margin: 0 0.25em; line-height: 1; border-radius: 0.35em;\">\n",
       "    septembre\n",
       "    <span style=\"font-size: 0.8em; font-weight: bold; line-height: 1; border-radius: 0.35em; text-transform: uppercase; vertical-align: middle; margin-left: 0.5rem\">MOIS</span>\n",
       "</mark>\n",
       " 2019. Si l’arrêté est publié, aucun président ne pourra le contourner, car aucun comptable public ne pourra encaisser des droits pour un montant qui ne correspond pas à celui de l’arrêté ministériel. Ce serait une faute grave du comptable public, et un président qui obligerait le comptable à commettre cette faute serait lui-même en faute.</div></span>"
      ],
      "text/plain": [
       "<IPython.core.display.HTML object>"
      ]
     },
     "metadata": {},
     "output_type": "display_data"
    }
   ],
   "source": [
    "from spacy import displacy\n",
    "displacy.render(doc, style=\"ent\", jupyter=True)"
   ]
  },
  {
   "cell_type": "code",
   "execution_count": 58,
   "metadata": {},
   "outputs": [
    {
     "name": "stdout",
     "output_type": "stream",
     "text": [
      "Date_patterns : [janvier, février, mars, avril, mai, juin, juillet, aout, septembre, octobre, novembre, décembre]\n",
      "['tagger', 'parser', 'ner', 'Date_component']\n"
     ]
    }
   ],
   "source": [
    "import spacy\n",
    "from spacy.matcher import PhraseMatcher\n",
    "from spacy.tokens import Span\n",
    "\n",
    "nlp = spacy.load(\"fr_core_news_sm\")\n",
    "Date = [\"janvier\", \"février\", \"mars\", \"avril\", \"mai\", \"juin\", \"juillet\", \"aout\", \"septembre\", \"octobre\", \"novembre\", \"décembre\"]\n",
    "Date_patterns = list(nlp.pipe(Date))\n",
    "print(\"Date_patterns :\", Date_patterns)\n",
    "matcher = PhraseMatcher(nlp.vocab)\n",
    "matcher.add(\"DATE\", None, *Date_patterns)\n",
    "\n",
    "# Définis le composant personnalisé\n",
    "def Date_component(doc):\n",
    "    # Applique le matcher au doc\n",
    "    matches = matcher(doc)\n",
    "    # Crée un Span pour chaque correspondance et assigne-lui le label \"ANIMAL\"\n",
    "    spans = [Span(doc, start, end, label=\"DATE\") for match_id, start, end in matches]\n",
    "    # Actualise doc.ents avec les spans en correspondance\n",
    "    doc.ents = list(doc.ents) + spans\n",
    "    return doc\n",
    "\n",
    "# Ajoute le composant au pipeline après le composant \"ner\"\n",
    "nlp.add_pipe(Date_component, after=\"ner\")\n",
    "print(nlp.pipe_names)\n"
   ]
  },
  {
   "cell_type": "code",
   "execution_count": 59,
   "metadata": {},
   "outputs": [
    {
     "name": "stdout",
     "output_type": "stream",
     "text": [
      "[('Golden Retriever', 'MISC'), ('mars', 'DATE')]\n"
     ]
    }
   ],
   "source": [
    "# Traite le texte et affiche le texte et le label pour les doc.ents\n",
    "doc = nlp(\"J'ai un chat et un Golden Retriever le 22 mars 2021\")\n",
    "print([(ent.text, ent.label_) for ent in doc.ents])"
   ]
  }
 ],
 "metadata": {
  "kernelspec": {
   "display_name": "Python 3",
   "language": "python",
   "name": "python3"
  },
  "language_info": {
   "codemirror_mode": {
    "name": "ipython",
    "version": 3
   },
   "file_extension": ".py",
   "mimetype": "text/x-python",
   "name": "python",
   "nbconvert_exporter": "python",
   "pygments_lexer": "ipython3",
   "version": "3.8.3"
  }
 },
 "nbformat": 4,
 "nbformat_minor": 4
}
