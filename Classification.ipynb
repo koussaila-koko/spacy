{
 "cells": [
  {
   "cell_type": "code",
   "execution_count": 1,
   "metadata": {},
   "outputs": [],
   "source": [
    "import numpy as np\n",
    "import pandas as pd\n",
    "from matplotlib import pyplot as plt\n",
    "from sklearn.model_selection import train_test_split\n",
    "from sklearn.metrics import f1_score, confusion_matrix, classification_report, plot_confusion_matrix\n",
    "from sklearn.svm import SVC\n",
    "from sklearn.tree import DecisionTreeClassifier\n",
    "from sklearn.linear_model import LogisticRegression\n",
    "\n",
    "import fr_core_news_md\n",
    "nlp = fr_core_news_md.load()"
   ]
  },
  {
   "cell_type": "code",
   "execution_count": 2,
   "metadata": {},
   "outputs": [],
   "source": [
    "# Chargement des données\n",
    "df = pd.read_csv (\"Surligneur.tsv\", sep=\"\\t\")"
   ]
  },
  {
   "cell_type": "code",
   "execution_count": 3,
   "metadata": {},
   "outputs": [
    {
     "data": {
      "text/html": [
       "<div>\n",
       "<style scoped>\n",
       "    .dataframe tbody tr th:only-of-type {\n",
       "        vertical-align: middle;\n",
       "    }\n",
       "\n",
       "    .dataframe tbody tr th {\n",
       "        vertical-align: top;\n",
       "    }\n",
       "\n",
       "    .dataframe thead th {\n",
       "        text-align: right;\n",
       "    }\n",
       "</style>\n",
       "<table border=\"1\" class=\"dataframe\">\n",
       "  <thead>\n",
       "    <tr style=\"text-align: right;\">\n",
       "      <th></th>\n",
       "      <th>surligneurs</th>\n",
       "      <th>catégorie</th>\n",
       "    </tr>\n",
       "  </thead>\n",
       "  <tbody>\n",
       "    <tr>\n",
       "      <th>0</th>\n",
       "      <td>Alors que la ministre de l'Enseignement supéri...</td>\n",
       "      <td>education</td>\n",
       "    </tr>\n",
       "    <tr>\n",
       "      <th>1</th>\n",
       "      <td>L’enseignement des langues à l’école relève du...</td>\n",
       "      <td>education</td>\n",
       "    </tr>\n",
       "    <tr>\n",
       "      <th>2</th>\n",
       "      <td>Les présidents d’universités, en tant qu’ensei...</td>\n",
       "      <td>education</td>\n",
       "    </tr>\n",
       "    <tr>\n",
       "      <th>3</th>\n",
       "      <td>Ce décret est issu d’un accord du 31 mars 2017...</td>\n",
       "      <td>education</td>\n",
       "    </tr>\n",
       "    <tr>\n",
       "      <th>4</th>\n",
       "      <td>L’état du droit ne permet pas actuellement d’i...</td>\n",
       "      <td>education</td>\n",
       "    </tr>\n",
       "  </tbody>\n",
       "</table>\n",
       "</div>"
      ],
      "text/plain": [
       "                                         surligneurs  catégorie\n",
       "0  Alors que la ministre de l'Enseignement supéri...  education\n",
       "1  L’enseignement des langues à l’école relève du...  education\n",
       "2  Les présidents d’universités, en tant qu’ensei...  education\n",
       "3  Ce décret est issu d’un accord du 31 mars 2017...  education\n",
       "4  L’état du droit ne permet pas actuellement d’i...  education"
      ]
     },
     "execution_count": 3,
     "metadata": {},
     "output_type": "execute_result"
    }
   ],
   "source": [
    "df.head()"
   ]
  },
  {
   "cell_type": "markdown",
   "metadata": {},
   "source": [
    "# Fontion de nétoyage du texte"
   ]
  },
  {
   "cell_type": "code",
   "execution_count": 4,
   "metadata": {},
   "outputs": [],
   "source": [
    "def clean_text(text):\n",
    "    # conversion de texte en minuscules\n",
    "    text = text.strip().lower()\n",
    "    \n",
    "    # Suppression des pentuation, des espaces et les stop words \n",
    "    noStopWordsnoPunct = [token for token in nlp(text) if not token.is_punct | token.is_space \n",
    "                                                                          | token.is_stop]\n",
    "    \n",
    "    doc = nlp(' '.join([tokens.text for tokens in noStopWordsnoPunct]))\n",
    "    return doc"
   ]
  },
  {
   "cell_type": "markdown",
   "metadata": {},
   "source": [
    "# Fonction de vectorisation "
   ]
  },
  {
   "cell_type": "code",
   "execution_count": 5,
   "metadata": {
    "scrolled": true
   },
   "outputs": [],
   "source": [
    "def get_vecteur(text):\n",
    "    # Nétoyage du text.\n",
    "    doc = clean_text(text)\n",
    "    \n",
    "    vec = doc.vector\n",
    "    return vec"
   ]
  },
  {
   "cell_type": "markdown",
   "metadata": {},
   "source": [
    "# Appliquer la vectorisation sur notre data set."
   ]
  },
  {
   "cell_type": "code",
   "execution_count": 6,
   "metadata": {},
   "outputs": [],
   "source": [
    "df['surligneurs'] = df['surligneurs'].apply(lambda x: get_vecteur(x))"
   ]
  },
  {
   "cell_type": "code",
   "execution_count": 7,
   "metadata": {},
   "outputs": [
    {
     "data": {
      "text/html": [
       "<div>\n",
       "<style scoped>\n",
       "    .dataframe tbody tr th:only-of-type {\n",
       "        vertical-align: middle;\n",
       "    }\n",
       "\n",
       "    .dataframe tbody tr th {\n",
       "        vertical-align: top;\n",
       "    }\n",
       "\n",
       "    .dataframe thead th {\n",
       "        text-align: right;\n",
       "    }\n",
       "</style>\n",
       "<table border=\"1\" class=\"dataframe\">\n",
       "  <thead>\n",
       "    <tr style=\"text-align: right;\">\n",
       "      <th></th>\n",
       "      <th>surligneurs</th>\n",
       "      <th>catégorie</th>\n",
       "    </tr>\n",
       "  </thead>\n",
       "  <tbody>\n",
       "    <tr>\n",
       "      <th>0</th>\n",
       "      <td>[0.4827314, -0.42155668, -0.50304383, 1.764819...</td>\n",
       "      <td>education</td>\n",
       "    </tr>\n",
       "    <tr>\n",
       "      <th>1</th>\n",
       "      <td>[-0.136676, 0.15048926, 0.1939364, 1.3356192, ...</td>\n",
       "      <td>education</td>\n",
       "    </tr>\n",
       "    <tr>\n",
       "      <th>2</th>\n",
       "      <td>[0.06934749, 0.29645643, 0.3573029, 1.2708311,...</td>\n",
       "      <td>education</td>\n",
       "    </tr>\n",
       "    <tr>\n",
       "      <th>3</th>\n",
       "      <td>[-0.2537696, 0.7285733, -0.22208671, 2.023071,...</td>\n",
       "      <td>education</td>\n",
       "    </tr>\n",
       "    <tr>\n",
       "      <th>4</th>\n",
       "      <td>[0.55898196, -0.38768247, 0.12921524, 1.318892...</td>\n",
       "      <td>education</td>\n",
       "    </tr>\n",
       "  </tbody>\n",
       "</table>\n",
       "</div>"
      ],
      "text/plain": [
       "                                         surligneurs  catégorie\n",
       "0  [0.4827314, -0.42155668, -0.50304383, 1.764819...  education\n",
       "1  [-0.136676, 0.15048926, 0.1939364, 1.3356192, ...  education\n",
       "2  [0.06934749, 0.29645643, 0.3573029, 1.2708311,...  education\n",
       "3  [-0.2537696, 0.7285733, -0.22208671, 2.023071,...  education\n",
       "4  [0.55898196, -0.38768247, 0.12921524, 1.318892...  education"
      ]
     },
     "execution_count": 7,
     "metadata": {},
     "output_type": "execute_result"
    }
   ],
   "source": [
    "df.head()"
   ]
  },
  {
   "cell_type": "markdown",
   "metadata": {},
   "source": [
    "# Entraînement du Model Machine learning."
   ]
  },
  {
   "cell_type": "code",
   "execution_count": 74,
   "metadata": {},
   "outputs": [],
   "source": [
    "X = df['surligneurs'].to_numpy()\n",
    "X = X.reshape(-1, 1)\n",
    "X = np.concatenate(np.concatenate(X, axis = 0), axis = 0).reshape(-1, 300)\n",
    "y = df['catégorie']\n",
    "\n",
    "X_train, X_test, y_train, y_test = train_test_split(X, y, test_size = 0.3, random_state = 0, stratify = y)"
   ]
  },
  {
   "cell_type": "code",
   "execution_count": 75,
   "metadata": {},
   "outputs": [
    {
     "data": {
      "text/plain": [
       "((9, 300), (5, 300))"
      ]
     },
     "execution_count": 75,
     "metadata": {},
     "output_type": "execute_result"
    }
   ],
   "source": [
    "X_train.shape, X_test.shape"
   ]
  },
  {
   "cell_type": "markdown",
   "metadata": {},
   "source": [
    "# affichage de confusion_matrix"
   ]
  },
  {
   "cell_type": "code",
   "execution_count": 76,
   "metadata": {},
   "outputs": [],
   "source": [
    "def plot_confusion_matrix1(model):\n",
    "    matrix = plot_confusion_matrix(model, X_test, y_test, cmap=\"Blues\")\n",
    "    plt.xlabel('Predicted Label', color = 'black')\n",
    "    plt.ylabel('True Label',color = 'black')\n",
    "    plt.gcf().axes[0].tick_params(colors = 'black')\n",
    "    plt.gcf().axes[1].tick_params(colors = 'black')\n",
    "    plt.gcf().set_size_inches(3,2)\n",
    "    plt.show"
   ]
  },
  {
   "cell_type": "code",
   "execution_count": 77,
   "metadata": {},
   "outputs": [
    {
     "name": "stdout",
     "output_type": "stream",
     "text": [
      "score :  0.8\n",
      "              precision    recall  f1-score   support\n",
      "\n",
      " criminalite       1.00      0.67      0.80         3\n",
      "   education       0.67      1.00      0.80         2\n",
      "\n",
      "    accuracy                           0.80         5\n",
      "   macro avg       0.83      0.83      0.80         5\n",
      "weighted avg       0.87      0.80      0.80         5\n",
      "\n"
     ]
    },
    {
     "data": {
      "image/png": "[encoded data removed]",
      "text/plain": [
       "<Figure size 216x144 with 2 Axes>"
      ]
     },
     "metadata": {
      "needs_background": "light"
     },
     "output_type": "display_data"
    }
   ],
   "source": [
    "Log = LogisticRegression(solver='liblinear')\n",
    "Log.fit(X_train, y_train)\n",
    "y_pred = Log.predict(X_test)\n",
    "print(\"score : \", Log.score(X_test, y_test))\n",
    "print(classification_report(y_test, y_pred))\n",
    "plot_confusion_matrix1(Log)"
   ]
  },
  {
   "cell_type": "code",
   "execution_count": 79,
   "metadata": {},
   "outputs": [
    {
     "name": "stdout",
     "output_type": "stream",
     "text": [
      "score :  0.6\n",
      "              precision    recall  f1-score   support\n",
      "\n",
      " criminalite       0.67      0.67      0.67         3\n",
      "   education       0.50      0.50      0.50         2\n",
      "\n",
      "    accuracy                           0.60         5\n",
      "   macro avg       0.58      0.58      0.58         5\n",
      "weighted avg       0.60      0.60      0.60         5\n",
      "\n"
     ]
    },
    {
     "data": {
      "image/png": "[encoded data removed]",
      "text/plain": [
       "<Figure size 216x144 with 2 Axes>"
      ]
     },
     "metadata": {
      "needs_background": "light"
     },
     "output_type": "display_data"
    }
   ],
   "source": [
    "from sklearn.ensemble import AdaBoostClassifier\n",
    "ada_clf = AdaBoostClassifier(DecisionTreeClassifier(), n_estimators=40,algorithm=\"SAMME.R\",learning_rate=0.3)\n",
    "ada_clf.fit(X_train, y_train)\n",
    "y_pred = ada_clf.predict(X_test)\n",
    "print(classification_report(y_test, y_pred))\n",
    "plot_confusion_matrix1(ada_clf)"
   ]
  },
  {
   "cell_type": "code",
   "execution_count": 64,
   "metadata": {},
   "outputs": [
    {
     "name": "stdout",
     "output_type": "stream",
     "text": [
      "score :  0.6\n",
      "              precision    recall  f1-score   support\n",
      "\n",
      " criminalite       0.67      0.67      0.67         3\n",
      "   education       0.50      0.50      0.50         2\n",
      "\n",
      "    accuracy                           0.60         5\n",
      "   macro avg       0.58      0.58      0.58         5\n",
      "weighted avg       0.60      0.60      0.60         5\n",
      "\n"
     ]
    },
    {
     "data": {
      "image/png": "[encoded data removed]",
      "text/plain": [
       "<Figure size 216x144 with 2 Axes>"
      ]
     },
     "metadata": {
      "needs_background": "light"
     },
     "output_type": "display_data"
    }
   ],
   "source": [
    "from sklearn.ensemble import RandomForestClassifier\n",
    "clfRandomForestClassifier = RandomForestClassifier(n_estimators=50)\n",
    "clfRandomForestClassifier.fit(X_train, y_train)\n",
    "y_pred = clfRandomForestClassifier.predict(X_test)\n",
    "print(\"score : \", clfRandomForestClassifier.score(X_test, y_test))\n",
    "print(classification_report(y_test, y_pred))\n",
    "plot_confusion_matrix1(clfRandomForestClassifier)"
   ]
  },
  {
   "cell_type": "code",
   "execution_count": 66,
   "metadata": {},
   "outputs": [
    {
     "name": "stdout",
     "output_type": "stream",
     "text": [
      "score :  0.8\n",
      "              precision    recall  f1-score   support\n",
      "\n",
      " criminalite       1.00      0.67      0.80         3\n",
      "   education       0.67      1.00      0.80         2\n",
      "\n",
      "    accuracy                           0.80         5\n",
      "   macro avg       0.83      0.83      0.80         5\n",
      "weighted avg       0.87      0.80      0.80         5\n",
      "\n"
     ]
    },
    {
     "data": {
      "image/png": "[encoded data removed]",
      "text/plain": [
       "<Figure size 216x144 with 2 Axes>"
      ]
     },
     "metadata": {
      "needs_background": "light"
     },
     "output_type": "display_data"
    }
   ],
   "source": [
    "clf20 = RandomForestClassifier(n_estimators=50, max_depth=20)\n",
    "clf20.fit(X_train, y_train)\n",
    "y_pred = clf20.predict(X_test)\n",
    "print(\"score : \", clf20.score(X_test, y_test))\n",
    "print(classification_report(y_test, y_pred))\n",
    "plot_confusion_matrix1(clf20)"
   ]
  },
  {
   "cell_type": "markdown",
   "metadata": {},
   "source": [
    "# Sauvgarder le model "
   ]
  },
  {
   "cell_type": "code",
   "execution_count": 67,
   "metadata": {},
   "outputs": [],
   "source": [
    "import pickle\n",
    "pickle.dump(clf20, open('categorie.pkl', 'wb'))"
   ]
  },
  {
   "cell_type": "markdown",
   "metadata": {},
   "source": [
    "# Chargement du model"
   ]
  },
  {
   "cell_type": "code",
   "execution_count": 68,
   "metadata": {},
   "outputs": [],
   "source": [
    "model = pickle.load(open('categorie.pkl', 'rb'))\n",
    "import sklearn"
   ]
  },
  {
   "cell_type": "markdown",
   "metadata": {},
   "source": [
    "# Tester le model sur de nouveau surligneurs "
   ]
  },
  {
   "cell_type": "code",
   "execution_count": 69,
   "metadata": {},
   "outputs": [],
   "source": [
    "def test_classification(surligneur):\n",
    "    vec = get_vecteur(surligneur)\n",
    "    print(model.predict(vec.reshape(1, -1)))"
   ]
  },
  {
   "cell_type": "code",
   "execution_count": 70,
   "metadata": {},
   "outputs": [
    {
     "name": "stdout",
     "output_type": "stream",
     "text": [
      "['education']\n"
     ]
    }
   ],
   "source": [
    "# surligneur education\n",
    "test_classification('Les textes existent pour permettre à l’éducation nationale de prendre au mieux en considération le handicap (quel qu’il soit) de ses agents et leur proposer des solutions adaptées.')"
   ]
  },
  {
   "cell_type": "code",
   "execution_count": 71,
   "metadata": {},
   "outputs": [
    {
     "name": "stdout",
     "output_type": "stream",
     "text": [
      "['criminalite']\n"
     ]
    }
   ],
   "source": [
    "# surligneur criminalite\n",
    "test_classification('Les violences sexistes et sexuelles sont heureusement condamnées par la loi en France mais seul le viol ou des infractions répétées de la part d’un étranger pourrait engendrer son expulsion, sauf si son pays d’origine ne présente un danger pour sa vie.')"
   ]
  },
  {
   "cell_type": "code",
   "execution_count": 72,
   "metadata": {},
   "outputs": [
    {
     "name": "stdout",
     "output_type": "stream",
     "text": [
      "['education']\n"
     ]
    }
   ],
   "source": [
    "# surligneur education\n",
    "test_classification('Le maire de Bordeaux ne pourra pas obliger les habitants de sa ville à porter un masque en l’absence de raison impérieuse propre à sa commune. La loi d’urgence sanitaire habilite le seul Gouvernement et les préfets à prendre des mesures de lutte contre le covid-19, et non les maires. Le Conseil d État l’a déjà jugé à propos d’un arrêté à Sceaux.')"
   ]
  },
  {
   "cell_type": "code",
   "execution_count": null,
   "metadata": {},
   "outputs": [],
   "source": []
  },
  {
   "cell_type": "code",
   "execution_count": null,
   "metadata": {},
   "outputs": [],
   "source": []
  }
 ],
 "metadata": {
  "kernelspec": {
   "display_name": "Python 3",
   "language": "python",
   "name": "python3"
  },
  "language_info": {
   "codemirror_mode": {
    "name": "ipython",
    "version": 3
   },
   "file_extension": ".py",
   "mimetype": "text/x-python",
   "name": "python",
   "nbconvert_exporter": "python",
   "pygments_lexer": "ipython3",
   "version": "3.8.5"
  }
 },
 "nbformat": 4,
 "nbformat_minor": 4
}
